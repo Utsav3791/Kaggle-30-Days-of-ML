{
 "cells": [
  {
   "cell_type": "markdown",
   "id": "eed4069b",
   "metadata": {
    "papermill": {
     "duration": 0.016613,
     "end_time": "2021-08-28T09:20:54.182463",
     "exception": false,
     "start_time": "2021-08-28T09:20:54.165850",
     "status": "completed"
    },
    "tags": []
   },
   "source": [
    "**This notebook is an exercise in the [Intermediate Machine Learning](https://www.kaggle.com/learn/intermediate-machine-learning) course.  You can reference the tutorial at [this link](https://www.kaggle.com/alexisbcook/xgboost).**\n",
    "\n",
    "---\n"
   ]
  },
  {
   "cell_type": "markdown",
   "id": "0c23fffc",
   "metadata": {
    "papermill": {
     "duration": 0.015268,
     "end_time": "2021-08-28T09:20:54.213818",
     "exception": false,
     "start_time": "2021-08-28T09:20:54.198550",
     "status": "completed"
    },
    "tags": []
   },
   "source": [
    "In this exercise, you will use your new knowledge to train a model with **gradient boosting**.\n",
    "\n",
    "# Setup\n",
    "\n",
    "The questions below will give you feedback on your work. Run the following cell to set up the feedback system."
   ]
  },
  {
   "cell_type": "code",
   "execution_count": 1,
   "id": "ebed4bc4",
   "metadata": {
    "execution": {
     "iopub.execute_input": "2021-08-28T09:20:54.272186Z",
     "iopub.status.busy": "2021-08-28T09:20:54.271319Z",
     "iopub.status.idle": "2021-08-28T09:20:56.678287Z",
     "shell.execute_reply": "2021-08-28T09:20:56.679534Z",
     "shell.execute_reply.started": "2021-08-28T09:19:55.138865Z"
    },
    "papermill": {
     "duration": 2.447762,
     "end_time": "2021-08-28T09:20:56.679975",
     "exception": false,
     "start_time": "2021-08-28T09:20:54.232213",
     "status": "completed"
    },
    "tags": []
   },
   "outputs": [
    {
     "name": "stdout",
     "output_type": "stream",
     "text": [
      "Setup Complete\n"
     ]
    }
   ],
   "source": [
    "# Set up code checking\n",
    "import os\n",
    "if not os.path.exists(\"../input/train.csv\"):\n",
    "    os.symlink(\"../input/home-data-for-ml-course/train.csv\", \"../input/train.csv\")  \n",
    "    os.symlink(\"../input/home-data-for-ml-course/test.csv\", \"../input/test.csv\") \n",
    "from learntools.core import binder\n",
    "binder.bind(globals())\n",
    "from learntools.ml_intermediate.ex6 import *\n",
    "print(\"Setup Complete\")"
   ]
  },
  {
   "cell_type": "markdown",
   "id": "0d2fcc78",
   "metadata": {
    "papermill": {
     "duration": 0.016697,
     "end_time": "2021-08-28T09:20:56.714333",
     "exception": false,
     "start_time": "2021-08-28T09:20:56.697636",
     "status": "completed"
    },
    "tags": []
   },
   "source": [
    "You will work with the [Housing Prices Competition for Kaggle Learn Users](https://www.kaggle.com/c/home-data-for-ml-course) dataset from the previous exercise. \n",
    "\n",
    "![Ames Housing dataset image](https://i.imgur.com/lTJVG4e.png)\n",
    "\n",
    "Run the next code cell without changes to load the training and validation sets in `X_train`, `X_valid`, `y_train`, and `y_valid`.  The test set is loaded in `X_test`."
   ]
  },
  {
   "cell_type": "code",
   "execution_count": 2,
   "id": "6734a7a6",
   "metadata": {
    "execution": {
     "iopub.execute_input": "2021-08-28T09:20:56.762115Z",
     "iopub.status.busy": "2021-08-28T09:20:56.760652Z",
     "iopub.status.idle": "2021-08-28T09:20:56.996698Z",
     "shell.execute_reply": "2021-08-28T09:20:56.996106Z",
     "shell.execute_reply.started": "2021-08-28T09:19:57.318630Z"
    },
    "papermill": {
     "duration": 0.265466,
     "end_time": "2021-08-28T09:20:56.996973",
     "exception": false,
     "start_time": "2021-08-28T09:20:56.731507",
     "status": "completed"
    },
    "tags": []
   },
   "outputs": [],
   "source": [
    "import pandas as pd\n",
    "from sklearn.model_selection import train_test_split\n",
    "\n",
    "# Read the data\n",
    "X = pd.read_csv('../input/train.csv', index_col='Id')\n",
    "X_test_full = pd.read_csv('../input/test.csv', index_col='Id')\n",
    "\n",
    "# Remove rows with missing target, separate target from predictors\n",
    "X.dropna(axis=0, subset=['SalePrice'], inplace=True)\n",
    "y = X.SalePrice              \n",
    "X.drop(['SalePrice'], axis=1, inplace=True)\n",
    "\n",
    "# Break off validation set from training data\n",
    "X_train_full, X_valid_full, y_train, y_valid = train_test_split(X, y, train_size=0.8, test_size=0.2,\n",
    "                                                                random_state=0)\n",
    "\n",
    "# \"Cardinality\" means the number of unique values in a column\n",
    "# Select categorical columns with relatively low cardinality (convenient but arbitrary)\n",
    "low_cardinality_cols = [cname for cname in X_train_full.columns if X_train_full[cname].nunique() < 10 and \n",
    "                        X_train_full[cname].dtype == \"object\"]\n",
    "\n",
    "# Select numeric columns\n",
    "numeric_cols = [cname for cname in X_train_full.columns if X_train_full[cname].dtype in ['int64', 'float64']]\n",
    "\n",
    "# Keep selected columns only\n",
    "my_cols = low_cardinality_cols + numeric_cols\n",
    "X_train = X_train_full[my_cols].copy()\n",
    "X_valid = X_valid_full[my_cols].copy()\n",
    "X_test = X_test_full[my_cols].copy()\n",
    "\n",
    "# One-hot encode the data (to shorten the code, we use pandas)\n",
    "X_train = pd.get_dummies(X_train)\n",
    "X_valid = pd.get_dummies(X_valid)\n",
    "X_test = pd.get_dummies(X_test)\n",
    "X_train, X_valid = X_train.align(X_valid, join='left', axis=1)\n",
    "X_train, X_test = X_train.align(X_test, join='left', axis=1)"
   ]
  },
  {
   "cell_type": "markdown",
   "id": "4d66eea2",
   "metadata": {
    "papermill": {
     "duration": 0.016612,
     "end_time": "2021-08-28T09:20:57.033807",
     "exception": false,
     "start_time": "2021-08-28T09:20:57.017195",
     "status": "completed"
    },
    "tags": []
   },
   "source": [
    "# Step 1: Build model\n",
    "\n",
    "### Part A\n",
    "\n",
    "In this step, you'll build and train your first model with gradient boosting.\n",
    "\n",
    "- Begin by setting `my_model_1` to an XGBoost model.  Use the [XGBRegressor](https://xgboost.readthedocs.io/en/latest/python/python_api.html#xgboost.XGBRegressor) class, and set the random seed to 0 (`random_state=0`).  **Leave all other parameters as default.**\n",
    "- Then, fit the model to the training data in `X_train` and `y_train`."
   ]
  },
  {
   "cell_type": "code",
   "execution_count": 3,
   "id": "5f236cab",
   "metadata": {
    "execution": {
     "iopub.execute_input": "2021-08-28T09:20:57.080397Z",
     "iopub.status.busy": "2021-08-28T09:20:57.072400Z",
     "iopub.status.idle": "2021-08-28T09:20:57.862110Z",
     "shell.execute_reply": "2021-08-28T09:20:57.861395Z",
     "shell.execute_reply.started": "2021-08-28T09:19:57.574344Z"
    },
    "papermill": {
     "duration": 0.811992,
     "end_time": "2021-08-28T09:20:57.862273",
     "exception": false,
     "start_time": "2021-08-28T09:20:57.050281",
     "status": "completed"
    },
    "tags": []
   },
   "outputs": [
    {
     "data": {
      "application/javascript": [
       "parent.postMessage({\"jupyterEvent\": \"custom.exercise_interaction\", \"data\": {\"outcomeType\": 1, \"valueTowardsCompletion\": 0.5, \"interactionType\": 1, \"questionType\": 2, \"questionId\": \"1.1_Model1A\", \"learnToolsVersion\": \"0.3.4\", \"failureMessage\": \"\", \"exceptionClass\": \"\", \"trace\": \"\"}}, \"*\")"
      ],
      "text/plain": [
       "<IPython.core.display.Javascript object>"
      ]
     },
     "metadata": {},
     "output_type": "display_data"
    },
    {
     "data": {
      "text/markdown": [
       "<span style=\"color:#33cc33\">Correct</span>"
      ],
      "text/plain": [
       "Correct"
      ]
     },
     "metadata": {},
     "output_type": "display_data"
    }
   ],
   "source": [
    "from xgboost import XGBRegressor\n",
    "\n",
    "# Define the model\n",
    "my_model_1 = XGBRegressor(random_state=0)\n",
    "\n",
    "# Fit the model\n",
    "my_model_1.fit(X_train, y_train)\n",
    "\n",
    "# Check your answer\n",
    "step_1.a.check()"
   ]
  },
  {
   "cell_type": "code",
   "execution_count": 4,
   "id": "38916fe6",
   "metadata": {
    "execution": {
     "iopub.execute_input": "2021-08-28T09:20:57.904504Z",
     "iopub.status.busy": "2021-08-28T09:20:57.903764Z",
     "iopub.status.idle": "2021-08-28T09:20:57.906672Z",
     "shell.execute_reply": "2021-08-28T09:20:57.907284Z",
     "shell.execute_reply.started": "2021-08-28T09:19:58.435568Z"
    },
    "papermill": {
     "duration": 0.026394,
     "end_time": "2021-08-28T09:20:57.907512",
     "exception": false,
     "start_time": "2021-08-28T09:20:57.881118",
     "status": "completed"
    },
    "tags": []
   },
   "outputs": [],
   "source": [
    "# Lines below will give you a hint or solution code\n",
    "#step_1.a.hint()\n",
    "#step_1.a.solution()"
   ]
  },
  {
   "cell_type": "markdown",
   "id": "b2ad6b70",
   "metadata": {
    "papermill": {
     "duration": 0.018472,
     "end_time": "2021-08-28T09:20:57.945059",
     "exception": false,
     "start_time": "2021-08-28T09:20:57.926587",
     "status": "completed"
    },
    "tags": []
   },
   "source": [
    "### Part B\n",
    "\n",
    "Set `predictions_1` to the model's predictions for the validation data.  Recall that the validation features are stored in `X_valid`."
   ]
  },
  {
   "cell_type": "code",
   "execution_count": 5,
   "id": "c47ed3ea",
   "metadata": {
    "execution": {
     "iopub.execute_input": "2021-08-28T09:20:57.985709Z",
     "iopub.status.busy": "2021-08-28T09:20:57.984994Z",
     "iopub.status.idle": "2021-08-28T09:20:58.005862Z",
     "shell.execute_reply": "2021-08-28T09:20:58.006502Z",
     "shell.execute_reply.started": "2021-08-28T09:19:58.441051Z"
    },
    "papermill": {
     "duration": 0.043309,
     "end_time": "2021-08-28T09:20:58.006762",
     "exception": false,
     "start_time": "2021-08-28T09:20:57.963453",
     "status": "completed"
    },
    "tags": []
   },
   "outputs": [
    {
     "data": {
      "application/javascript": [
       "parent.postMessage({\"jupyterEvent\": \"custom.exercise_interaction\", \"data\": {\"outcomeType\": 1, \"valueTowardsCompletion\": 0.5, \"interactionType\": 1, \"questionType\": 2, \"questionId\": \"1.2_Model1B\", \"learnToolsVersion\": \"0.3.4\", \"failureMessage\": \"\", \"exceptionClass\": \"\", \"trace\": \"\"}}, \"*\")"
      ],
      "text/plain": [
       "<IPython.core.display.Javascript object>"
      ]
     },
     "metadata": {},
     "output_type": "display_data"
    },
    {
     "data": {
      "text/markdown": [
       "<span style=\"color:#33cc33\">Correct</span>"
      ],
      "text/plain": [
       "Correct"
      ]
     },
     "metadata": {},
     "output_type": "display_data"
    }
   ],
   "source": [
    "from sklearn.metrics import mean_absolute_error\n",
    "\n",
    "# Get predictions\n",
    "predictions_1 = my_model_1.predict(X_valid)\n",
    "\n",
    "# Check your answer\n",
    "step_1.b.check()"
   ]
  },
  {
   "cell_type": "code",
   "execution_count": 6,
   "id": "a06af4f0",
   "metadata": {
    "execution": {
     "iopub.execute_input": "2021-08-28T09:20:58.050846Z",
     "iopub.status.busy": "2021-08-28T09:20:58.049855Z",
     "iopub.status.idle": "2021-08-28T09:20:58.054081Z",
     "shell.execute_reply": "2021-08-28T09:20:58.053548Z",
     "shell.execute_reply.started": "2021-08-28T09:19:58.467897Z"
    },
    "papermill": {
     "duration": 0.027766,
     "end_time": "2021-08-28T09:20:58.054242",
     "exception": false,
     "start_time": "2021-08-28T09:20:58.026476",
     "status": "completed"
    },
    "tags": []
   },
   "outputs": [],
   "source": [
    "# Lines below will give you a hint or solution code\n",
    "#step_1.b.hint()\n",
    "#step_1.b.solution()"
   ]
  },
  {
   "cell_type": "markdown",
   "id": "ec1738ed",
   "metadata": {
    "papermill": {
     "duration": 0.018203,
     "end_time": "2021-08-28T09:20:58.091182",
     "exception": false,
     "start_time": "2021-08-28T09:20:58.072979",
     "status": "completed"
    },
    "tags": []
   },
   "source": [
    "### Part C\n",
    "\n",
    "Finally, use the `mean_absolute_error()` function to calculate the mean absolute error (MAE) corresponding to the predictions for the validation set.  Recall that the labels for the validation data are stored in `y_valid`."
   ]
  },
  {
   "cell_type": "code",
   "execution_count": 7,
   "id": "7c8c58f6",
   "metadata": {
    "execution": {
     "iopub.execute_input": "2021-08-28T09:20:58.136375Z",
     "iopub.status.busy": "2021-08-28T09:20:58.135033Z",
     "iopub.status.idle": "2021-08-28T09:20:58.145853Z",
     "shell.execute_reply": "2021-08-28T09:20:58.145325Z",
     "shell.execute_reply.started": "2021-08-28T09:19:58.478933Z"
    },
    "papermill": {
     "duration": 0.036258,
     "end_time": "2021-08-28T09:20:58.146004",
     "exception": false,
     "start_time": "2021-08-28T09:20:58.109746",
     "status": "completed"
    },
    "tags": []
   },
   "outputs": [
    {
     "name": "stdout",
     "output_type": "stream",
     "text": [
      "Mean Absolute Error: 17662.736729452055\n"
     ]
    },
    {
     "data": {
      "application/javascript": [
       "parent.postMessage({\"jupyterEvent\": \"custom.exercise_interaction\", \"data\": {\"outcomeType\": 1, \"valueTowardsCompletion\": 0.5, \"interactionType\": 1, \"questionType\": 2, \"questionId\": \"1.3_Model1C\", \"learnToolsVersion\": \"0.3.4\", \"failureMessage\": \"\", \"exceptionClass\": \"\", \"trace\": \"\"}}, \"*\")"
      ],
      "text/plain": [
       "<IPython.core.display.Javascript object>"
      ]
     },
     "metadata": {},
     "output_type": "display_data"
    },
    {
     "data": {
      "text/markdown": [
       "<span style=\"color:#33cc33\">Correct</span>"
      ],
      "text/plain": [
       "Correct"
      ]
     },
     "metadata": {},
     "output_type": "display_data"
    }
   ],
   "source": [
    "# Calculate MAE\n",
    "mae_1 = mean_absolute_error(y_valid, predictions_1)\n",
    "\n",
    "# Uncomment to print MAE\n",
    "print(\"Mean Absolute Error:\" , mae_1)\n",
    "\n",
    "# Check your answer\n",
    "step_1.c.check()"
   ]
  },
  {
   "cell_type": "code",
   "execution_count": 8,
   "id": "6a7d8e31",
   "metadata": {
    "execution": {
     "iopub.execute_input": "2021-08-28T09:20:58.189943Z",
     "iopub.status.busy": "2021-08-28T09:20:58.189223Z",
     "iopub.status.idle": "2021-08-28T09:20:58.192212Z",
     "shell.execute_reply": "2021-08-28T09:20:58.191647Z",
     "shell.execute_reply.started": "2021-08-28T09:19:58.491930Z"
    },
    "papermill": {
     "duration": 0.026466,
     "end_time": "2021-08-28T09:20:58.192377",
     "exception": false,
     "start_time": "2021-08-28T09:20:58.165911",
     "status": "completed"
    },
    "tags": []
   },
   "outputs": [],
   "source": [
    "# Lines below will give you a hint or solution code\n",
    "#step_1.c.hint()\n",
    "#step_1.c.solution()"
   ]
  },
  {
   "cell_type": "markdown",
   "id": "29ef0522",
   "metadata": {
    "papermill": {
     "duration": 0.019828,
     "end_time": "2021-08-28T09:20:58.232992",
     "exception": false,
     "start_time": "2021-08-28T09:20:58.213164",
     "status": "completed"
    },
    "tags": []
   },
   "source": [
    "# Step 2: Improve the model\n",
    "\n",
    "Now that you've trained a default model as baseline, it's time to tinker with the parameters, to see if you can get better performance!\n",
    "- Begin by setting `my_model_2` to an XGBoost model, using the [XGBRegressor](https://xgboost.readthedocs.io/en/latest/python/python_api.html#xgboost.XGBRegressor) class.  Use what you learned in the previous tutorial to figure out how to change the default parameters (like `n_estimators` and `learning_rate`) to get better results.\n",
    "- Then, fit the model to the training data in `X_train` and `y_train`.\n",
    "- Set `predictions_2` to the model's predictions for the validation data.  Recall that the validation features are stored in `X_valid`.\n",
    "- Finally, use the `mean_absolute_error()` function to calculate the mean absolute error (MAE) corresponding to the predictions on the validation set.  Recall that the labels for the validation data are stored in `y_valid`.\n",
    "\n",
    "In order for this step to be marked correct, your model in `my_model_2` must attain lower MAE than the model in `my_model_1`. "
   ]
  },
  {
   "cell_type": "code",
   "execution_count": 9,
   "id": "e4246bc0",
   "metadata": {
    "execution": {
     "iopub.execute_input": "2021-08-28T09:20:58.296451Z",
     "iopub.status.busy": "2021-08-28T09:20:58.295383Z",
     "iopub.status.idle": "2021-08-28T09:21:05.519710Z",
     "shell.execute_reply": "2021-08-28T09:21:05.520315Z",
     "shell.execute_reply.started": "2021-08-28T09:19:58.497932Z"
    },
    "papermill": {
     "duration": 7.26727,
     "end_time": "2021-08-28T09:21:05.520530",
     "exception": false,
     "start_time": "2021-08-28T09:20:58.253260",
     "status": "completed"
    },
    "tags": []
   },
   "outputs": [
    {
     "name": "stdout",
     "output_type": "stream",
     "text": [
      "Mean Absolute Error: 16688.691513270547\n"
     ]
    },
    {
     "data": {
      "application/javascript": [
       "parent.postMessage({\"jupyterEvent\": \"custom.exercise_interaction\", \"data\": {\"outcomeType\": 1, \"valueTowardsCompletion\": 0.5, \"interactionType\": 1, \"questionType\": 2, \"questionId\": \"2_Model2\", \"learnToolsVersion\": \"0.3.4\", \"failureMessage\": \"\", \"exceptionClass\": \"\", \"trace\": \"\"}}, \"*\")"
      ],
      "text/plain": [
       "<IPython.core.display.Javascript object>"
      ]
     },
     "metadata": {},
     "output_type": "display_data"
    },
    {
     "data": {
      "text/markdown": [
       "<span style=\"color:#33cc33\">Correct</span>"
      ],
      "text/plain": [
       "Correct"
      ]
     },
     "metadata": {},
     "output_type": "display_data"
    }
   ],
   "source": [
    "# Define the model\n",
    "my_model_2 = XGBRegressor(random_state=0, n_estimators=1000, learning_rate=0.05)\n",
    "\n",
    "# Fit the model\n",
    "my_model_2.fit(X_train, y_train)\n",
    "\n",
    "# Get predictions\n",
    "predictions_2 = my_model_2.predict(X_valid)\n",
    "\n",
    "# Calculate MAE\n",
    "mae_2 = mean_absolute_error(y_valid, predictions_2)\n",
    "\n",
    "# Uncomment to print MAE\n",
    "print(\"Mean Absolute Error:\" , mae_2)\n",
    "\n",
    "# Check your answer\n",
    "step_2.check()"
   ]
  },
  {
   "cell_type": "code",
   "execution_count": 10,
   "id": "ca22f3dd",
   "metadata": {
    "execution": {
     "iopub.execute_input": "2021-08-28T09:21:05.567745Z",
     "iopub.status.busy": "2021-08-28T09:21:05.567099Z",
     "iopub.status.idle": "2021-08-28T09:21:05.569189Z",
     "shell.execute_reply": "2021-08-28T09:21:05.569781Z",
     "shell.execute_reply.started": "2021-08-28T09:20:06.039342Z"
    },
    "papermill": {
     "duration": 0.027546,
     "end_time": "2021-08-28T09:21:05.569945",
     "exception": false,
     "start_time": "2021-08-28T09:21:05.542399",
     "status": "completed"
    },
    "tags": []
   },
   "outputs": [],
   "source": [
    "# Lines below will give you a hint or solution code\n",
    "#step_2.hint()\n",
    "#step_2.solution()"
   ]
  },
  {
   "cell_type": "markdown",
   "id": "69ee086f",
   "metadata": {
    "papermill": {
     "duration": 0.019851,
     "end_time": "2021-08-28T09:21:05.609970",
     "exception": false,
     "start_time": "2021-08-28T09:21:05.590119",
     "status": "completed"
    },
    "tags": []
   },
   "source": [
    "# Step 3: Break the model\n",
    "\n",
    "In this step, you will create a model that performs worse than the original model in Step 1.  This will help you to develop your intuition for how to set parameters.  You might even find that you accidentally get better performance, which is ultimately a nice problem to have and a valuable learning experience!\n",
    "- Begin by setting `my_model_3` to an XGBoost model, using the [XGBRegressor](https://xgboost.readthedocs.io/en/latest/python/python_api.html#xgboost.XGBRegressor) class.  Use what you learned in the previous tutorial to figure out how to change the default parameters (like `n_estimators` and `learning_rate`) to design a model to get high MAE.\n",
    "- Then, fit the model to the training data in `X_train` and `y_train`.\n",
    "- Set `predictions_3` to the model's predictions for the validation data.  Recall that the validation features are stored in `X_valid`.\n",
    "- Finally, use the `mean_absolute_error()` function to calculate the mean absolute error (MAE) corresponding to the predictions on the validation set.  Recall that the labels for the validation data are stored in `y_valid`.\n",
    "\n",
    "In order for this step to be marked correct, your model in `my_model_3` must attain higher MAE than the model in `my_model_1`. "
   ]
  },
  {
   "cell_type": "code",
   "execution_count": 11,
   "id": "9d25b0e8",
   "metadata": {
    "execution": {
     "iopub.execute_input": "2021-08-28T09:21:05.654833Z",
     "iopub.status.busy": "2021-08-28T09:21:05.654165Z",
     "iopub.status.idle": "2021-08-28T09:21:06.455944Z",
     "shell.execute_reply": "2021-08-28T09:21:06.454706Z",
     "shell.execute_reply.started": "2021-08-28T09:20:06.045927Z"
    },
    "papermill": {
     "duration": 0.826043,
     "end_time": "2021-08-28T09:21:06.456197",
     "exception": false,
     "start_time": "2021-08-28T09:21:05.630154",
     "status": "completed"
    },
    "tags": []
   },
   "outputs": [
    {
     "name": "stdout",
     "output_type": "stream",
     "text": [
      "Mean Absolute Error: 20930.964656464042\n"
     ]
    },
    {
     "data": {
      "application/javascript": [
       "parent.postMessage({\"jupyterEvent\": \"custom.exercise_interaction\", \"data\": {\"outcomeType\": 1, \"valueTowardsCompletion\": 0.5, \"interactionType\": 1, \"questionType\": 2, \"questionId\": \"3_Model3\", \"learnToolsVersion\": \"0.3.4\", \"failureMessage\": \"\", \"exceptionClass\": \"\", \"trace\": \"\"}}, \"*\")"
      ],
      "text/plain": [
       "<IPython.core.display.Javascript object>"
      ]
     },
     "metadata": {},
     "output_type": "display_data"
    },
    {
     "data": {
      "text/markdown": [
       "<span style=\"color:#33cc33\">Correct</span>"
      ],
      "text/plain": [
       "Correct"
      ]
     },
     "metadata": {},
     "output_type": "display_data"
    }
   ],
   "source": [
    "# Define the model\n",
    "my_model_3 = XGBRegressor(random_state=0, n_estimators=100, learning_rate=0.5)\n",
    "\n",
    "# Fit the model\n",
    "my_model_3.fit(X_train, y_train)\n",
    "\n",
    "# Get predictions\n",
    "predictions_3 = my_model_3.predict(X_valid)\n",
    "\n",
    "# Calculate MAE\n",
    "mae_3 = mean_absolute_error(y_valid, predictions_3)\n",
    "\n",
    "# Uncomment to print MAE\n",
    "print(\"Mean Absolute Error:\" , mae_3)\n",
    "\n",
    "# Check your answer\n",
    "step_3.check()"
   ]
  },
  {
   "cell_type": "code",
   "execution_count": 12,
   "id": "0eaa3305",
   "metadata": {
    "execution": {
     "iopub.execute_input": "2021-08-28T09:21:06.513151Z",
     "iopub.status.busy": "2021-08-28T09:21:06.512116Z",
     "iopub.status.idle": "2021-08-28T09:21:06.514142Z",
     "shell.execute_reply": "2021-08-28T09:21:06.514873Z",
     "shell.execute_reply.started": "2021-08-28T09:20:06.744580Z"
    },
    "papermill": {
     "duration": 0.035634,
     "end_time": "2021-08-28T09:21:06.515133",
     "exception": false,
     "start_time": "2021-08-28T09:21:06.479499",
     "status": "completed"
    },
    "tags": []
   },
   "outputs": [],
   "source": [
    "# Lines below will give you a hint or solution code\n",
    "#step_3.hint()\n",
    "#step_3.solution()"
   ]
  },
  {
   "cell_type": "markdown",
   "id": "2133ac87",
   "metadata": {
    "papermill": {
     "duration": 0.021815,
     "end_time": "2021-08-28T09:21:06.565754",
     "exception": false,
     "start_time": "2021-08-28T09:21:06.543939",
     "status": "completed"
    },
    "tags": []
   },
   "source": [
    "# Keep going\n",
    "\n",
    "Continue to learn about **[data leakage](https://www.kaggle.com/alexisbcook/data-leakage)**.  This is an important issue for a data scientist to understand, and it has the potential to ruin your models in subtle and dangerous ways!"
   ]
  },
  {
   "cell_type": "markdown",
   "id": "41878e38",
   "metadata": {
    "papermill": {
     "duration": 0.021978,
     "end_time": "2021-08-28T09:21:06.609834",
     "exception": false,
     "start_time": "2021-08-28T09:21:06.587856",
     "status": "completed"
    },
    "tags": []
   },
   "source": [
    "---\n",
    "\n",
    "\n",
    "\n",
    "\n",
    "*Have questions or comments? Visit the [Learn Discussion forum](https://www.kaggle.com/learn-forum/161289) to chat with other Learners.*"
   ]
  }
 ],
 "metadata": {
  "kernelspec": {
   "display_name": "Python 3",
   "language": "python",
   "name": "python3"
  },
  "language_info": {
   "codemirror_mode": {
    "name": "ipython",
    "version": 3
   },
   "file_extension": ".py",
   "mimetype": "text/x-python",
   "name": "python",
   "nbconvert_exporter": "python",
   "pygments_lexer": "ipython3",
   "version": "3.7.10"
  },
  "papermill": {
   "default_parameters": {},
   "duration": 22.857889,
   "end_time": "2021-08-28T09:21:08.396271",
   "environment_variables": {},
   "exception": null,
   "input_path": "__notebook__.ipynb",
   "output_path": "__notebook__.ipynb",
   "parameters": {},
   "start_time": "2021-08-28T09:20:45.538382",
   "version": "2.3.3"
  }
 },
 "nbformat": 4,
 "nbformat_minor": 5
}
