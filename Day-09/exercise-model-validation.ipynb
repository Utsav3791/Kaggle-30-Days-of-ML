{
 "cells": [
  {
   "cell_type": "markdown",
   "id": "94c6b824",
   "metadata": {
    "papermill": {
     "duration": 0.01655,
     "end_time": "2021-08-28T07:32:10.715196",
     "exception": false,
     "start_time": "2021-08-28T07:32:10.698646",
     "status": "completed"
    },
    "tags": []
   },
   "source": [
    "**This notebook is an exercise in the [Introduction to Machine Learning](https://www.kaggle.com/learn/intro-to-machine-learning) course.  You can reference the tutorial at [this link](https://www.kaggle.com/dansbecker/model-validation).**\n",
    "\n",
    "---\n"
   ]
  },
  {
   "cell_type": "markdown",
   "id": "e72c6e34",
   "metadata": {
    "papermill": {
     "duration": 0.021543,
     "end_time": "2021-08-28T07:32:10.755108",
     "exception": false,
     "start_time": "2021-08-28T07:32:10.733565",
     "status": "completed"
    },
    "tags": []
   },
   "source": [
    "## Recap\n",
    "You've built a model. In this exercise you will test how good your model is.\n",
    "\n",
    "Run the cell below to set up your coding environment where the previous exercise left off."
   ]
  },
  {
   "cell_type": "code",
   "execution_count": 1,
   "id": "e892d9a4",
   "metadata": {
    "execution": {
     "iopub.execute_input": "2021-08-28T07:32:10.807286Z",
     "iopub.status.busy": "2021-08-28T07:32:10.806538Z",
     "iopub.status.idle": "2021-08-28T07:32:12.281364Z",
     "shell.execute_reply": "2021-08-28T07:32:12.281984Z",
     "shell.execute_reply.started": "2021-08-28T07:30:36.598440Z"
    },
    "papermill": {
     "duration": 1.509855,
     "end_time": "2021-08-28T07:32:12.282304",
     "exception": false,
     "start_time": "2021-08-28T07:32:10.772449",
     "status": "completed"
    },
    "tags": []
   },
   "outputs": [
    {
     "name": "stdout",
     "output_type": "stream",
     "text": [
      "First in-sample predictions: [208500. 181500. 223500. 140000. 250000.]\n",
      "Actual target values for those homes: [208500, 181500, 223500, 140000, 250000]\n",
      "Setup Complete\n"
     ]
    }
   ],
   "source": [
    "# Code you have previously used to load data\n",
    "import pandas as pd\n",
    "from sklearn.tree import DecisionTreeRegressor\n",
    "\n",
    "# Path of the file to read\n",
    "iowa_file_path = '../input/home-data-for-ml-course/train.csv'\n",
    "\n",
    "home_data = pd.read_csv(iowa_file_path)\n",
    "y = home_data.SalePrice\n",
    "feature_columns = ['LotArea', 'YearBuilt', '1stFlrSF', '2ndFlrSF', 'FullBath', 'BedroomAbvGr', 'TotRmsAbvGrd']\n",
    "X = home_data[feature_columns]\n",
    "\n",
    "# Specify Model\n",
    "iowa_model = DecisionTreeRegressor()\n",
    "# Fit Model\n",
    "iowa_model.fit(X, y)\n",
    "\n",
    "print(\"First in-sample predictions:\", iowa_model.predict(X.head()))\n",
    "print(\"Actual target values for those homes:\", y.head().tolist())\n",
    "\n",
    "# Set up code checking\n",
    "from learntools.core import binder\n",
    "binder.bind(globals())\n",
    "from learntools.machine_learning.ex4 import *\n",
    "print(\"Setup Complete\")"
   ]
  },
  {
   "cell_type": "markdown",
   "id": "064156b8",
   "metadata": {
    "papermill": {
     "duration": 0.013922,
     "end_time": "2021-08-28T07:32:12.310592",
     "exception": false,
     "start_time": "2021-08-28T07:32:12.296670",
     "status": "completed"
    },
    "tags": []
   },
   "source": [
    "# Exercises\n",
    "\n",
    "## Step 1: Split Your Data\n",
    "Use the `train_test_split` function to split up your data.\n",
    "\n",
    "Give it the argument `random_state=1` so the `check` functions know what to expect when verifying your code.\n",
    "\n",
    "Recall, your features are loaded in the DataFrame **X** and your target is loaded in **y**.\n"
   ]
  },
  {
   "cell_type": "code",
   "execution_count": 2,
   "id": "a76360eb",
   "metadata": {
    "execution": {
     "iopub.execute_input": "2021-08-28T07:32:12.351500Z",
     "iopub.status.busy": "2021-08-28T07:32:12.349619Z",
     "iopub.status.idle": "2021-08-28T07:32:12.378527Z",
     "shell.execute_reply": "2021-08-28T07:32:12.377966Z",
     "shell.execute_reply.started": "2021-08-28T07:30:38.018406Z"
    },
    "papermill": {
     "duration": 0.053791,
     "end_time": "2021-08-28T07:32:12.378677",
     "exception": false,
     "start_time": "2021-08-28T07:32:12.324886",
     "status": "completed"
    },
    "tags": []
   },
   "outputs": [
    {
     "data": {
      "application/javascript": [
       "parent.postMessage({\"jupyterEvent\": \"custom.exercise_interaction\", \"data\": {\"outcomeType\": 1, \"valueTowardsCompletion\": 0.25, \"interactionType\": 1, \"questionType\": 2, \"questionId\": \"1_SplitData\", \"learnToolsVersion\": \"0.3.4\", \"failureMessage\": \"\", \"exceptionClass\": \"\", \"trace\": \"\"}}, \"*\")"
      ],
      "text/plain": [
       "<IPython.core.display.Javascript object>"
      ]
     },
     "metadata": {},
     "output_type": "display_data"
    },
    {
     "data": {
      "text/markdown": [
       "<span style=\"color:#33cc33\">Correct</span>"
      ],
      "text/plain": [
       "Correct"
      ]
     },
     "metadata": {},
     "output_type": "display_data"
    }
   ],
   "source": [
    "# Import the train_test_split function and uncomment\n",
    "from sklearn.model_selection import train_test_split\n",
    "\n",
    "# fill in and uncomment\n",
    "train_X, val_X, train_y, val_y = train_test_split(X, y, random_state=1)\n",
    "\n",
    "# Check your answer\n",
    "step_1.check()"
   ]
  },
  {
   "cell_type": "code",
   "execution_count": 3,
   "id": "de504d4e",
   "metadata": {
    "execution": {
     "iopub.execute_input": "2021-08-28T07:32:12.413527Z",
     "iopub.status.busy": "2021-08-28T07:32:12.412797Z",
     "iopub.status.idle": "2021-08-28T07:32:12.416276Z",
     "shell.execute_reply": "2021-08-28T07:32:12.415707Z",
     "shell.execute_reply.started": "2021-08-28T07:30:38.055738Z"
    },
    "papermill": {
     "duration": 0.022598,
     "end_time": "2021-08-28T07:32:12.416424",
     "exception": false,
     "start_time": "2021-08-28T07:32:12.393826",
     "status": "completed"
    },
    "tags": []
   },
   "outputs": [],
   "source": [
    "# The lines below will show you a hint or the solution.\n",
    "# step_1.hint() \n",
    "# step_1.solution()\n"
   ]
  },
  {
   "cell_type": "markdown",
   "id": "3cc1b306",
   "metadata": {
    "papermill": {
     "duration": 0.014646,
     "end_time": "2021-08-28T07:32:12.446095",
     "exception": false,
     "start_time": "2021-08-28T07:32:12.431449",
     "status": "completed"
    },
    "tags": []
   },
   "source": [
    "## Step 2: Specify and Fit the Model\n",
    "\n",
    "Create a `DecisionTreeRegressor` model and fit it to the relevant data.\n",
    "Set `random_state` to 1 again when creating the model."
   ]
  },
  {
   "cell_type": "code",
   "execution_count": 4,
   "id": "f83bbe62",
   "metadata": {
    "execution": {
     "iopub.execute_input": "2021-08-28T07:32:12.484545Z",
     "iopub.status.busy": "2021-08-28T07:32:12.483533Z",
     "iopub.status.idle": "2021-08-28T07:32:12.511364Z",
     "shell.execute_reply": "2021-08-28T07:32:12.510651Z",
     "shell.execute_reply.started": "2021-08-28T07:30:38.061058Z"
    },
    "papermill": {
     "duration": 0.050433,
     "end_time": "2021-08-28T07:32:12.511511",
     "exception": false,
     "start_time": "2021-08-28T07:32:12.461078",
     "status": "completed"
    },
    "tags": []
   },
   "outputs": [
    {
     "name": "stdout",
     "output_type": "stream",
     "text": [
      "[186500. 184000. 130000.  92000. 164500. 220000. 335000. 144152. 215000.\n",
      " 262000.]\n",
      "[186500. 184000. 130000.  92000. 164500. 220000. 335000. 144152. 215000.\n",
      " 262000.]\n"
     ]
    },
    {
     "data": {
      "application/javascript": [
       "parent.postMessage({\"jupyterEvent\": \"custom.exercise_interaction\", \"data\": {\"outcomeType\": 1, \"valueTowardsCompletion\": 0.25, \"interactionType\": 1, \"questionType\": 2, \"questionId\": \"2_FitModelWithTrain\", \"learnToolsVersion\": \"0.3.4\", \"failureMessage\": \"\", \"exceptionClass\": \"\", \"trace\": \"\"}}, \"*\")"
      ],
      "text/plain": [
       "<IPython.core.display.Javascript object>"
      ]
     },
     "metadata": {},
     "output_type": "display_data"
    },
    {
     "data": {
      "text/markdown": [
       "<span style=\"color:#33cc33\">Correct</span>"
      ],
      "text/plain": [
       "Correct"
      ]
     },
     "metadata": {},
     "output_type": "display_data"
    }
   ],
   "source": [
    "# You imported DecisionTreeRegressor in your last exercise\n",
    "# and that code has been copied to the setup code above. So, no need to\n",
    "# import it again\n",
    "\n",
    "# Specify the model\n",
    "iowa_model = DecisionTreeRegressor(random_state=1)\n",
    "\n",
    "# Fit iowa_model with the training data.\n",
    "iowa_model.fit(train_X, train_y)\n",
    "\n",
    "# Check your answer\n",
    "step_2.check()"
   ]
  },
  {
   "cell_type": "code",
   "execution_count": 5,
   "id": "a3ad22a0",
   "metadata": {
    "execution": {
     "iopub.execute_input": "2021-08-28T07:32:12.549084Z",
     "iopub.status.busy": "2021-08-28T07:32:12.548058Z",
     "iopub.status.idle": "2021-08-28T07:32:12.551458Z",
     "shell.execute_reply": "2021-08-28T07:32:12.550849Z",
     "shell.execute_reply.started": "2021-08-28T07:30:38.101618Z"
    },
    "papermill": {
     "duration": 0.023697,
     "end_time": "2021-08-28T07:32:12.551599",
     "exception": false,
     "start_time": "2021-08-28T07:32:12.527902",
     "status": "completed"
    },
    "tags": []
   },
   "outputs": [],
   "source": [
    "# step_2.hint()\n",
    "# step_2.solution()"
   ]
  },
  {
   "cell_type": "markdown",
   "id": "50d829b6",
   "metadata": {
    "papermill": {
     "duration": 0.01585,
     "end_time": "2021-08-28T07:32:12.583738",
     "exception": false,
     "start_time": "2021-08-28T07:32:12.567888",
     "status": "completed"
    },
    "tags": []
   },
   "source": [
    "## Step 3: Make Predictions with Validation data\n"
   ]
  },
  {
   "cell_type": "code",
   "execution_count": 6,
   "id": "3a716a18",
   "metadata": {
    "execution": {
     "iopub.execute_input": "2021-08-28T07:32:12.625575Z",
     "iopub.status.busy": "2021-08-28T07:32:12.624779Z",
     "iopub.status.idle": "2021-08-28T07:32:12.631517Z",
     "shell.execute_reply": "2021-08-28T07:32:12.630856Z",
     "shell.execute_reply.started": "2021-08-28T07:30:38.108151Z"
    },
    "papermill": {
     "duration": 0.031575,
     "end_time": "2021-08-28T07:32:12.631658",
     "exception": false,
     "start_time": "2021-08-28T07:32:12.600083",
     "status": "completed"
    },
    "tags": []
   },
   "outputs": [
    {
     "data": {
      "application/javascript": [
       "parent.postMessage({\"jupyterEvent\": \"custom.exercise_interaction\", \"data\": {\"outcomeType\": 1, \"valueTowardsCompletion\": 0.25, \"interactionType\": 1, \"questionType\": 2, \"questionId\": \"3_ValPreds\", \"learnToolsVersion\": \"0.3.4\", \"failureMessage\": \"\", \"exceptionClass\": \"\", \"trace\": \"\"}}, \"*\")"
      ],
      "text/plain": [
       "<IPython.core.display.Javascript object>"
      ]
     },
     "metadata": {},
     "output_type": "display_data"
    },
    {
     "data": {
      "text/markdown": [
       "<span style=\"color:#33cc33\">Correct</span>"
      ],
      "text/plain": [
       "Correct"
      ]
     },
     "metadata": {},
     "output_type": "display_data"
    }
   ],
   "source": [
    "# Predict with all validation observations\n",
    "val_predictions = iowa_model.predict(val_X)\n",
    "\n",
    "# Check your answer\n",
    "step_3.check()"
   ]
  },
  {
   "cell_type": "code",
   "execution_count": 7,
   "id": "0f255701",
   "metadata": {
    "execution": {
     "iopub.execute_input": "2021-08-28T07:32:12.671096Z",
     "iopub.status.busy": "2021-08-28T07:32:12.670390Z",
     "iopub.status.idle": "2021-08-28T07:32:12.672362Z",
     "shell.execute_reply": "2021-08-28T07:32:12.672915Z",
     "shell.execute_reply.started": "2021-08-28T07:30:38.130077Z"
    },
    "papermill": {
     "duration": 0.023883,
     "end_time": "2021-08-28T07:32:12.673107",
     "exception": false,
     "start_time": "2021-08-28T07:32:12.649224",
     "status": "completed"
    },
    "tags": []
   },
   "outputs": [],
   "source": [
    "# step_3.hint()\n",
    "# step_3.solution()"
   ]
  },
  {
   "cell_type": "markdown",
   "id": "f3c97ad2",
   "metadata": {
    "papermill": {
     "duration": 0.017454,
     "end_time": "2021-08-28T07:32:12.707949",
     "exception": false,
     "start_time": "2021-08-28T07:32:12.690495",
     "status": "completed"
    },
    "tags": []
   },
   "source": [
    "Inspect your predictions and actual values from validation data."
   ]
  },
  {
   "cell_type": "code",
   "execution_count": 8,
   "id": "5a9c47d2",
   "metadata": {
    "execution": {
     "iopub.execute_input": "2021-08-28T07:32:12.745703Z",
     "iopub.status.busy": "2021-08-28T07:32:12.745036Z",
     "iopub.status.idle": "2021-08-28T07:32:12.752536Z",
     "shell.execute_reply": "2021-08-28T07:32:12.751941Z",
     "shell.execute_reply.started": "2021-08-28T07:30:38.143048Z"
    },
    "papermill": {
     "duration": 0.027462,
     "end_time": "2021-08-28T07:32:12.752686",
     "exception": false,
     "start_time": "2021-08-28T07:32:12.725224",
     "status": "completed"
    },
    "tags": []
   },
   "outputs": [
    {
     "name": "stdout",
     "output_type": "stream",
     "text": [
      "[186500. 184000. 130000.  92000. 164500.]\n",
      "258     231500\n",
      "267     179500\n",
      "288     122000\n",
      "649      84500\n",
      "1233    142000\n",
      "Name: SalePrice, dtype: int64\n"
     ]
    }
   ],
   "source": [
    "# print the top few validation predictions\n",
    "print(val_predictions[:5])\n",
    "# print the top few actual prices from validation data\n",
    "print(val_y.head())"
   ]
  },
  {
   "cell_type": "markdown",
   "id": "b5fdb870",
   "metadata": {
    "papermill": {
     "duration": 0.017049,
     "end_time": "2021-08-28T07:32:12.787343",
     "exception": false,
     "start_time": "2021-08-28T07:32:12.770294",
     "status": "completed"
    },
    "tags": []
   },
   "source": [
    "What do you notice that is different from what you saw with in-sample predictions (which are printed after the top code cell in this page).\n",
    "\n",
    "Do you remember why validation predictions differ from in-sample (or training) predictions? This is an important idea from the last lesson.\n",
    "\n",
    "## Step 4: Calculate the Mean Absolute Error in Validation Data\n"
   ]
  },
  {
   "cell_type": "code",
   "execution_count": 9,
   "id": "5861a440",
   "metadata": {
    "execution": {
     "iopub.execute_input": "2021-08-28T07:32:12.829953Z",
     "iopub.status.busy": "2021-08-28T07:32:12.828852Z",
     "iopub.status.idle": "2021-08-28T07:32:12.838259Z",
     "shell.execute_reply": "2021-08-28T07:32:12.837200Z",
     "shell.execute_reply.started": "2021-08-28T07:30:38.156797Z"
    },
    "papermill": {
     "duration": 0.033516,
     "end_time": "2021-08-28T07:32:12.838435",
     "exception": false,
     "start_time": "2021-08-28T07:32:12.804919",
     "status": "completed"
    },
    "tags": []
   },
   "outputs": [
    {
     "name": "stdout",
     "output_type": "stream",
     "text": [
      "29652.931506849316\n"
     ]
    },
    {
     "data": {
      "application/javascript": [
       "parent.postMessage({\"jupyterEvent\": \"custom.exercise_interaction\", \"data\": {\"outcomeType\": 1, \"valueTowardsCompletion\": 0.25, \"interactionType\": 1, \"questionType\": 1, \"questionId\": \"4_MAE\", \"learnToolsVersion\": \"0.3.4\", \"failureMessage\": \"\", \"exceptionClass\": \"\", \"trace\": \"\"}}, \"*\")"
      ],
      "text/plain": [
       "<IPython.core.display.Javascript object>"
      ]
     },
     "metadata": {},
     "output_type": "display_data"
    },
    {
     "data": {
      "text/markdown": [
       "<span style=\"color:#33cc33\">Correct</span>"
      ],
      "text/plain": [
       "Correct"
      ]
     },
     "metadata": {},
     "output_type": "display_data"
    }
   ],
   "source": [
    "from sklearn.metrics import mean_absolute_error\n",
    "val_mae = mean_absolute_error(val_y, val_predictions)\n",
    "\n",
    "# uncomment following line to see the validation_mae\n",
    "print(val_mae)\n",
    "\n",
    "# Check your answer\n",
    "step_4.check()"
   ]
  },
  {
   "cell_type": "code",
   "execution_count": 10,
   "id": "2a74034c",
   "metadata": {
    "execution": {
     "iopub.execute_input": "2021-08-28T07:32:12.881923Z",
     "iopub.status.busy": "2021-08-28T07:32:12.880870Z",
     "iopub.status.idle": "2021-08-28T07:32:12.884247Z",
     "shell.execute_reply": "2021-08-28T07:32:12.883572Z",
     "shell.execute_reply.started": "2021-08-28T07:30:38.176452Z"
    },
    "papermill": {
     "duration": 0.026691,
     "end_time": "2021-08-28T07:32:12.884401",
     "exception": false,
     "start_time": "2021-08-28T07:32:12.857710",
     "status": "completed"
    },
    "tags": []
   },
   "outputs": [],
   "source": [
    "# step_4.hint()\n",
    "# step_4.solution()"
   ]
  },
  {
   "cell_type": "markdown",
   "id": "fff9b45c",
   "metadata": {
    "papermill": {
     "duration": 0.019346,
     "end_time": "2021-08-28T07:32:12.923906",
     "exception": false,
     "start_time": "2021-08-28T07:32:12.904560",
     "status": "completed"
    },
    "tags": []
   },
   "source": [
    "Is that MAE good?  There isn't a general rule for what values are good that applies across applications. But you'll see how to use (and improve) this number in the next step.\n",
    "\n",
    "# Keep Going\n",
    "\n",
    "You are ready for **[Underfitting and Overfitting](https://www.kaggle.com/dansbecker/underfitting-and-overfitting).**\n"
   ]
  },
  {
   "cell_type": "markdown",
   "id": "d23077cd",
   "metadata": {
    "papermill": {
     "duration": 0.018673,
     "end_time": "2021-08-28T07:32:12.962457",
     "exception": false,
     "start_time": "2021-08-28T07:32:12.943784",
     "status": "completed"
    },
    "tags": []
   },
   "source": [
    "---\n",
    "\n",
    "\n",
    "\n",
    "\n",
    "*Have questions or comments? Visit the [Learn Discussion forum](https://www.kaggle.com/learn-forum/161285) to chat with other Learners.*"
   ]
  }
 ],
 "metadata": {
  "kernelspec": {
   "display_name": "Python 3",
   "language": "python",
   "name": "python3"
  },
  "language_info": {
   "codemirror_mode": {
    "name": "ipython",
    "version": 3
   },
   "file_extension": ".py",
   "mimetype": "text/x-python",
   "name": "python",
   "nbconvert_exporter": "python",
   "pygments_lexer": "ipython3",
   "version": "3.7.10"
  },
  "papermill": {
   "default_parameters": {},
   "duration": 12.833379,
   "end_time": "2021-08-28T07:32:14.551343",
   "environment_variables": {},
   "exception": null,
   "input_path": "__notebook__.ipynb",
   "output_path": "__notebook__.ipynb",
   "parameters": {},
   "start_time": "2021-08-28T07:32:01.717964",
   "version": "2.3.3"
  }
 },
 "nbformat": 4,
 "nbformat_minor": 5
}
