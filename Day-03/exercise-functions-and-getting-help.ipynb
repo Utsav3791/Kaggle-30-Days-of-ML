{
 "cells": [
  {
   "cell_type": "markdown",
   "id": "364a4569",
   "metadata": {
    "papermill": {
     "duration": 0.01187,
     "end_time": "2021-08-26T04:53:25.428798",
     "exception": false,
     "start_time": "2021-08-26T04:53:25.416928",
     "status": "completed"
    },
    "tags": []
   },
   "source": [
    "**This notebook is an exercise in the [Python](https://www.kaggle.com/learn/python) course.  You can reference the tutorial at [this link](https://www.kaggle.com/colinmorris/functions-and-getting-help).**\n",
    "\n",
    "---\n"
   ]
  },
  {
   "cell_type": "markdown",
   "id": "e866fcfd",
   "metadata": {
    "papermill": {
     "duration": 0.010681,
     "end_time": "2021-08-26T04:53:25.451984",
     "exception": false,
     "start_time": "2021-08-26T04:53:25.441303",
     "status": "completed"
    },
    "tags": []
   },
   "source": [
    "Functions are powerful. Try writing some yourself.\n",
    "\n",
    "As before, don't forget to run the setup code below before jumping into question 1."
   ]
  },
  {
   "cell_type": "code",
   "execution_count": 1,
   "id": "9ca01f0a",
   "metadata": {
    "_kg_hide-input": true,
    "_kg_hide-output": true,
    "execution": {
     "iopub.execute_input": "2021-08-26T04:53:25.491836Z",
     "iopub.status.busy": "2021-08-26T04:53:25.491202Z",
     "iopub.status.idle": "2021-08-26T04:53:25.693653Z",
     "shell.execute_reply": "2021-08-26T04:53:25.693088Z",
     "shell.execute_reply.started": "2021-08-26T04:52:45.374712Z"
    },
    "papermill": {
     "duration": 0.230693,
     "end_time": "2021-08-26T04:53:25.693771",
     "exception": false,
     "start_time": "2021-08-26T04:53:25.463078",
     "status": "completed"
    },
    "tags": []
   },
   "outputs": [
    {
     "name": "stdout",
     "output_type": "stream",
     "text": [
      "Setup complete.\n"
     ]
    }
   ],
   "source": [
    "# SETUP. You don't need to worry for now about what this code does or how it works.\n",
    "from learntools.core import binder; binder.bind(globals())\n",
    "from learntools.python.ex2 import *\n",
    "print('Setup complete.')"
   ]
  },
  {
   "cell_type": "markdown",
   "id": "43deb450",
   "metadata": {
    "papermill": {
     "duration": 0.011312,
     "end_time": "2021-08-26T04:53:25.717054",
     "exception": false,
     "start_time": "2021-08-26T04:53:25.705742",
     "status": "completed"
    },
    "tags": []
   },
   "source": [
    "# 1.\n",
    "\n",
    "Complete the body of the following function according to its docstring.\n",
    "\n",
    "HINT: Python has a built-in function `round`."
   ]
  },
  {
   "cell_type": "code",
   "execution_count": 2,
   "id": "c4b8de3b",
   "metadata": {
    "execution": {
     "iopub.execute_input": "2021-08-26T04:53:25.749370Z",
     "iopub.status.busy": "2021-08-26T04:53:25.748858Z",
     "iopub.status.idle": "2021-08-26T04:53:25.752858Z",
     "shell.execute_reply": "2021-08-26T04:53:25.753288Z",
     "shell.execute_reply.started": "2021-08-26T04:52:45.531965Z"
    },
    "papermill": {
     "duration": 0.023554,
     "end_time": "2021-08-26T04:53:25.753433",
     "exception": false,
     "start_time": "2021-08-26T04:53:25.729879",
     "status": "completed"
    },
    "tags": []
   },
   "outputs": [
    {
     "data": {
      "application/javascript": [
       "parent.postMessage({\"jupyterEvent\": \"custom.exercise_interaction\", \"data\": {\"outcomeType\": 1, \"valueTowardsCompletion\": 0.16666666666666666, \"interactionType\": 1, \"questionType\": 2, \"questionId\": \"1_RoundFunctionProblem\", \"learnToolsVersion\": \"0.3.4\", \"failureMessage\": \"\", \"exceptionClass\": \"\", \"trace\": \"\"}}, \"*\")"
      ],
      "text/plain": [
       "<IPython.core.display.Javascript object>"
      ]
     },
     "metadata": {},
     "output_type": "display_data"
    },
    {
     "data": {
      "text/markdown": [
       "<span style=\"color:#33cc33\">Correct</span>"
      ],
      "text/plain": [
       "Correct"
      ]
     },
     "metadata": {},
     "output_type": "display_data"
    }
   ],
   "source": [
    "def round_to_two_places(num):\n",
    "    \"\"\"Return the given number rounded to two decimal places. \n",
    "    \n",
    "    >>> round_to_two_places(3.14159)\n",
    "    3.14\n",
    "    \"\"\"\n",
    "    # Replace this body with your own code.\n",
    "    # (\"pass\" is a keyword that does literally nothing. We used it as a placeholder\n",
    "    # because after we begin a code block, Python requires at least one line of code)\n",
    "    return round(num, 2)\n",
    "\n",
    "# Check your answer\n",
    "q1.check()"
   ]
  },
  {
   "cell_type": "code",
   "execution_count": 3,
   "id": "c554b482",
   "metadata": {
    "execution": {
     "iopub.execute_input": "2021-08-26T04:53:25.780752Z",
     "iopub.status.busy": "2021-08-26T04:53:25.780208Z",
     "iopub.status.idle": "2021-08-26T04:53:25.782937Z",
     "shell.execute_reply": "2021-08-26T04:53:25.783393Z",
     "shell.execute_reply.started": "2021-08-26T04:52:45.547659Z"
    },
    "papermill": {
     "duration": 0.017976,
     "end_time": "2021-08-26T04:53:25.783540",
     "exception": false,
     "start_time": "2021-08-26T04:53:25.765564",
     "status": "completed"
    },
    "tags": []
   },
   "outputs": [],
   "source": [
    "# Uncomment the following for a hint\n",
    "#q1.hint()\n",
    "# Or uncomment the following to peek at the solution\n",
    "#q1.solution()"
   ]
  },
  {
   "cell_type": "markdown",
   "id": "a8bcee70",
   "metadata": {
    "papermill": {
     "duration": 0.012284,
     "end_time": "2021-08-26T04:53:25.808078",
     "exception": false,
     "start_time": "2021-08-26T04:53:25.795794",
     "status": "completed"
    },
    "tags": []
   },
   "source": [
    "# 2.\n",
    "The help for `round` says that `ndigits` (the second argument) may be negative.\n",
    "What do you think will happen when it is? Try some examples in the following cell."
   ]
  },
  {
   "cell_type": "code",
   "execution_count": 4,
   "id": "1dc3b9df",
   "metadata": {
    "execution": {
     "iopub.execute_input": "2021-08-26T04:53:25.837078Z",
     "iopub.status.busy": "2021-08-26T04:53:25.836498Z",
     "iopub.status.idle": "2021-08-26T04:53:25.843290Z",
     "shell.execute_reply": "2021-08-26T04:53:25.842808Z",
     "shell.execute_reply.started": "2021-08-26T04:52:45.558082Z"
    },
    "papermill": {
     "duration": 0.0215,
     "end_time": "2021-08-26T04:53:25.843434",
     "exception": false,
     "start_time": "2021-08-26T04:53:25.821934",
     "status": "completed"
    },
    "tags": []
   },
   "outputs": [
    {
     "data": {
      "text/plain": [
       "0.0"
      ]
     },
     "execution_count": 4,
     "metadata": {},
     "output_type": "execute_result"
    }
   ],
   "source": [
    "round(3.14159, ndigits=-4)"
   ]
  },
  {
   "cell_type": "markdown",
   "id": "a7e5f498",
   "metadata": {
    "papermill": {
     "duration": 0.012219,
     "end_time": "2021-08-26T04:53:25.871059",
     "exception": false,
     "start_time": "2021-08-26T04:53:25.858840",
     "status": "completed"
    },
    "tags": []
   },
   "source": [
    "Can you think of a case where this would be useful?  Once you're ready, run the code cell below to see the answer and to receive credit for completing the problem."
   ]
  },
  {
   "cell_type": "code",
   "execution_count": 5,
   "id": "6cb0d17a",
   "metadata": {
    "execution": {
     "iopub.execute_input": "2021-08-26T04:53:25.899214Z",
     "iopub.status.busy": "2021-08-26T04:53:25.898770Z",
     "iopub.status.idle": "2021-08-26T04:53:25.906000Z",
     "shell.execute_reply": "2021-08-26T04:53:25.906390Z",
     "shell.execute_reply.started": "2021-08-26T04:52:45.572424Z"
    },
    "papermill": {
     "duration": 0.022746,
     "end_time": "2021-08-26T04:53:25.906550",
     "exception": false,
     "start_time": "2021-08-26T04:53:25.883804",
     "status": "completed"
    },
    "tags": []
   },
   "outputs": [
    {
     "data": {
      "application/javascript": [
       "parent.postMessage({\"jupyterEvent\": \"custom.exercise_interaction\", \"data\": {\"interactionType\": 3, \"questionType\": 4, \"questionId\": \"2_RoundNdigitsProblem\", \"learnToolsVersion\": \"0.3.4\", \"valueTowardsCompletion\": 0.0, \"failureMessage\": \"\", \"exceptionClass\": \"\", \"trace\": \"\", \"outcomeType\": 4}}, \"*\")"
      ],
      "text/plain": [
       "<IPython.core.display.Javascript object>"
      ]
     },
     "metadata": {},
     "output_type": "display_data"
    },
    {
     "data": {
      "text/markdown": [
       "<span style=\"color:#33cc99\">Solution:</span> As you've seen, `ndigits=-1` rounds to the nearest 10, `ndigits=-2` rounds to the nearest 100 and so on. Where might this be useful? Suppose we're dealing with large numbers:\n",
       "\n",
       "> The area of Finland is 338,424 km²  \n",
       "> The area of Greenland is 2,166,086 km²\n",
       "\n",
       "We probably don't care whether it's really 338,424, or 338,425, or 338,177. All those digits of accuracy are just distracting. We can chop them off by calling `round()` with `ndigits=-3`:\n",
       "\n",
       "> The area of Finland is 338,000 km²  \n",
       "> The area of Greenland is 2,166,000 km²\n",
       "\n",
       "(We'll talk about how we would get the commas later when we talk about string formatting :))\n"
      ],
      "text/plain": [
       "Solution: As you've seen, `ndigits=-1` rounds to the nearest 10, `ndigits=-2` rounds to the nearest 100 and so on. Where might this be useful? Suppose we're dealing with large numbers:\n",
       "\n",
       "> The area of Finland is 338,424 km²  \n",
       "> The area of Greenland is 2,166,086 km²\n",
       "\n",
       "We probably don't care whether it's really 338,424, or 338,425, or 338,177. All those digits of accuracy are just distracting. We can chop them off by calling `round()` with `ndigits=-3`:\n",
       "\n",
       "> The area of Finland is 338,000 km²  \n",
       "> The area of Greenland is 2,166,000 km²\n",
       "\n",
       "(We'll talk about how we would get the commas later when we talk about string formatting :))"
      ]
     },
     "metadata": {},
     "output_type": "display_data"
    }
   ],
   "source": [
    "# Check your answer (Run this code cell to receive credit!)\n",
    "q2.solution()"
   ]
  },
  {
   "cell_type": "markdown",
   "id": "18e6a3fb",
   "metadata": {
    "papermill": {
     "duration": 0.013131,
     "end_time": "2021-08-26T04:53:25.934887",
     "exception": false,
     "start_time": "2021-08-26T04:53:25.921756",
     "status": "completed"
    },
    "tags": []
   },
   "source": [
    "# 3.\n",
    "\n",
    "In the previous exercise, the candy-sharing friends Alice, Bob and Carol tried to split candies evenly. For the sake of their friendship, any candies left over would be smashed. For example, if they collectively bring home 91 candies, they'll take 30 each and smash 1.\n",
    "\n",
    "Below is a simple function that will calculate the number of candies to smash for *any* number of total candies.\n",
    "\n",
    "Modify it so that it optionally takes a second argument representing the number of friends the candies are being split between. If no second argument is provided, it should assume 3 friends, as before.\n",
    "\n",
    "Update the docstring to reflect this new behaviour."
   ]
  },
  {
   "cell_type": "code",
   "execution_count": 6,
   "id": "80b67587",
   "metadata": {
    "execution": {
     "iopub.execute_input": "2021-08-26T04:53:25.965208Z",
     "iopub.status.busy": "2021-08-26T04:53:25.964755Z",
     "iopub.status.idle": "2021-08-26T04:53:25.972210Z",
     "shell.execute_reply": "2021-08-26T04:53:25.972597Z",
     "shell.execute_reply.started": "2021-08-26T04:52:45.592588Z"
    },
    "papermill": {
     "duration": 0.02378,
     "end_time": "2021-08-26T04:53:25.972737",
     "exception": false,
     "start_time": "2021-08-26T04:53:25.948957",
     "status": "completed"
    },
    "tags": []
   },
   "outputs": [
    {
     "data": {
      "application/javascript": [
       "parent.postMessage({\"jupyterEvent\": \"custom.exercise_interaction\", \"data\": {\"outcomeType\": 1, \"valueTowardsCompletion\": 0.16666666666666666, \"interactionType\": 1, \"questionType\": 2, \"questionId\": \"3_CandySmashingFunctionProblem\", \"learnToolsVersion\": \"0.3.4\", \"failureMessage\": \"\", \"exceptionClass\": \"\", \"trace\": \"\"}}, \"*\")"
      ],
      "text/plain": [
       "<IPython.core.display.Javascript object>"
      ]
     },
     "metadata": {},
     "output_type": "display_data"
    },
    {
     "data": {
      "text/markdown": [
       "<span style=\"color:#33cc33\">Correct</span>"
      ],
      "text/plain": [
       "Correct"
      ]
     },
     "metadata": {},
     "output_type": "display_data"
    }
   ],
   "source": [
    "def to_smash(total_candies, n_friends=3):\n",
    "    \"\"\"Return the number of leftover candies that must be smashed after distributing\n",
    "    the given number of candies evenly between 'n_friends'(defaults to 3) number of friends.\n",
    "    \n",
    "    >>> to_smash(91)\n",
    "    1\n",
    "    \"\"\"\n",
    "    return total_candies % n_friends\n",
    "\n",
    "# Check your answer\n",
    "q3.check()"
   ]
  },
  {
   "cell_type": "code",
   "execution_count": 7,
   "id": "b5ff7fc7",
   "metadata": {
    "execution": {
     "iopub.execute_input": "2021-08-26T04:53:26.004098Z",
     "iopub.status.busy": "2021-08-26T04:53:26.003396Z",
     "iopub.status.idle": "2021-08-26T04:53:26.006320Z",
     "shell.execute_reply": "2021-08-26T04:53:26.006717Z",
     "shell.execute_reply.started": "2021-08-26T04:52:45.608723Z"
    },
    "papermill": {
     "duration": 0.020192,
     "end_time": "2021-08-26T04:53:26.006875",
     "exception": false,
     "start_time": "2021-08-26T04:53:25.986683",
     "status": "completed"
    },
    "tags": []
   },
   "outputs": [],
   "source": [
    "#q3.hint()"
   ]
  },
  {
   "cell_type": "code",
   "execution_count": 8,
   "id": "7cf2957c",
   "metadata": {
    "execution": {
     "iopub.execute_input": "2021-08-26T04:53:26.040394Z",
     "iopub.status.busy": "2021-08-26T04:53:26.038817Z",
     "iopub.status.idle": "2021-08-26T04:53:26.042010Z",
     "shell.execute_reply": "2021-08-26T04:53:26.042465Z",
     "shell.execute_reply.started": "2021-08-26T04:52:45.618720Z"
    },
    "papermill": {
     "duration": 0.020789,
     "end_time": "2021-08-26T04:53:26.042609",
     "exception": false,
     "start_time": "2021-08-26T04:53:26.021820",
     "status": "completed"
    },
    "tags": []
   },
   "outputs": [],
   "source": [
    "#q3.solution()"
   ]
  },
  {
   "cell_type": "markdown",
   "id": "f6b78ed5",
   "metadata": {
    "papermill": {
     "duration": 0.013923,
     "end_time": "2021-08-26T04:53:26.071269",
     "exception": false,
     "start_time": "2021-08-26T04:53:26.057346",
     "status": "completed"
    },
    "tags": []
   },
   "source": [
    "# 4. (Optional)\n",
    "\n",
    "It may not be fun, but reading and understanding error messages will be an important part of your Python career.\n",
    "\n",
    "Each code cell below contains some commented buggy code. For each cell...\n",
    "\n",
    "1. Read the code and predict what you think will happen when it's run.\n",
    "2. Then uncomment the code and run it to see what happens. (**Tip**: In the kernel editor, you can highlight several lines and press `ctrl`+`/` to toggle commenting.)\n",
    "3. Fix the code (so that it accomplishes its intended purpose without throwing an exception)\n",
    "\n",
    "<!-- TODO: should this be autochecked? Delta is probably pretty small. -->"
   ]
  },
  {
   "cell_type": "code",
   "execution_count": 9,
   "id": "9cec86d1",
   "metadata": {
    "execution": {
     "iopub.execute_input": "2021-08-26T04:53:26.105689Z",
     "iopub.status.busy": "2021-08-26T04:53:26.104937Z",
     "iopub.status.idle": "2021-08-26T04:53:26.109381Z",
     "shell.execute_reply": "2021-08-26T04:53:26.108816Z",
     "shell.execute_reply.started": "2021-08-26T04:52:45.632008Z"
    },
    "papermill": {
     "duration": 0.024067,
     "end_time": "2021-08-26T04:53:26.109560",
     "exception": false,
     "start_time": "2021-08-26T04:53:26.085493",
     "status": "completed"
    },
    "tags": []
   },
   "outputs": [
    {
     "data": {
      "text/plain": [
       "10.0"
      ]
     },
     "execution_count": 9,
     "metadata": {},
     "output_type": "execute_result"
    }
   ],
   "source": [
    "round_to_two_places(9.9999)"
   ]
  },
  {
   "cell_type": "code",
   "execution_count": 10,
   "id": "330184c6",
   "metadata": {
    "execution": {
     "iopub.execute_input": "2021-08-26T04:53:26.158985Z",
     "iopub.status.busy": "2021-08-26T04:53:26.158229Z",
     "iopub.status.idle": "2021-08-26T04:53:26.161635Z",
     "shell.execute_reply": "2021-08-26T04:53:26.160991Z",
     "shell.execute_reply.started": "2021-08-26T04:52:45.648926Z"
    },
    "papermill": {
     "duration": 0.030044,
     "end_time": "2021-08-26T04:53:26.161778",
     "exception": false,
     "start_time": "2021-08-26T04:53:26.131734",
     "status": "completed"
    },
    "tags": []
   },
   "outputs": [],
   "source": [
    "x = -10\n",
    "y = 5\n",
    "# # Which of the two variables above has the smallest absolute value?\n",
    "smallest_abs = min([abs(i) for i in [x, y]])"
   ]
  },
  {
   "cell_type": "code",
   "execution_count": 11,
   "id": "27e5db29",
   "metadata": {
    "execution": {
     "iopub.execute_input": "2021-08-26T04:53:26.217331Z",
     "iopub.status.busy": "2021-08-26T04:53:26.216568Z",
     "iopub.status.idle": "2021-08-26T04:53:26.219593Z",
     "shell.execute_reply": "2021-08-26T04:53:26.220121Z",
     "shell.execute_reply.started": "2021-08-26T04:52:45.663763Z"
    },
    "papermill": {
     "duration": 0.033279,
     "end_time": "2021-08-26T04:53:26.220290",
     "exception": false,
     "start_time": "2021-08-26T04:53:26.187011",
     "status": "completed"
    },
    "tags": []
   },
   "outputs": [
    {
     "name": "stdout",
     "output_type": "stream",
     "text": [
      "5\n"
     ]
    }
   ],
   "source": [
    "def f(x):\n",
    "    y = abs(x)\n",
    "    return y\n",
    "\n",
    "print(f(5))"
   ]
  },
  {
   "cell_type": "markdown",
   "id": "29e4ec7a",
   "metadata": {
    "papermill": {
     "duration": 0.022837,
     "end_time": "2021-08-26T04:53:26.266575",
     "exception": false,
     "start_time": "2021-08-26T04:53:26.243738",
     "status": "completed"
    },
    "tags": []
   },
   "source": [
    "# Keep Going\n",
    "\n",
    "Nice job with the code. Next up, you'll learn about *conditionals*, which you'll need to **[write interesting programs](https://www.kaggle.com/colinmorris/booleans-and-conditionals)**. "
   ]
  },
  {
   "cell_type": "markdown",
   "id": "db21189e",
   "metadata": {
    "papermill": {
     "duration": 0.021645,
     "end_time": "2021-08-26T04:53:26.310542",
     "exception": false,
     "start_time": "2021-08-26T04:53:26.288897",
     "status": "completed"
    },
    "tags": []
   },
   "source": [
    "---\n",
    "\n",
    "\n",
    "\n",
    "\n",
    "*Have questions or comments? Visit the [Learn Discussion forum](https://www.kaggle.com/learn-forum/161283) to chat with other Learners.*"
   ]
  }
 ],
 "metadata": {
  "kernelspec": {
   "display_name": "Python 3",
   "language": "python",
   "name": "python3"
  },
  "language_info": {
   "codemirror_mode": {
    "name": "ipython",
    "version": 3
   },
   "file_extension": ".py",
   "mimetype": "text/x-python",
   "name": "python",
   "nbconvert_exporter": "python",
   "pygments_lexer": "ipython3",
   "version": "3.7.10"
  },
  "papermill": {
   "default_parameters": {},
   "duration": 8.7243,
   "end_time": "2021-08-26T04:53:26.941819",
   "environment_variables": {},
   "exception": null,
   "input_path": "__notebook__.ipynb",
   "output_path": "__notebook__.ipynb",
   "parameters": {},
   "start_time": "2021-08-26T04:53:18.217519",
   "version": "2.3.3"
  }
 },
 "nbformat": 4,
 "nbformat_minor": 5
}
