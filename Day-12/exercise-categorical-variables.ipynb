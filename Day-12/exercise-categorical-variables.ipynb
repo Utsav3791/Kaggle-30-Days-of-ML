{
 "cells": [
  {
   "cell_type": "markdown",
   "id": "76fd1320",
   "metadata": {
    "papermill": {
     "duration": 0.030661,
     "end_time": "2021-08-28T09:14:55.375714",
     "exception": false,
     "start_time": "2021-08-28T09:14:55.345053",
     "status": "completed"
    },
    "tags": []
   },
   "source": [
    "**This notebook is an exercise in the [Intermediate Machine Learning](https://www.kaggle.com/learn/intermediate-machine-learning) course.  You can reference the tutorial at [this link](https://www.kaggle.com/alexisbcook/categorical-variables).**\n",
    "\n",
    "---\n"
   ]
  },
  {
   "cell_type": "markdown",
   "id": "d02bb38c",
   "metadata": {
    "papermill": {
     "duration": 0.029762,
     "end_time": "2021-08-28T09:14:55.435426",
     "exception": false,
     "start_time": "2021-08-28T09:14:55.405664",
     "status": "completed"
    },
    "tags": []
   },
   "source": [
    "By encoding **categorical variables**, you'll obtain your best results thus far!\n",
    "\n",
    "# Setup\n",
    "\n",
    "The questions below will give you feedback on your work. Run the following cell to set up the feedback system."
   ]
  },
  {
   "cell_type": "code",
   "execution_count": 1,
   "id": "2a170e7f",
   "metadata": {
    "execution": {
     "iopub.execute_input": "2021-08-28T09:14:55.506593Z",
     "iopub.status.busy": "2021-08-28T09:14:55.505967Z",
     "iopub.status.idle": "2021-08-28T09:14:55.654120Z",
     "shell.execute_reply": "2021-08-28T09:14:55.654596Z",
     "shell.execute_reply.started": "2021-08-28T09:07:02.192185Z"
    },
    "papermill": {
     "duration": 0.189968,
     "end_time": "2021-08-28T09:14:55.654877",
     "exception": false,
     "start_time": "2021-08-28T09:14:55.464909",
     "status": "completed"
    },
    "tags": []
   },
   "outputs": [
    {
     "name": "stdout",
     "output_type": "stream",
     "text": [
      "Setup Complete\n"
     ]
    }
   ],
   "source": [
    "# Set up code checking\n",
    "import os\n",
    "if not os.path.exists(\"../input/train.csv\"):\n",
    "    os.symlink(\"../input/home-data-for-ml-course/train.csv\", \"../input/train.csv\")  \n",
    "    os.symlink(\"../input/home-data-for-ml-course/test.csv\", \"../input/test.csv\") \n",
    "from learntools.core import binder\n",
    "binder.bind(globals())\n",
    "from learntools.ml_intermediate.ex3 import *\n",
    "print(\"Setup Complete\")"
   ]
  },
  {
   "cell_type": "markdown",
   "id": "30717115",
   "metadata": {
    "papermill": {
     "duration": 0.030155,
     "end_time": "2021-08-28T09:14:55.715204",
     "exception": false,
     "start_time": "2021-08-28T09:14:55.685049",
     "status": "completed"
    },
    "tags": []
   },
   "source": [
    "In this exercise, you will work with data from the [Housing Prices Competition for Kaggle Learn Users](https://www.kaggle.com/c/home-data-for-ml-course). \n",
    "\n",
    "![Ames Housing dataset image](https://i.imgur.com/lTJVG4e.png)\n",
    "\n",
    "Run the next code cell without changes to load the training and validation sets in `X_train`, `X_valid`, `y_train`, and `y_valid`.  The test set is loaded in `X_test`."
   ]
  },
  {
   "cell_type": "code",
   "execution_count": 2,
   "id": "c8c9d968",
   "metadata": {
    "execution": {
     "iopub.execute_input": "2021-08-28T09:14:55.784473Z",
     "iopub.status.busy": "2021-08-28T09:14:55.783658Z",
     "iopub.status.idle": "2021-08-28T09:14:57.006152Z",
     "shell.execute_reply": "2021-08-28T09:14:57.005506Z",
     "shell.execute_reply.started": "2021-08-28T09:07:02.395013Z"
    },
    "papermill": {
     "duration": 1.260749,
     "end_time": "2021-08-28T09:14:57.006282",
     "exception": false,
     "start_time": "2021-08-28T09:14:55.745533",
     "status": "completed"
    },
    "tags": []
   },
   "outputs": [],
   "source": [
    "import pandas as pd\n",
    "from sklearn.model_selection import train_test_split\n",
    "\n",
    "# Read the data\n",
    "X = pd.read_csv('../input/train.csv', index_col='Id') \n",
    "X_test = pd.read_csv('../input/test.csv', index_col='Id')\n",
    "\n",
    "# Remove rows with missing target, separate target from predictors\n",
    "X.dropna(axis=0, subset=['SalePrice'], inplace=True)\n",
    "y = X.SalePrice\n",
    "X.drop(['SalePrice'], axis=1, inplace=True)\n",
    "\n",
    "# To keep things simple, we'll drop columns with missing values\n",
    "cols_with_missing = [col for col in X.columns if X[col].isnull().any()] \n",
    "X.drop(cols_with_missing, axis=1, inplace=True)\n",
    "X_test.drop(cols_with_missing, axis=1, inplace=True)\n",
    "\n",
    "# Break off validation set from training data\n",
    "X_train, X_valid, y_train, y_valid = train_test_split(X, y,\n",
    "                                                      train_size=0.8, test_size=0.2,\n",
    "                                                      random_state=0)"
   ]
  },
  {
   "cell_type": "markdown",
   "id": "88badd6a",
   "metadata": {
    "papermill": {
     "duration": 0.02965,
     "end_time": "2021-08-28T09:14:57.067075",
     "exception": false,
     "start_time": "2021-08-28T09:14:57.037425",
     "status": "completed"
    },
    "tags": []
   },
   "source": [
    "Use the next code cell to print the first five rows of the data."
   ]
  },
  {
   "cell_type": "code",
   "execution_count": 3,
   "id": "aa7eafce",
   "metadata": {
    "execution": {
     "iopub.execute_input": "2021-08-28T09:14:57.135790Z",
     "iopub.status.busy": "2021-08-28T09:14:57.135117Z",
     "iopub.status.idle": "2021-08-28T09:14:57.161848Z",
     "shell.execute_reply": "2021-08-28T09:14:57.162343Z",
     "shell.execute_reply.started": "2021-08-28T09:07:03.579308Z"
    },
    "papermill": {
     "duration": 0.065305,
     "end_time": "2021-08-28T09:14:57.162507",
     "exception": false,
     "start_time": "2021-08-28T09:14:57.097202",
     "status": "completed"
    },
    "tags": []
   },
   "outputs": [
    {
     "data": {
      "text/html": [
       "<div>\n",
       "<style scoped>\n",
       "    .dataframe tbody tr th:only-of-type {\n",
       "        vertical-align: middle;\n",
       "    }\n",
       "\n",
       "    .dataframe tbody tr th {\n",
       "        vertical-align: top;\n",
       "    }\n",
       "\n",
       "    .dataframe thead th {\n",
       "        text-align: right;\n",
       "    }\n",
       "</style>\n",
       "<table border=\"1\" class=\"dataframe\">\n",
       "  <thead>\n",
       "    <tr style=\"text-align: right;\">\n",
       "      <th></th>\n",
       "      <th>MSSubClass</th>\n",
       "      <th>MSZoning</th>\n",
       "      <th>LotArea</th>\n",
       "      <th>Street</th>\n",
       "      <th>LotShape</th>\n",
       "      <th>LandContour</th>\n",
       "      <th>Utilities</th>\n",
       "      <th>LotConfig</th>\n",
       "      <th>LandSlope</th>\n",
       "      <th>Neighborhood</th>\n",
       "      <th>...</th>\n",
       "      <th>OpenPorchSF</th>\n",
       "      <th>EnclosedPorch</th>\n",
       "      <th>3SsnPorch</th>\n",
       "      <th>ScreenPorch</th>\n",
       "      <th>PoolArea</th>\n",
       "      <th>MiscVal</th>\n",
       "      <th>MoSold</th>\n",
       "      <th>YrSold</th>\n",
       "      <th>SaleType</th>\n",
       "      <th>SaleCondition</th>\n",
       "    </tr>\n",
       "    <tr>\n",
       "      <th>Id</th>\n",
       "      <th></th>\n",
       "      <th></th>\n",
       "      <th></th>\n",
       "      <th></th>\n",
       "      <th></th>\n",
       "      <th></th>\n",
       "      <th></th>\n",
       "      <th></th>\n",
       "      <th></th>\n",
       "      <th></th>\n",
       "      <th></th>\n",
       "      <th></th>\n",
       "      <th></th>\n",
       "      <th></th>\n",
       "      <th></th>\n",
       "      <th></th>\n",
       "      <th></th>\n",
       "      <th></th>\n",
       "      <th></th>\n",
       "      <th></th>\n",
       "      <th></th>\n",
       "    </tr>\n",
       "  </thead>\n",
       "  <tbody>\n",
       "    <tr>\n",
       "      <th>619</th>\n",
       "      <td>20</td>\n",
       "      <td>RL</td>\n",
       "      <td>11694</td>\n",
       "      <td>Pave</td>\n",
       "      <td>Reg</td>\n",
       "      <td>Lvl</td>\n",
       "      <td>AllPub</td>\n",
       "      <td>Inside</td>\n",
       "      <td>Gtl</td>\n",
       "      <td>NridgHt</td>\n",
       "      <td>...</td>\n",
       "      <td>108</td>\n",
       "      <td>0</td>\n",
       "      <td>0</td>\n",
       "      <td>260</td>\n",
       "      <td>0</td>\n",
       "      <td>0</td>\n",
       "      <td>7</td>\n",
       "      <td>2007</td>\n",
       "      <td>New</td>\n",
       "      <td>Partial</td>\n",
       "    </tr>\n",
       "    <tr>\n",
       "      <th>871</th>\n",
       "      <td>20</td>\n",
       "      <td>RL</td>\n",
       "      <td>6600</td>\n",
       "      <td>Pave</td>\n",
       "      <td>Reg</td>\n",
       "      <td>Lvl</td>\n",
       "      <td>AllPub</td>\n",
       "      <td>Inside</td>\n",
       "      <td>Gtl</td>\n",
       "      <td>NAmes</td>\n",
       "      <td>...</td>\n",
       "      <td>0</td>\n",
       "      <td>0</td>\n",
       "      <td>0</td>\n",
       "      <td>0</td>\n",
       "      <td>0</td>\n",
       "      <td>0</td>\n",
       "      <td>8</td>\n",
       "      <td>2009</td>\n",
       "      <td>WD</td>\n",
       "      <td>Normal</td>\n",
       "    </tr>\n",
       "    <tr>\n",
       "      <th>93</th>\n",
       "      <td>30</td>\n",
       "      <td>RL</td>\n",
       "      <td>13360</td>\n",
       "      <td>Pave</td>\n",
       "      <td>IR1</td>\n",
       "      <td>HLS</td>\n",
       "      <td>AllPub</td>\n",
       "      <td>Inside</td>\n",
       "      <td>Gtl</td>\n",
       "      <td>Crawfor</td>\n",
       "      <td>...</td>\n",
       "      <td>0</td>\n",
       "      <td>44</td>\n",
       "      <td>0</td>\n",
       "      <td>0</td>\n",
       "      <td>0</td>\n",
       "      <td>0</td>\n",
       "      <td>8</td>\n",
       "      <td>2009</td>\n",
       "      <td>WD</td>\n",
       "      <td>Normal</td>\n",
       "    </tr>\n",
       "    <tr>\n",
       "      <th>818</th>\n",
       "      <td>20</td>\n",
       "      <td>RL</td>\n",
       "      <td>13265</td>\n",
       "      <td>Pave</td>\n",
       "      <td>IR1</td>\n",
       "      <td>Lvl</td>\n",
       "      <td>AllPub</td>\n",
       "      <td>CulDSac</td>\n",
       "      <td>Gtl</td>\n",
       "      <td>Mitchel</td>\n",
       "      <td>...</td>\n",
       "      <td>59</td>\n",
       "      <td>0</td>\n",
       "      <td>0</td>\n",
       "      <td>0</td>\n",
       "      <td>0</td>\n",
       "      <td>0</td>\n",
       "      <td>7</td>\n",
       "      <td>2008</td>\n",
       "      <td>WD</td>\n",
       "      <td>Normal</td>\n",
       "    </tr>\n",
       "    <tr>\n",
       "      <th>303</th>\n",
       "      <td>20</td>\n",
       "      <td>RL</td>\n",
       "      <td>13704</td>\n",
       "      <td>Pave</td>\n",
       "      <td>IR1</td>\n",
       "      <td>Lvl</td>\n",
       "      <td>AllPub</td>\n",
       "      <td>Corner</td>\n",
       "      <td>Gtl</td>\n",
       "      <td>CollgCr</td>\n",
       "      <td>...</td>\n",
       "      <td>81</td>\n",
       "      <td>0</td>\n",
       "      <td>0</td>\n",
       "      <td>0</td>\n",
       "      <td>0</td>\n",
       "      <td>0</td>\n",
       "      <td>1</td>\n",
       "      <td>2006</td>\n",
       "      <td>WD</td>\n",
       "      <td>Normal</td>\n",
       "    </tr>\n",
       "  </tbody>\n",
       "</table>\n",
       "<p>5 rows × 60 columns</p>\n",
       "</div>"
      ],
      "text/plain": [
       "     MSSubClass MSZoning  LotArea Street LotShape LandContour Utilities  \\\n",
       "Id                                                                        \n",
       "619          20       RL    11694   Pave      Reg         Lvl    AllPub   \n",
       "871          20       RL     6600   Pave      Reg         Lvl    AllPub   \n",
       "93           30       RL    13360   Pave      IR1         HLS    AllPub   \n",
       "818          20       RL    13265   Pave      IR1         Lvl    AllPub   \n",
       "303          20       RL    13704   Pave      IR1         Lvl    AllPub   \n",
       "\n",
       "    LotConfig LandSlope Neighborhood  ... OpenPorchSF EnclosedPorch 3SsnPorch  \\\n",
       "Id                                    ...                                       \n",
       "619    Inside       Gtl      NridgHt  ...         108             0         0   \n",
       "871    Inside       Gtl        NAmes  ...           0             0         0   \n",
       "93     Inside       Gtl      Crawfor  ...           0            44         0   \n",
       "818   CulDSac       Gtl      Mitchel  ...          59             0         0   \n",
       "303    Corner       Gtl      CollgCr  ...          81             0         0   \n",
       "\n",
       "    ScreenPorch  PoolArea  MiscVal  MoSold  YrSold SaleType SaleCondition  \n",
       "Id                                                                         \n",
       "619         260         0        0       7    2007      New       Partial  \n",
       "871           0         0        0       8    2009       WD        Normal  \n",
       "93            0         0        0       8    2009       WD        Normal  \n",
       "818           0         0        0       7    2008       WD        Normal  \n",
       "303           0         0        0       1    2006       WD        Normal  \n",
       "\n",
       "[5 rows x 60 columns]"
      ]
     },
     "execution_count": 3,
     "metadata": {},
     "output_type": "execute_result"
    }
   ],
   "source": [
    "X_train.head()"
   ]
  },
  {
   "cell_type": "markdown",
   "id": "a7287373",
   "metadata": {
    "papermill": {
     "duration": 0.030113,
     "end_time": "2021-08-28T09:14:57.223024",
     "exception": false,
     "start_time": "2021-08-28T09:14:57.192911",
     "status": "completed"
    },
    "tags": []
   },
   "source": [
    "Notice that the dataset contains both numerical and categorical variables.  You'll need to encode the categorical data before training a model.\n",
    "\n",
    "To compare different models, you'll use the same `score_dataset()` function from the tutorial.  This function reports the [mean absolute error](https://en.wikipedia.org/wiki/Mean_absolute_error) (MAE) from a random forest model."
   ]
  },
  {
   "cell_type": "code",
   "execution_count": 4,
   "id": "e98f19da",
   "metadata": {
    "execution": {
     "iopub.execute_input": "2021-08-28T09:14:57.287615Z",
     "iopub.status.busy": "2021-08-28T09:14:57.286687Z",
     "iopub.status.idle": "2021-08-28T09:14:57.498621Z",
     "shell.execute_reply": "2021-08-28T09:14:57.498077Z",
     "shell.execute_reply.started": "2021-08-28T09:07:03.624643Z"
    },
    "papermill": {
     "duration": 0.245245,
     "end_time": "2021-08-28T09:14:57.498760",
     "exception": false,
     "start_time": "2021-08-28T09:14:57.253515",
     "status": "completed"
    },
    "tags": []
   },
   "outputs": [],
   "source": [
    "from sklearn.ensemble import RandomForestRegressor\n",
    "from sklearn.metrics import mean_absolute_error\n",
    "\n",
    "# function for comparing different approaches\n",
    "def score_dataset(X_train, X_valid, y_train, y_valid):\n",
    "    model = RandomForestRegressor(n_estimators=100, random_state=0)\n",
    "    model.fit(X_train, y_train)\n",
    "    preds = model.predict(X_valid)\n",
    "    return mean_absolute_error(y_valid, preds)"
   ]
  },
  {
   "cell_type": "markdown",
   "id": "9da357b4",
   "metadata": {
    "papermill": {
     "duration": 0.029924,
     "end_time": "2021-08-28T09:14:57.559240",
     "exception": false,
     "start_time": "2021-08-28T09:14:57.529316",
     "status": "completed"
    },
    "tags": []
   },
   "source": [
    "# Step 1: Drop columns with categorical data\n",
    "\n",
    "You'll get started with the most straightforward approach.  Use the code cell below to preprocess the data in `X_train` and `X_valid` to remove columns with categorical data.  Set the preprocessed DataFrames to `drop_X_train` and `drop_X_valid`, respectively.  "
   ]
  },
  {
   "cell_type": "code",
   "execution_count": 5,
   "id": "eec50d51",
   "metadata": {
    "execution": {
     "iopub.execute_input": "2021-08-28T09:14:57.629979Z",
     "iopub.status.busy": "2021-08-28T09:14:57.629329Z",
     "iopub.status.idle": "2021-08-28T09:14:57.634887Z",
     "shell.execute_reply": "2021-08-28T09:14:57.635319Z",
     "shell.execute_reply.started": "2021-08-28T09:07:03.843555Z"
    },
    "papermill": {
     "duration": 0.046145,
     "end_time": "2021-08-28T09:14:57.635475",
     "exception": false,
     "start_time": "2021-08-28T09:14:57.589330",
     "status": "completed"
    },
    "tags": []
   },
   "outputs": [
    {
     "data": {
      "application/javascript": [
       "parent.postMessage({\"jupyterEvent\": \"custom.exercise_interaction\", \"data\": {\"outcomeType\": 1, \"valueTowardsCompletion\": 0.5, \"interactionType\": 1, \"questionType\": 2, \"questionId\": \"1_Drop\", \"learnToolsVersion\": \"0.3.4\", \"failureMessage\": \"\", \"exceptionClass\": \"\", \"trace\": \"\"}}, \"*\")"
      ],
      "text/plain": [
       "<IPython.core.display.Javascript object>"
      ]
     },
     "metadata": {},
     "output_type": "display_data"
    },
    {
     "data": {
      "text/markdown": [
       "<span style=\"color:#33cc33\">Correct</span>"
      ],
      "text/plain": [
       "Correct"
      ]
     },
     "metadata": {},
     "output_type": "display_data"
    }
   ],
   "source": [
    "# Fill in the lines below: drop columns in training and validation data\n",
    "drop_X_train = X_train.select_dtypes(exclude='object')\n",
    "drop_X_valid = X_valid.select_dtypes(exclude='object')\n",
    "\n",
    "# Check your answers\n",
    "step_1.check()"
   ]
  },
  {
   "cell_type": "code",
   "execution_count": 6,
   "id": "95488f81",
   "metadata": {
    "execution": {
     "iopub.execute_input": "2021-08-28T09:14:57.700921Z",
     "iopub.status.busy": "2021-08-28T09:14:57.700019Z",
     "iopub.status.idle": "2021-08-28T09:14:57.703205Z",
     "shell.execute_reply": "2021-08-28T09:14:57.703721Z",
     "shell.execute_reply.started": "2021-08-28T09:07:03.864628Z"
    },
    "papermill": {
     "duration": 0.037452,
     "end_time": "2021-08-28T09:14:57.703870",
     "exception": false,
     "start_time": "2021-08-28T09:14:57.666418",
     "status": "completed"
    },
    "tags": []
   },
   "outputs": [],
   "source": [
    "# Lines below will give you a hint or solution code\n",
    "#step_1.hint()\n",
    "#step_1.solution()"
   ]
  },
  {
   "cell_type": "markdown",
   "id": "f7c3afa1",
   "metadata": {
    "papermill": {
     "duration": 0.031324,
     "end_time": "2021-08-28T09:14:57.766514",
     "exception": false,
     "start_time": "2021-08-28T09:14:57.735190",
     "status": "completed"
    },
    "tags": []
   },
   "source": [
    "Run the next code cell to get the MAE for this approach."
   ]
  },
  {
   "cell_type": "code",
   "execution_count": 7,
   "id": "9b4f982b",
   "metadata": {
    "execution": {
     "iopub.execute_input": "2021-08-28T09:14:57.832468Z",
     "iopub.status.busy": "2021-08-28T09:14:57.831524Z",
     "iopub.status.idle": "2021-08-28T09:14:59.082047Z",
     "shell.execute_reply": "2021-08-28T09:14:59.080922Z",
     "shell.execute_reply.started": "2021-08-28T09:07:03.872455Z"
    },
    "papermill": {
     "duration": 1.284496,
     "end_time": "2021-08-28T09:14:59.082364",
     "exception": false,
     "start_time": "2021-08-28T09:14:57.797868",
     "status": "completed"
    },
    "tags": []
   },
   "outputs": [
    {
     "name": "stdout",
     "output_type": "stream",
     "text": [
      "MAE from Approach 1 (Drop categorical variables):\n",
      "17837.82570776256\n"
     ]
    }
   ],
   "source": [
    "print(\"MAE from Approach 1 (Drop categorical variables):\")\n",
    "print(score_dataset(drop_X_train, drop_X_valid, y_train, y_valid))"
   ]
  },
  {
   "cell_type": "markdown",
   "id": "13d1ff1e",
   "metadata": {
    "papermill": {
     "duration": 0.032425,
     "end_time": "2021-08-28T09:14:59.153244",
     "exception": false,
     "start_time": "2021-08-28T09:14:59.120819",
     "status": "completed"
    },
    "tags": []
   },
   "source": [
    "Before jumping into ordinal encoding, we'll investigate the dataset.  Specifically, we'll look at the `'Condition2'` column.  The code cell below prints the unique entries in both the training and validation sets."
   ]
  },
  {
   "cell_type": "code",
   "execution_count": 8,
   "id": "e028470c",
   "metadata": {
    "execution": {
     "iopub.execute_input": "2021-08-28T09:14:59.233925Z",
     "iopub.status.busy": "2021-08-28T09:14:59.232940Z",
     "iopub.status.idle": "2021-08-28T09:14:59.242636Z",
     "shell.execute_reply": "2021-08-28T09:14:59.242092Z",
     "shell.execute_reply.started": "2021-08-28T09:07:05.249921Z"
    },
    "papermill": {
     "duration": 0.051528,
     "end_time": "2021-08-28T09:14:59.242778",
     "exception": false,
     "start_time": "2021-08-28T09:14:59.191250",
     "status": "completed"
    },
    "tags": []
   },
   "outputs": [
    {
     "name": "stdout",
     "output_type": "stream",
     "text": [
      "Unique values in 'Condition2' column in training data: ['Norm' 'PosA' 'Feedr' 'PosN' 'Artery' 'RRAe']\n",
      "\n",
      "Unique values in 'Condition2' column in validation data: ['Norm' 'RRAn' 'RRNn' 'Artery' 'Feedr' 'PosN']\n"
     ]
    }
   ],
   "source": [
    "print(\"Unique values in 'Condition2' column in training data:\", X_train['Condition2'].unique())\n",
    "print(\"\\nUnique values in 'Condition2' column in validation data:\", X_valid['Condition2'].unique())"
   ]
  },
  {
   "cell_type": "markdown",
   "id": "de84a626",
   "metadata": {
    "papermill": {
     "duration": 0.035793,
     "end_time": "2021-08-28T09:14:59.311394",
     "exception": false,
     "start_time": "2021-08-28T09:14:59.275601",
     "status": "completed"
    },
    "tags": []
   },
   "source": [
    "# Step 2: Ordinal encoding\n",
    "\n",
    "### Part A\n",
    "\n",
    "If you now write code to: \n",
    "- fit an ordinal encoder to the training data, and then \n",
    "- use it to transform both the training and validation data, \n",
    "\n",
    "you'll get an error.  Can you see why this is the case?  (_You'll need  to use the above output to answer this question._)"
   ]
  },
  {
   "cell_type": "code",
   "execution_count": 9,
   "id": "9e5f81bb",
   "metadata": {
    "execution": {
     "iopub.execute_input": "2021-08-28T09:14:59.392682Z",
     "iopub.status.busy": "2021-08-28T09:14:59.391991Z",
     "iopub.status.idle": "2021-08-28T09:14:59.398827Z",
     "shell.execute_reply": "2021-08-28T09:14:59.397948Z",
     "shell.execute_reply.started": "2021-08-28T09:07:05.261890Z"
    },
    "papermill": {
     "duration": 0.046463,
     "end_time": "2021-08-28T09:14:59.399012",
     "exception": false,
     "start_time": "2021-08-28T09:14:59.352549",
     "status": "completed"
    },
    "tags": []
   },
   "outputs": [
    {
     "data": {
      "application/javascript": [
       "parent.postMessage({\"jupyterEvent\": \"custom.exercise_interaction\", \"data\": {\"outcomeType\": 1, \"valueTowardsCompletion\": 0.5, \"interactionType\": 1, \"questionType\": 4, \"questionId\": \"2.1_LabelA\", \"learnToolsVersion\": \"0.3.4\", \"failureMessage\": \"\", \"exceptionClass\": \"\", \"trace\": \"\"}}, \"*\")"
      ],
      "text/plain": [
       "<IPython.core.display.Javascript object>"
      ]
     },
     "metadata": {},
     "output_type": "display_data"
    },
    {
     "data": {
      "text/markdown": [
       "<span style=\"color:#33cc33\">Correct:</span> \n",
       "\n",
       "Fitting an ordinal encoder to a column in the training data creates a corresponding integer-valued label for each unique value **that appears in the training data**. In the case that the validation data contains values that don't also appear in the training data, the encoder will throw an error, because these values won't have an integer assigned to them.  Notice that the `'Condition2'` column in the validation data contains the values `'RRAn'` and `'RRNn'`, but these don't appear in the training data -- thus, if we try to use an ordinal encoder with scikit-learn, the code will throw an error."
      ],
      "text/plain": [
       "Correct: \n",
       "\n",
       "Fitting an ordinal encoder to a column in the training data creates a corresponding integer-valued label for each unique value **that appears in the training data**. In the case that the validation data contains values that don't also appear in the training data, the encoder will throw an error, because these values won't have an integer assigned to them.  Notice that the `'Condition2'` column in the validation data contains the values `'RRAn'` and `'RRNn'`, but these don't appear in the training data -- thus, if we try to use an ordinal encoder with scikit-learn, the code will throw an error."
      ]
     },
     "metadata": {},
     "output_type": "display_data"
    }
   ],
   "source": [
    "# Check your answer (Run this code cell to receive credit!)\n",
    "step_2.a.check()"
   ]
  },
  {
   "cell_type": "code",
   "execution_count": 10,
   "id": "1a68eacc",
   "metadata": {
    "execution": {
     "iopub.execute_input": "2021-08-28T09:14:59.476999Z",
     "iopub.status.busy": "2021-08-28T09:14:59.476116Z",
     "iopub.status.idle": "2021-08-28T09:14:59.479225Z",
     "shell.execute_reply": "2021-08-28T09:14:59.478641Z",
     "shell.execute_reply.started": "2021-08-28T09:07:05.280495Z"
    },
    "papermill": {
     "duration": 0.04015,
     "end_time": "2021-08-28T09:14:59.479349",
     "exception": false,
     "start_time": "2021-08-28T09:14:59.439199",
     "status": "completed"
    },
    "tags": []
   },
   "outputs": [],
   "source": [
    "#step_2.a.hint()"
   ]
  },
  {
   "cell_type": "markdown",
   "id": "7d887c05",
   "metadata": {
    "papermill": {
     "duration": 0.032788,
     "end_time": "2021-08-28T09:14:59.545654",
     "exception": false,
     "start_time": "2021-08-28T09:14:59.512866",
     "status": "completed"
    },
    "tags": []
   },
   "source": [
    "This is a common problem that you'll encounter with real-world data, and there are many approaches to fixing this issue.  For instance, you can write a custom ordinal encoder to deal with new categories.  The simplest approach, however, is to drop the problematic categorical columns.  \n",
    "\n",
    "Run the code cell below to save the problematic columns to a Python list `bad_label_cols`.  Likewise, columns that can be safely ordinal encoded are stored in `good_label_cols`."
   ]
  },
  {
   "cell_type": "code",
   "execution_count": 11,
   "id": "7dd7e5cf",
   "metadata": {
    "execution": {
     "iopub.execute_input": "2021-08-28T09:14:59.627480Z",
     "iopub.status.busy": "2021-08-28T09:14:59.626476Z",
     "iopub.status.idle": "2021-08-28T09:14:59.631875Z",
     "shell.execute_reply": "2021-08-28T09:14:59.631103Z",
     "shell.execute_reply.started": "2021-08-28T09:07:05.286235Z"
    },
    "papermill": {
     "duration": 0.053427,
     "end_time": "2021-08-28T09:14:59.632055",
     "exception": false,
     "start_time": "2021-08-28T09:14:59.578628",
     "status": "completed"
    },
    "tags": []
   },
   "outputs": [
    {
     "name": "stdout",
     "output_type": "stream",
     "text": [
      "Categorical columns that will be ordinal encoded: ['MSZoning', 'Street', 'LotShape', 'LandContour', 'Utilities', 'LotConfig', 'LandSlope', 'Neighborhood', 'Condition1', 'BldgType', 'HouseStyle', 'RoofStyle', 'Exterior1st', 'Exterior2nd', 'ExterQual', 'ExterCond', 'Foundation', 'Heating', 'HeatingQC', 'CentralAir', 'KitchenQual', 'PavedDrive', 'SaleType', 'SaleCondition']\n",
      "\n",
      "Categorical columns that will be dropped from the dataset: ['Functional', 'RoofMatl', 'Condition2']\n"
     ]
    }
   ],
   "source": [
    "# Categorical columns in the training data\n",
    "object_cols = [col for col in X_train.columns if X_train[col].dtype == \"object\"]\n",
    "\n",
    "# Columns that can be safely ordinal encoded\n",
    "good_label_cols = [col for col in object_cols if \n",
    "                   set(X_valid[col]).issubset(set(X_train[col]))]\n",
    "        \n",
    "# Problematic columns that will be dropped from the dataset\n",
    "bad_label_cols = list(set(object_cols)-set(good_label_cols))\n",
    "        \n",
    "print('Categorical columns that will be ordinal encoded:', good_label_cols)\n",
    "print('\\nCategorical columns that will be dropped from the dataset:', bad_label_cols)"
   ]
  },
  {
   "cell_type": "markdown",
   "id": "0fb98b43",
   "metadata": {
    "papermill": {
     "duration": 0.032991,
     "end_time": "2021-08-28T09:14:59.703970",
     "exception": false,
     "start_time": "2021-08-28T09:14:59.670979",
     "status": "completed"
    },
    "tags": []
   },
   "source": [
    "### Part B\n",
    "\n",
    "Use the next code cell to ordinal encode the data in `X_train` and `X_valid`.  Set the preprocessed DataFrames to `label_X_train` and `label_X_valid`, respectively.  \n",
    "- We have provided code below to drop the categorical columns in `bad_label_cols` from the dataset. \n",
    "- You should ordinal encode the categorical columns in `good_label_cols`.  "
   ]
  },
  {
   "cell_type": "code",
   "execution_count": 12,
   "id": "c5253245",
   "metadata": {
    "execution": {
     "iopub.execute_input": "2021-08-28T09:14:59.780422Z",
     "iopub.status.busy": "2021-08-28T09:14:59.779446Z",
     "iopub.status.idle": "2021-08-28T09:14:59.846674Z",
     "shell.execute_reply": "2021-08-28T09:14:59.846026Z",
     "shell.execute_reply.started": "2021-08-28T09:07:05.314957Z"
    },
    "papermill": {
     "duration": 0.109208,
     "end_time": "2021-08-28T09:14:59.846808",
     "exception": false,
     "start_time": "2021-08-28T09:14:59.737600",
     "status": "completed"
    },
    "tags": []
   },
   "outputs": [
    {
     "data": {
      "application/javascript": [
       "parent.postMessage({\"jupyterEvent\": \"custom.exercise_interaction\", \"data\": {\"outcomeType\": 1, \"valueTowardsCompletion\": 0.5, \"interactionType\": 1, \"questionType\": 2, \"questionId\": \"2.2_LabelB\", \"learnToolsVersion\": \"0.3.4\", \"failureMessage\": \"\", \"exceptionClass\": \"\", \"trace\": \"\"}}, \"*\")"
      ],
      "text/plain": [
       "<IPython.core.display.Javascript object>"
      ]
     },
     "metadata": {},
     "output_type": "display_data"
    },
    {
     "data": {
      "text/markdown": [
       "<span style=\"color:#33cc33\">Correct</span>"
      ],
      "text/plain": [
       "Correct"
      ]
     },
     "metadata": {},
     "output_type": "display_data"
    }
   ],
   "source": [
    "from sklearn.preprocessing import OrdinalEncoder\n",
    "\n",
    "# Drop categorical columns that will not be encoded\n",
    "label_X_train = X_train.drop(bad_label_cols, axis=1)\n",
    "label_X_valid = X_valid.drop(bad_label_cols, axis=1)\n",
    "\n",
    "# Apply ordinal encoder \n",
    "ordinal_encoder = OrdinalEncoder()\n",
    "label_X_train[good_label_cols] = ordinal_encoder.fit_transform(X_train[good_label_cols])\n",
    "label_X_valid[good_label_cols] = ordinal_encoder.transform(X_valid[good_label_cols])\n",
    "    \n",
    "# Check your answer\n",
    "step_2.b.check()"
   ]
  },
  {
   "cell_type": "code",
   "execution_count": 13,
   "id": "eb38bd82",
   "metadata": {
    "execution": {
     "iopub.execute_input": "2021-08-28T09:14:59.920931Z",
     "iopub.status.busy": "2021-08-28T09:14:59.919945Z",
     "iopub.status.idle": "2021-08-28T09:14:59.922935Z",
     "shell.execute_reply": "2021-08-28T09:14:59.922326Z",
     "shell.execute_reply.started": "2021-08-28T09:07:05.396672Z"
    },
    "papermill": {
     "duration": 0.042046,
     "end_time": "2021-08-28T09:14:59.923085",
     "exception": false,
     "start_time": "2021-08-28T09:14:59.881039",
     "status": "completed"
    },
    "tags": []
   },
   "outputs": [],
   "source": [
    "# Lines below will give you a hint or solution code\n",
    "#step_2.b.hint()\n",
    "#step_2.b.solution()"
   ]
  },
  {
   "cell_type": "markdown",
   "id": "2abffd3f",
   "metadata": {
    "papermill": {
     "duration": 0.03454,
     "end_time": "2021-08-28T09:14:59.992149",
     "exception": false,
     "start_time": "2021-08-28T09:14:59.957609",
     "status": "completed"
    },
    "tags": []
   },
   "source": [
    "Run the next code cell to get the MAE for this approach."
   ]
  },
  {
   "cell_type": "code",
   "execution_count": 14,
   "id": "37fcdb95",
   "metadata": {
    "execution": {
     "iopub.execute_input": "2021-08-28T09:15:00.072550Z",
     "iopub.status.busy": "2021-08-28T09:15:00.071466Z",
     "iopub.status.idle": "2021-08-28T09:15:01.653277Z",
     "shell.execute_reply": "2021-08-28T09:15:01.653749Z",
     "shell.execute_reply.started": "2021-08-28T09:07:05.403611Z"
    },
    "papermill": {
     "duration": 1.625756,
     "end_time": "2021-08-28T09:15:01.653918",
     "exception": false,
     "start_time": "2021-08-28T09:15:00.028162",
     "status": "completed"
    },
    "tags": []
   },
   "outputs": [
    {
     "name": "stdout",
     "output_type": "stream",
     "text": [
      "MAE from Approach 2 (Ordinal Encoding):\n",
      "17098.01649543379\n"
     ]
    }
   ],
   "source": [
    "print(\"MAE from Approach 2 (Ordinal Encoding):\") \n",
    "print(score_dataset(label_X_train, label_X_valid, y_train, y_valid))"
   ]
  },
  {
   "cell_type": "markdown",
   "id": "dd85ed45",
   "metadata": {
    "papermill": {
     "duration": 0.035425,
     "end_time": "2021-08-28T09:15:01.724832",
     "exception": false,
     "start_time": "2021-08-28T09:15:01.689407",
     "status": "completed"
    },
    "tags": []
   },
   "source": [
    "So far, you've tried two different approaches to dealing with categorical variables.  And, you've seen that encoding categorical data yields better results than removing columns from the dataset.\n",
    "\n",
    "Soon, you'll try one-hot encoding.  Before then, there's one additional topic we need to cover.  Begin by running the next code cell without changes.  "
   ]
  },
  {
   "cell_type": "code",
   "execution_count": 15,
   "id": "77350f9b",
   "metadata": {
    "execution": {
     "iopub.execute_input": "2021-08-28T09:15:01.801944Z",
     "iopub.status.busy": "2021-08-28T09:15:01.800932Z",
     "iopub.status.idle": "2021-08-28T09:15:01.818379Z",
     "shell.execute_reply": "2021-08-28T09:15:01.817850Z",
     "shell.execute_reply.started": "2021-08-28T09:07:07.103270Z"
    },
    "papermill": {
     "duration": 0.058797,
     "end_time": "2021-08-28T09:15:01.818519",
     "exception": false,
     "start_time": "2021-08-28T09:15:01.759722",
     "status": "completed"
    },
    "tags": []
   },
   "outputs": [
    {
     "data": {
      "text/plain": [
       "[('Street', 2),\n",
       " ('Utilities', 2),\n",
       " ('CentralAir', 2),\n",
       " ('LandSlope', 3),\n",
       " ('PavedDrive', 3),\n",
       " ('LotShape', 4),\n",
       " ('LandContour', 4),\n",
       " ('ExterQual', 4),\n",
       " ('KitchenQual', 4),\n",
       " ('MSZoning', 5),\n",
       " ('LotConfig', 5),\n",
       " ('BldgType', 5),\n",
       " ('ExterCond', 5),\n",
       " ('HeatingQC', 5),\n",
       " ('Condition2', 6),\n",
       " ('RoofStyle', 6),\n",
       " ('Foundation', 6),\n",
       " ('Heating', 6),\n",
       " ('Functional', 6),\n",
       " ('SaleCondition', 6),\n",
       " ('RoofMatl', 7),\n",
       " ('HouseStyle', 8),\n",
       " ('Condition1', 9),\n",
       " ('SaleType', 9),\n",
       " ('Exterior1st', 15),\n",
       " ('Exterior2nd', 16),\n",
       " ('Neighborhood', 25)]"
      ]
     },
     "execution_count": 15,
     "metadata": {},
     "output_type": "execute_result"
    }
   ],
   "source": [
    "# Get number of unique entries in each column with categorical data\n",
    "object_nunique = list(map(lambda col: X_train[col].nunique(), object_cols))\n",
    "d = dict(zip(object_cols, object_nunique))\n",
    "\n",
    "# Print number of unique entries by column, in ascending order\n",
    "sorted(d.items(), key=lambda x: x[1])"
   ]
  },
  {
   "cell_type": "markdown",
   "id": "4dc166e8",
   "metadata": {
    "papermill": {
     "duration": 0.035711,
     "end_time": "2021-08-28T09:15:01.890528",
     "exception": false,
     "start_time": "2021-08-28T09:15:01.854817",
     "status": "completed"
    },
    "tags": []
   },
   "source": [
    "# Step 3: Investigating cardinality\n",
    "\n",
    "### Part A\n",
    "\n",
    "The output above shows, for each column with categorical data, the number of unique values in the column.  For instance, the `'Street'` column in the training data has two unique values: `'Grvl'` and `'Pave'`, corresponding to a gravel road and a paved road, respectively.\n",
    "\n",
    "We refer to the number of unique entries of a categorical variable as the **cardinality** of that categorical variable.  For instance, the `'Street'` variable has cardinality 2.\n",
    "\n",
    "Use the output above to answer the questions below."
   ]
  },
  {
   "cell_type": "code",
   "execution_count": 16,
   "id": "ad51140c",
   "metadata": {
    "execution": {
     "iopub.execute_input": "2021-08-28T09:15:01.969339Z",
     "iopub.status.busy": "2021-08-28T09:15:01.968344Z",
     "iopub.status.idle": "2021-08-28T09:15:01.974222Z",
     "shell.execute_reply": "2021-08-28T09:15:01.973613Z",
     "shell.execute_reply.started": "2021-08-28T09:07:07.131663Z"
    },
    "papermill": {
     "duration": 0.047719,
     "end_time": "2021-08-28T09:15:01.974350",
     "exception": false,
     "start_time": "2021-08-28T09:15:01.926631",
     "status": "completed"
    },
    "tags": []
   },
   "outputs": [
    {
     "data": {
      "application/javascript": [
       "parent.postMessage({\"jupyterEvent\": \"custom.exercise_interaction\", \"data\": {\"outcomeType\": 1, \"valueTowardsCompletion\": 0.5, \"interactionType\": 1, \"questionType\": 1, \"questionId\": \"3.1_CardinalityA\", \"learnToolsVersion\": \"0.3.4\", \"failureMessage\": \"\", \"exceptionClass\": \"\", \"trace\": \"\"}}, \"*\")"
      ],
      "text/plain": [
       "<IPython.core.display.Javascript object>"
      ]
     },
     "metadata": {},
     "output_type": "display_data"
    },
    {
     "data": {
      "text/markdown": [
       "<span style=\"color:#33cc33\">Correct</span>"
      ],
      "text/plain": [
       "Correct"
      ]
     },
     "metadata": {},
     "output_type": "display_data"
    }
   ],
   "source": [
    "# Fill in the line below: How many categorical variables in the training data\n",
    "# have cardinality greater than 10?\n",
    "import numpy as np\n",
    "high_cardinality_numcols = sum(np.array(list(d.values())) > 10)\n",
    "\n",
    "# Fill in the line below: How many columns are needed to one-hot encode the \n",
    "# 'Neighborhood' variable in the training data?\n",
    "num_cols_neighborhood = d['Neighborhood']\n",
    "\n",
    "# Check your answers\n",
    "step_3.a.check()"
   ]
  },
  {
   "cell_type": "code",
   "execution_count": 17,
   "id": "0691d467",
   "metadata": {
    "execution": {
     "iopub.execute_input": "2021-08-28T09:15:02.053047Z",
     "iopub.status.busy": "2021-08-28T09:15:02.052207Z",
     "iopub.status.idle": "2021-08-28T09:15:02.055369Z",
     "shell.execute_reply": "2021-08-28T09:15:02.054804Z",
     "shell.execute_reply.started": "2021-08-28T09:07:07.144685Z"
    },
    "papermill": {
     "duration": 0.044449,
     "end_time": "2021-08-28T09:15:02.055492",
     "exception": false,
     "start_time": "2021-08-28T09:15:02.011043",
     "status": "completed"
    },
    "tags": []
   },
   "outputs": [],
   "source": [
    "# Lines below will give you a hint or solution code\n",
    "#step_3.a.hint()\n",
    "#step_3.a.solution()"
   ]
  },
  {
   "cell_type": "markdown",
   "id": "00d9b0ab",
   "metadata": {
    "papermill": {
     "duration": 0.036679,
     "end_time": "2021-08-28T09:15:02.128990",
     "exception": false,
     "start_time": "2021-08-28T09:15:02.092311",
     "status": "completed"
    },
    "tags": []
   },
   "source": [
    "### Part B\n",
    "\n",
    "For large datasets with many rows, one-hot encoding can greatly expand the size of the dataset.  For this reason, we typically will only one-hot encode columns with relatively low cardinality.  Then, high cardinality columns can either be dropped from the dataset, or we can use ordinal encoding.\n",
    "\n",
    "As an example, consider a dataset with 10,000 rows, and containing one categorical column with 100 unique entries.  \n",
    "- If this column is replaced with the corresponding one-hot encoding, how many entries are added to the dataset?  \n",
    "- If we instead replace the column with the ordinal encoding, how many entries are added?  \n",
    "\n",
    "Use your answers to fill in the lines below."
   ]
  },
  {
   "cell_type": "code",
   "execution_count": 18,
   "id": "e7cd6d93",
   "metadata": {
    "execution": {
     "iopub.execute_input": "2021-08-28T09:15:02.207681Z",
     "iopub.status.busy": "2021-08-28T09:15:02.206920Z",
     "iopub.status.idle": "2021-08-28T09:15:02.212178Z",
     "shell.execute_reply": "2021-08-28T09:15:02.211673Z",
     "shell.execute_reply.started": "2021-08-28T09:07:07.160505Z"
    },
    "papermill": {
     "duration": 0.047132,
     "end_time": "2021-08-28T09:15:02.212305",
     "exception": false,
     "start_time": "2021-08-28T09:15:02.165173",
     "status": "completed"
    },
    "tags": []
   },
   "outputs": [
    {
     "data": {
      "application/javascript": [
       "parent.postMessage({\"jupyterEvent\": \"custom.exercise_interaction\", \"data\": {\"outcomeType\": 1, \"valueTowardsCompletion\": 0.5, \"interactionType\": 1, \"questionType\": 1, \"questionId\": \"3.2_CardinalityB\", \"learnToolsVersion\": \"0.3.4\", \"failureMessage\": \"\", \"exceptionClass\": \"\", \"trace\": \"\"}}, \"*\")"
      ],
      "text/plain": [
       "<IPython.core.display.Javascript object>"
      ]
     },
     "metadata": {},
     "output_type": "display_data"
    },
    {
     "data": {
      "text/markdown": [
       "<span style=\"color:#33cc33\">Correct</span>"
      ],
      "text/plain": [
       "Correct"
      ]
     },
     "metadata": {},
     "output_type": "display_data"
    }
   ],
   "source": [
    "# Fill in the line below: How many entries are added to the dataset by \n",
    "# replacing the column with a one-hot encoding?\n",
    "OH_entries_added = 10000 * (100 - 1)\n",
    "\n",
    "# Fill in the line below: How many entries are added to the dataset by\n",
    "# replacing the column with an ordinal encoding?\n",
    "label_entries_added = 0\n",
    "\n",
    "# Check your answers\n",
    "step_3.b.check()"
   ]
  },
  {
   "cell_type": "code",
   "execution_count": 19,
   "id": "7e36bc83",
   "metadata": {
    "execution": {
     "iopub.execute_input": "2021-08-28T09:15:02.291456Z",
     "iopub.status.busy": "2021-08-28T09:15:02.290443Z",
     "iopub.status.idle": "2021-08-28T09:15:02.292779Z",
     "shell.execute_reply": "2021-08-28T09:15:02.293308Z",
     "shell.execute_reply.started": "2021-08-28T09:07:07.179140Z"
    },
    "papermill": {
     "duration": 0.043925,
     "end_time": "2021-08-28T09:15:02.293466",
     "exception": false,
     "start_time": "2021-08-28T09:15:02.249541",
     "status": "completed"
    },
    "tags": []
   },
   "outputs": [],
   "source": [
    "# Lines below will give you a hint or solution code\n",
    "#step_3.b.hint()\n",
    "#step_3.b.solution()"
   ]
  },
  {
   "cell_type": "markdown",
   "id": "af738c53",
   "metadata": {
    "papermill": {
     "duration": 0.037187,
     "end_time": "2021-08-28T09:15:02.367240",
     "exception": false,
     "start_time": "2021-08-28T09:15:02.330053",
     "status": "completed"
    },
    "tags": []
   },
   "source": [
    "Next, you'll experiment with one-hot encoding.  But, instead of encoding all of the categorical variables in the dataset, you'll only create a one-hot encoding for columns with cardinality less than 10.\n",
    "\n",
    "Run the code cell below without changes to set `low_cardinality_cols` to a Python list containing the columns that will be one-hot encoded.  Likewise, `high_cardinality_cols` contains a list of categorical columns that will be dropped from the dataset."
   ]
  },
  {
   "cell_type": "code",
   "execution_count": 20,
   "id": "9bec23d8",
   "metadata": {
    "execution": {
     "iopub.execute_input": "2021-08-28T09:15:02.445664Z",
     "iopub.status.busy": "2021-08-28T09:15:02.444729Z",
     "iopub.status.idle": "2021-08-28T09:15:02.462610Z",
     "shell.execute_reply": "2021-08-28T09:15:02.463126Z",
     "shell.execute_reply.started": "2021-08-28T09:07:07.192977Z"
    },
    "papermill": {
     "duration": 0.058817,
     "end_time": "2021-08-28T09:15:02.463285",
     "exception": false,
     "start_time": "2021-08-28T09:15:02.404468",
     "status": "completed"
    },
    "tags": []
   },
   "outputs": [
    {
     "name": "stdout",
     "output_type": "stream",
     "text": [
      "Categorical columns that will be one-hot encoded: ['MSZoning', 'Street', 'LotShape', 'LandContour', 'Utilities', 'LotConfig', 'LandSlope', 'Condition1', 'Condition2', 'BldgType', 'HouseStyle', 'RoofStyle', 'RoofMatl', 'ExterQual', 'ExterCond', 'Foundation', 'Heating', 'HeatingQC', 'CentralAir', 'KitchenQual', 'Functional', 'PavedDrive', 'SaleType', 'SaleCondition']\n",
      "\n",
      "Categorical columns that will be dropped from the dataset: ['Exterior2nd', 'Exterior1st', 'Neighborhood']\n"
     ]
    }
   ],
   "source": [
    "# Columns that will be one-hot encoded\n",
    "low_cardinality_cols = [col for col in object_cols if X_train[col].nunique() < 10]\n",
    "\n",
    "# Columns that will be dropped from the dataset\n",
    "high_cardinality_cols = list(set(object_cols)-set(low_cardinality_cols))\n",
    "\n",
    "print('Categorical columns that will be one-hot encoded:', low_cardinality_cols)\n",
    "print('\\nCategorical columns that will be dropped from the dataset:', high_cardinality_cols)"
   ]
  },
  {
   "cell_type": "markdown",
   "id": "5765298f",
   "metadata": {
    "papermill": {
     "duration": 0.037133,
     "end_time": "2021-08-28T09:15:02.538930",
     "exception": false,
     "start_time": "2021-08-28T09:15:02.501797",
     "status": "completed"
    },
    "tags": []
   },
   "source": [
    "# Step 4: One-hot encoding\n",
    "\n",
    "Use the next code cell to one-hot encode the data in `X_train` and `X_valid`.  Set the preprocessed DataFrames to `OH_X_train` and `OH_X_valid`, respectively.  \n",
    "- The full list of categorical columns in the dataset can be found in the Python list `object_cols`.\n",
    "- You should only one-hot encode the categorical columns in `low_cardinality_cols`.  All other categorical columns should be dropped from the dataset. "
   ]
  },
  {
   "cell_type": "code",
   "execution_count": 21,
   "id": "4dcb680a",
   "metadata": {
    "execution": {
     "iopub.execute_input": "2021-08-28T09:15:02.619817Z",
     "iopub.status.busy": "2021-08-28T09:15:02.618885Z",
     "iopub.status.idle": "2021-08-28T09:15:02.666197Z",
     "shell.execute_reply": "2021-08-28T09:15:02.666744Z",
     "shell.execute_reply.started": "2021-08-28T09:07:07.221630Z"
    },
    "papermill": {
     "duration": 0.089026,
     "end_time": "2021-08-28T09:15:02.666912",
     "exception": false,
     "start_time": "2021-08-28T09:15:02.577886",
     "status": "completed"
    },
    "tags": []
   },
   "outputs": [
    {
     "data": {
      "application/javascript": [
       "parent.postMessage({\"jupyterEvent\": \"custom.exercise_interaction\", \"data\": {\"outcomeType\": 1, \"valueTowardsCompletion\": 0.5, \"interactionType\": 1, \"questionType\": 2, \"questionId\": \"4_OneHot\", \"learnToolsVersion\": \"0.3.4\", \"failureMessage\": \"\", \"exceptionClass\": \"\", \"trace\": \"\"}}, \"*\")"
      ],
      "text/plain": [
       "<IPython.core.display.Javascript object>"
      ]
     },
     "metadata": {},
     "output_type": "display_data"
    },
    {
     "data": {
      "text/markdown": [
       "<span style=\"color:#33cc33\">Correct</span>"
      ],
      "text/plain": [
       "Correct"
      ]
     },
     "metadata": {},
     "output_type": "display_data"
    }
   ],
   "source": [
    "from sklearn.preprocessing import OneHotEncoder\n",
    "\n",
    "# Use as many lines of code as you need!\n",
    "onehot_encoder = OneHotEncoder(handle_unknown='ignore', sparse=False)\n",
    "OH_X_train = pd.DataFrame(onehot_encoder.fit_transform(X_train[low_cardinality_cols]))\n",
    "OH_X_valid = pd.DataFrame(onehot_encoder.transform(X_valid[low_cardinality_cols]))\n",
    "\n",
    "OH_X_train.index = X_train[low_cardinality_cols].index\n",
    "OH_X_valid.index = X_valid[low_cardinality_cols].index\n",
    "\n",
    "OH_X_train = pd.concat([OH_X_train, X_train.select_dtypes(include=['int', 'float'])], axis=1)\n",
    "OH_X_valid = pd.concat([OH_X_valid, X_valid.select_dtypes(include=['int', 'float'])], axis=1)\n",
    "\n",
    "# Check your answer\n",
    "step_4.check()"
   ]
  },
  {
   "cell_type": "code",
   "execution_count": 22,
   "id": "f44c09f6",
   "metadata": {
    "execution": {
     "iopub.execute_input": "2021-08-28T09:15:02.748761Z",
     "iopub.status.busy": "2021-08-28T09:15:02.747810Z",
     "iopub.status.idle": "2021-08-28T09:15:02.752318Z",
     "shell.execute_reply": "2021-08-28T09:15:02.751826Z",
     "shell.execute_reply.started": "2021-08-28T09:07:07.283385Z"
    },
    "papermill": {
     "duration": 0.046426,
     "end_time": "2021-08-28T09:15:02.752464",
     "exception": false,
     "start_time": "2021-08-28T09:15:02.706038",
     "status": "completed"
    },
    "tags": []
   },
   "outputs": [],
   "source": [
    "# Lines below will give you a hint or solution code\n",
    "#step_4.hint()\n",
    "#step_4.solution()"
   ]
  },
  {
   "cell_type": "markdown",
   "id": "d816391d",
   "metadata": {
    "papermill": {
     "duration": 0.03853,
     "end_time": "2021-08-28T09:15:02.830190",
     "exception": false,
     "start_time": "2021-08-28T09:15:02.791660",
     "status": "completed"
    },
    "tags": []
   },
   "source": [
    "Run the next code cell to get the MAE for this approach."
   ]
  },
  {
   "cell_type": "code",
   "execution_count": 23,
   "id": "0722f7a9",
   "metadata": {
    "execution": {
     "iopub.execute_input": "2021-08-28T09:15:02.919118Z",
     "iopub.status.busy": "2021-08-28T09:15:02.918092Z",
     "iopub.status.idle": "2021-08-28T09:15:04.886407Z",
     "shell.execute_reply": "2021-08-28T09:15:04.885881Z",
     "shell.execute_reply.started": "2021-08-28T09:07:07.293932Z"
    },
    "papermill": {
     "duration": 2.016071,
     "end_time": "2021-08-28T09:15:04.886546",
     "exception": false,
     "start_time": "2021-08-28T09:15:02.870475",
     "status": "completed"
    },
    "tags": []
   },
   "outputs": [
    {
     "name": "stdout",
     "output_type": "stream",
     "text": [
      "MAE from Approach 3 (One-Hot Encoding):\n",
      "17537.55444063927\n"
     ]
    }
   ],
   "source": [
    "print(\"MAE from Approach 3 (One-Hot Encoding):\") \n",
    "print(score_dataset(OH_X_train, OH_X_valid, y_train, y_valid))"
   ]
  },
  {
   "cell_type": "markdown",
   "id": "2406c51d",
   "metadata": {
    "papermill": {
     "duration": 0.0383,
     "end_time": "2021-08-28T09:15:04.963309",
     "exception": false,
     "start_time": "2021-08-28T09:15:04.925009",
     "status": "completed"
    },
    "tags": []
   },
   "source": [
    "# Generate test predictions and submit your results\n",
    "\n",
    "After you complete Step 4, if you'd like to use what you've learned to submit your results to the leaderboard, you'll need to preprocess the test data before generating predictions.\n",
    "\n",
    "**This step is completely optional, and you do not need to submit results to the leaderboard to successfully complete the exercise.**\n",
    "\n",
    "Check out the previous exercise if you need help with remembering how to [join the competition](https://www.kaggle.com/c/home-data-for-ml-course) or save your results to CSV.  Once you have generated a file with your results, follow the instructions below:\n",
    "1. Begin by clicking on the **Save Version** button in the top right corner of the window.  This will generate a pop-up window.  \n",
    "2. Ensure that the **Save and Run All** option is selected, and then click on the **Save** button.\n",
    "3. This generates a window in the bottom left corner of the notebook.  After it has finished running, click on the number to the right of the **Save Version** button.  This pulls up a list of versions on the right of the screen.  Click on the ellipsis **(...)** to the right of the most recent version, and select **Open in Viewer**.  This brings you into view mode of the same page. You will need to scroll down to get back to these instructions.\n",
    "4. Click on the **Output** tab on the right of the screen.  Then, click on the file you would like to submit, and click on the blue **Submit** button to submit your results to the leaderboard.\n",
    "\n",
    "You have now successfully submitted to the competition!\n",
    "\n",
    "If you want to keep working to improve your performance, select the **Edit** button in the top right of the screen. Then you can change your code and repeat the process. There's a lot of room to improve, and you will climb up the leaderboard as you work.\n"
   ]
  },
  {
   "cell_type": "code",
   "execution_count": 24,
   "id": "859615c3",
   "metadata": {
    "execution": {
     "iopub.execute_input": "2021-08-28T09:15:05.047199Z",
     "iopub.status.busy": "2021-08-28T09:15:05.046611Z",
     "iopub.status.idle": "2021-08-28T09:15:05.048947Z",
     "shell.execute_reply": "2021-08-28T09:15:05.049390Z",
     "shell.execute_reply.started": "2021-08-28T09:07:09.374113Z"
    },
    "papermill": {
     "duration": 0.047434,
     "end_time": "2021-08-28T09:15:05.049544",
     "exception": false,
     "start_time": "2021-08-28T09:15:05.002110",
     "status": "completed"
    },
    "tags": []
   },
   "outputs": [],
   "source": [
    "# (Optional) Your code here"
   ]
  },
  {
   "cell_type": "markdown",
   "id": "7e066d2f",
   "metadata": {
    "papermill": {
     "duration": 0.038946,
     "end_time": "2021-08-28T09:15:05.127241",
     "exception": false,
     "start_time": "2021-08-28T09:15:05.088295",
     "status": "completed"
    },
    "tags": []
   },
   "source": [
    "# Keep going\n",
    "\n",
    "With missing value handling and categorical encoding, your modeling process is getting complex. This complexity gets worse when you want to save your model to use in the future. The key to managing this complexity is something called **pipelines**. \n",
    "\n",
    "**[Learn to use pipelines](https://www.kaggle.com/alexisbcook/pipelines)** to preprocess datasets with categorical variables, missing values and any other messiness your data throws at you."
   ]
  },
  {
   "cell_type": "markdown",
   "id": "d834ce2b",
   "metadata": {
    "papermill": {
     "duration": 0.038602,
     "end_time": "2021-08-28T09:15:05.204591",
     "exception": false,
     "start_time": "2021-08-28T09:15:05.165989",
     "status": "completed"
    },
    "tags": []
   },
   "source": [
    "---\n",
    "\n",
    "\n",
    "\n",
    "\n",
    "*Have questions or comments? Visit the [Learn Discussion forum](https://www.kaggle.com/learn-forum/161289) to chat with other Learners.*"
   ]
  }
 ],
 "metadata": {
  "kernelspec": {
   "display_name": "Python 3",
   "language": "python",
   "name": "python3"
  },
  "language_info": {
   "codemirror_mode": {
    "name": "ipython",
    "version": 3
   },
   "file_extension": ".py",
   "mimetype": "text/x-python",
   "name": "python",
   "nbconvert_exporter": "python",
   "pygments_lexer": "ipython3",
   "version": "3.7.10"
  },
  "papermill": {
   "default_parameters": {},
   "duration": 18.819255,
   "end_time": "2021-08-28T09:15:05.952716",
   "environment_variables": {},
   "exception": null,
   "input_path": "__notebook__.ipynb",
   "output_path": "__notebook__.ipynb",
   "parameters": {},
   "start_time": "2021-08-28T09:14:47.133461",
   "version": "2.3.3"
  }
 },
 "nbformat": 4,
 "nbformat_minor": 5
}
