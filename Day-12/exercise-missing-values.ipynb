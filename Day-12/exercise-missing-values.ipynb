{
 "cells": [
  {
   "cell_type": "markdown",
   "id": "7dea8c97",
   "metadata": {
    "papermill": {
     "duration": 0.023735,
     "end_time": "2021-08-28T09:07:04.684145",
     "exception": false,
     "start_time": "2021-08-28T09:07:04.660410",
     "status": "completed"
    },
    "tags": []
   },
   "source": [
    "**This notebook is an exercise in the [Intermediate Machine Learning](https://www.kaggle.com/learn/intermediate-machine-learning) course.  You can reference the tutorial at [this link](https://www.kaggle.com/alexisbcook/missing-values).**\n",
    "\n",
    "---\n"
   ]
  },
  {
   "cell_type": "markdown",
   "id": "420c26d7",
   "metadata": {
    "papermill": {
     "duration": 0.021906,
     "end_time": "2021-08-28T09:07:04.731624",
     "exception": false,
     "start_time": "2021-08-28T09:07:04.709718",
     "status": "completed"
    },
    "tags": []
   },
   "source": [
    "Now it's your turn to test your new knowledge of **missing values** handling. You'll probably find it makes a big difference.\n",
    "\n",
    "# Setup\n",
    "\n",
    "The questions will give you feedback on your work. Run the following cell to set up the feedback system."
   ]
  },
  {
   "cell_type": "code",
   "execution_count": 1,
   "id": "fdf33076",
   "metadata": {
    "execution": {
     "iopub.execute_input": "2021-08-28T09:07:04.785645Z",
     "iopub.status.busy": "2021-08-28T09:07:04.784963Z",
     "iopub.status.idle": "2021-08-28T09:07:04.919520Z",
     "shell.execute_reply": "2021-08-28T09:07:04.920023Z",
     "shell.execute_reply.started": "2021-08-28T09:05:43.002595Z"
    },
    "papermill": {
     "duration": 0.166585,
     "end_time": "2021-08-28T09:07:04.920306",
     "exception": false,
     "start_time": "2021-08-28T09:07:04.753721",
     "status": "completed"
    },
    "tags": []
   },
   "outputs": [
    {
     "name": "stdout",
     "output_type": "stream",
     "text": [
      "Setup Complete\n"
     ]
    }
   ],
   "source": [
    "# Set up code checking\n",
    "import os\n",
    "if not os.path.exists(\"../input/train.csv\"):\n",
    "    os.symlink(\"../input/home-data-for-ml-course/train.csv\", \"../input/train.csv\")  \n",
    "    os.symlink(\"../input/home-data-for-ml-course/test.csv\", \"../input/test.csv\") \n",
    "from learntools.core import binder\n",
    "binder.bind(globals())\n",
    "from learntools.ml_intermediate.ex2 import *\n",
    "print(\"Setup Complete\")"
   ]
  },
  {
   "cell_type": "markdown",
   "id": "cbfc8bb0",
   "metadata": {
    "papermill": {
     "duration": 0.022831,
     "end_time": "2021-08-28T09:07:04.966263",
     "exception": false,
     "start_time": "2021-08-28T09:07:04.943432",
     "status": "completed"
    },
    "tags": []
   },
   "source": [
    "In this exercise, you will work with data from the [Housing Prices Competition for Kaggle Learn Users](https://www.kaggle.com/c/home-data-for-ml-course). \n",
    "\n",
    "![Ames Housing dataset image](https://i.imgur.com/lTJVG4e.png)\n",
    "\n",
    "Run the next code cell without changes to load the training and validation sets in `X_train`, `X_valid`, `y_train`, and `y_valid`.  The test set is loaded in `X_test`."
   ]
  },
  {
   "cell_type": "code",
   "execution_count": 2,
   "id": "950c6af8",
   "metadata": {
    "execution": {
     "iopub.execute_input": "2021-08-28T09:07:05.018198Z",
     "iopub.status.busy": "2021-08-28T09:07:05.017503Z",
     "iopub.status.idle": "2021-08-28T09:07:06.009395Z",
     "shell.execute_reply": "2021-08-28T09:07:06.008872Z",
     "shell.execute_reply.started": "2021-08-28T09:05:43.199773Z"
    },
    "papermill": {
     "duration": 1.020616,
     "end_time": "2021-08-28T09:07:06.009532",
     "exception": false,
     "start_time": "2021-08-28T09:07:04.988916",
     "status": "completed"
    },
    "tags": []
   },
   "outputs": [],
   "source": [
    "import pandas as pd\n",
    "from sklearn.model_selection import train_test_split\n",
    "\n",
    "# Read the data\n",
    "X_full = pd.read_csv('../input/train.csv', index_col='Id')\n",
    "X_test_full = pd.read_csv('../input/test.csv', index_col='Id')\n",
    "\n",
    "# Remove rows with missing target, separate target from predictors\n",
    "X_full.dropna(axis=0, subset=['SalePrice'], inplace=True)\n",
    "y = X_full.SalePrice\n",
    "X_full.drop(['SalePrice'], axis=1, inplace=True)\n",
    "\n",
    "# To keep things simple, we'll use only numerical predictors\n",
    "X = X_full.select_dtypes(exclude=['object'])\n",
    "X_test = X_test_full.select_dtypes(exclude=['object'])\n",
    "\n",
    "# Break off validation set from training data\n",
    "X_train, X_valid, y_train, y_valid = train_test_split(X, y, train_size=0.8, test_size=0.2,\n",
    "                                                      random_state=0)"
   ]
  },
  {
   "cell_type": "markdown",
   "id": "3ea8c258",
   "metadata": {
    "papermill": {
     "duration": 0.022905,
     "end_time": "2021-08-28T09:07:06.056341",
     "exception": false,
     "start_time": "2021-08-28T09:07:06.033436",
     "status": "completed"
    },
    "tags": []
   },
   "source": [
    "Use the next code cell to print the first five rows of the data."
   ]
  },
  {
   "cell_type": "code",
   "execution_count": 3,
   "id": "d60398ef",
   "metadata": {
    "execution": {
     "iopub.execute_input": "2021-08-28T09:07:06.111845Z",
     "iopub.status.busy": "2021-08-28T09:07:06.111177Z",
     "iopub.status.idle": "2021-08-28T09:07:06.134173Z",
     "shell.execute_reply": "2021-08-28T09:07:06.133604Z",
     "shell.execute_reply.started": "2021-08-28T09:05:44.240150Z"
    },
    "papermill": {
     "duration": 0.054717,
     "end_time": "2021-08-28T09:07:06.134301",
     "exception": false,
     "start_time": "2021-08-28T09:07:06.079584",
     "status": "completed"
    },
    "tags": []
   },
   "outputs": [
    {
     "data": {
      "text/html": [
       "<div>\n",
       "<style scoped>\n",
       "    .dataframe tbody tr th:only-of-type {\n",
       "        vertical-align: middle;\n",
       "    }\n",
       "\n",
       "    .dataframe tbody tr th {\n",
       "        vertical-align: top;\n",
       "    }\n",
       "\n",
       "    .dataframe thead th {\n",
       "        text-align: right;\n",
       "    }\n",
       "</style>\n",
       "<table border=\"1\" class=\"dataframe\">\n",
       "  <thead>\n",
       "    <tr style=\"text-align: right;\">\n",
       "      <th></th>\n",
       "      <th>MSSubClass</th>\n",
       "      <th>LotFrontage</th>\n",
       "      <th>LotArea</th>\n",
       "      <th>OverallQual</th>\n",
       "      <th>OverallCond</th>\n",
       "      <th>YearBuilt</th>\n",
       "      <th>YearRemodAdd</th>\n",
       "      <th>MasVnrArea</th>\n",
       "      <th>BsmtFinSF1</th>\n",
       "      <th>BsmtFinSF2</th>\n",
       "      <th>...</th>\n",
       "      <th>GarageArea</th>\n",
       "      <th>WoodDeckSF</th>\n",
       "      <th>OpenPorchSF</th>\n",
       "      <th>EnclosedPorch</th>\n",
       "      <th>3SsnPorch</th>\n",
       "      <th>ScreenPorch</th>\n",
       "      <th>PoolArea</th>\n",
       "      <th>MiscVal</th>\n",
       "      <th>MoSold</th>\n",
       "      <th>YrSold</th>\n",
       "    </tr>\n",
       "    <tr>\n",
       "      <th>Id</th>\n",
       "      <th></th>\n",
       "      <th></th>\n",
       "      <th></th>\n",
       "      <th></th>\n",
       "      <th></th>\n",
       "      <th></th>\n",
       "      <th></th>\n",
       "      <th></th>\n",
       "      <th></th>\n",
       "      <th></th>\n",
       "      <th></th>\n",
       "      <th></th>\n",
       "      <th></th>\n",
       "      <th></th>\n",
       "      <th></th>\n",
       "      <th></th>\n",
       "      <th></th>\n",
       "      <th></th>\n",
       "      <th></th>\n",
       "      <th></th>\n",
       "      <th></th>\n",
       "    </tr>\n",
       "  </thead>\n",
       "  <tbody>\n",
       "    <tr>\n",
       "      <th>619</th>\n",
       "      <td>20</td>\n",
       "      <td>90.0</td>\n",
       "      <td>11694</td>\n",
       "      <td>9</td>\n",
       "      <td>5</td>\n",
       "      <td>2007</td>\n",
       "      <td>2007</td>\n",
       "      <td>452.0</td>\n",
       "      <td>48</td>\n",
       "      <td>0</td>\n",
       "      <td>...</td>\n",
       "      <td>774</td>\n",
       "      <td>0</td>\n",
       "      <td>108</td>\n",
       "      <td>0</td>\n",
       "      <td>0</td>\n",
       "      <td>260</td>\n",
       "      <td>0</td>\n",
       "      <td>0</td>\n",
       "      <td>7</td>\n",
       "      <td>2007</td>\n",
       "    </tr>\n",
       "    <tr>\n",
       "      <th>871</th>\n",
       "      <td>20</td>\n",
       "      <td>60.0</td>\n",
       "      <td>6600</td>\n",
       "      <td>5</td>\n",
       "      <td>5</td>\n",
       "      <td>1962</td>\n",
       "      <td>1962</td>\n",
       "      <td>0.0</td>\n",
       "      <td>0</td>\n",
       "      <td>0</td>\n",
       "      <td>...</td>\n",
       "      <td>308</td>\n",
       "      <td>0</td>\n",
       "      <td>0</td>\n",
       "      <td>0</td>\n",
       "      <td>0</td>\n",
       "      <td>0</td>\n",
       "      <td>0</td>\n",
       "      <td>0</td>\n",
       "      <td>8</td>\n",
       "      <td>2009</td>\n",
       "    </tr>\n",
       "    <tr>\n",
       "      <th>93</th>\n",
       "      <td>30</td>\n",
       "      <td>80.0</td>\n",
       "      <td>13360</td>\n",
       "      <td>5</td>\n",
       "      <td>7</td>\n",
       "      <td>1921</td>\n",
       "      <td>2006</td>\n",
       "      <td>0.0</td>\n",
       "      <td>713</td>\n",
       "      <td>0</td>\n",
       "      <td>...</td>\n",
       "      <td>432</td>\n",
       "      <td>0</td>\n",
       "      <td>0</td>\n",
       "      <td>44</td>\n",
       "      <td>0</td>\n",
       "      <td>0</td>\n",
       "      <td>0</td>\n",
       "      <td>0</td>\n",
       "      <td>8</td>\n",
       "      <td>2009</td>\n",
       "    </tr>\n",
       "    <tr>\n",
       "      <th>818</th>\n",
       "      <td>20</td>\n",
       "      <td>NaN</td>\n",
       "      <td>13265</td>\n",
       "      <td>8</td>\n",
       "      <td>5</td>\n",
       "      <td>2002</td>\n",
       "      <td>2002</td>\n",
       "      <td>148.0</td>\n",
       "      <td>1218</td>\n",
       "      <td>0</td>\n",
       "      <td>...</td>\n",
       "      <td>857</td>\n",
       "      <td>150</td>\n",
       "      <td>59</td>\n",
       "      <td>0</td>\n",
       "      <td>0</td>\n",
       "      <td>0</td>\n",
       "      <td>0</td>\n",
       "      <td>0</td>\n",
       "      <td>7</td>\n",
       "      <td>2008</td>\n",
       "    </tr>\n",
       "    <tr>\n",
       "      <th>303</th>\n",
       "      <td>20</td>\n",
       "      <td>118.0</td>\n",
       "      <td>13704</td>\n",
       "      <td>7</td>\n",
       "      <td>5</td>\n",
       "      <td>2001</td>\n",
       "      <td>2002</td>\n",
       "      <td>150.0</td>\n",
       "      <td>0</td>\n",
       "      <td>0</td>\n",
       "      <td>...</td>\n",
       "      <td>843</td>\n",
       "      <td>468</td>\n",
       "      <td>81</td>\n",
       "      <td>0</td>\n",
       "      <td>0</td>\n",
       "      <td>0</td>\n",
       "      <td>0</td>\n",
       "      <td>0</td>\n",
       "      <td>1</td>\n",
       "      <td>2006</td>\n",
       "    </tr>\n",
       "  </tbody>\n",
       "</table>\n",
       "<p>5 rows × 36 columns</p>\n",
       "</div>"
      ],
      "text/plain": [
       "     MSSubClass  LotFrontage  LotArea  OverallQual  OverallCond  YearBuilt  \\\n",
       "Id                                                                           \n",
       "619          20         90.0    11694            9            5       2007   \n",
       "871          20         60.0     6600            5            5       1962   \n",
       "93           30         80.0    13360            5            7       1921   \n",
       "818          20          NaN    13265            8            5       2002   \n",
       "303          20        118.0    13704            7            5       2001   \n",
       "\n",
       "     YearRemodAdd  MasVnrArea  BsmtFinSF1  BsmtFinSF2  ...  GarageArea  \\\n",
       "Id                                                     ...               \n",
       "619          2007       452.0          48           0  ...         774   \n",
       "871          1962         0.0           0           0  ...         308   \n",
       "93           2006         0.0         713           0  ...         432   \n",
       "818          2002       148.0        1218           0  ...         857   \n",
       "303          2002       150.0           0           0  ...         843   \n",
       "\n",
       "     WoodDeckSF  OpenPorchSF  EnclosedPorch  3SsnPorch  ScreenPorch  PoolArea  \\\n",
       "Id                                                                              \n",
       "619           0          108              0          0          260         0   \n",
       "871           0            0              0          0            0         0   \n",
       "93            0            0             44          0            0         0   \n",
       "818         150           59              0          0            0         0   \n",
       "303         468           81              0          0            0         0   \n",
       "\n",
       "     MiscVal  MoSold  YrSold  \n",
       "Id                            \n",
       "619        0       7    2007  \n",
       "871        0       8    2009  \n",
       "93         0       8    2009  \n",
       "818        0       7    2008  \n",
       "303        0       1    2006  \n",
       "\n",
       "[5 rows x 36 columns]"
      ]
     },
     "execution_count": 3,
     "metadata": {},
     "output_type": "execute_result"
    }
   ],
   "source": [
    "X_train.head()"
   ]
  },
  {
   "cell_type": "markdown",
   "id": "ee08eb56",
   "metadata": {
    "papermill": {
     "duration": 0.023105,
     "end_time": "2021-08-28T09:07:06.180712",
     "exception": false,
     "start_time": "2021-08-28T09:07:06.157607",
     "status": "completed"
    },
    "tags": []
   },
   "source": [
    "You can already see a few missing values in the first several rows.  In the next step, you'll obtain a more comprehensive understanding of the missing values in the dataset.\n",
    "\n",
    "# Step 1: Preliminary investigation\n",
    "\n",
    "Run the code cell below without changes."
   ]
  },
  {
   "cell_type": "code",
   "execution_count": 4,
   "id": "d86b25c8",
   "metadata": {
    "execution": {
     "iopub.execute_input": "2021-08-28T09:07:06.236987Z",
     "iopub.status.busy": "2021-08-28T09:07:06.232747Z",
     "iopub.status.idle": "2021-08-28T09:07:06.244013Z",
     "shell.execute_reply": "2021-08-28T09:07:06.244550Z",
     "shell.execute_reply.started": "2021-08-28T09:05:44.282497Z"
    },
    "papermill": {
     "duration": 0.040581,
     "end_time": "2021-08-28T09:07:06.244733",
     "exception": false,
     "start_time": "2021-08-28T09:07:06.204152",
     "status": "completed"
    },
    "tags": []
   },
   "outputs": [
    {
     "name": "stdout",
     "output_type": "stream",
     "text": [
      "(1168, 36)\n",
      "LotFrontage    212\n",
      "MasVnrArea       6\n",
      "GarageYrBlt     58\n",
      "dtype: int64\n"
     ]
    },
    {
     "data": {
      "text/plain": [
       "LotFrontage    0.181507\n",
       "MasVnrArea     0.005137\n",
       "GarageYrBlt    0.049658\n",
       "dtype: float64"
      ]
     },
     "execution_count": 4,
     "metadata": {},
     "output_type": "execute_result"
    }
   ],
   "source": [
    "# Shape of training data (num_rows, num_columns)\n",
    "print(X_train.shape)\n",
    "\n",
    "# Number of missing values in each column of training data\n",
    "missing_val_count_by_column = (X_train.isnull().sum())\n",
    "print(missing_val_count_by_column[missing_val_count_by_column > 0])\n",
    "\n",
    "# Percentage of missing values for each column\n",
    "X_train.isnull().mean()[X_train.isnull().mean() > 0]"
   ]
  },
  {
   "cell_type": "markdown",
   "id": "2ca6789d",
   "metadata": {
    "papermill": {
     "duration": 0.023767,
     "end_time": "2021-08-28T09:07:06.292134",
     "exception": false,
     "start_time": "2021-08-28T09:07:06.268367",
     "status": "completed"
    },
    "tags": []
   },
   "source": [
    "### Part A\n",
    "\n",
    "Use the above output to answer the questions below."
   ]
  },
  {
   "cell_type": "code",
   "execution_count": 5,
   "id": "d846136f",
   "metadata": {
    "execution": {
     "iopub.execute_input": "2021-08-28T09:07:06.345365Z",
     "iopub.status.busy": "2021-08-28T09:07:06.344804Z",
     "iopub.status.idle": "2021-08-28T09:07:06.349478Z",
     "shell.execute_reply": "2021-08-28T09:07:06.349982Z",
     "shell.execute_reply.started": "2021-08-28T09:05:44.304930Z"
    },
    "papermill": {
     "duration": 0.034004,
     "end_time": "2021-08-28T09:07:06.350133",
     "exception": false,
     "start_time": "2021-08-28T09:07:06.316129",
     "status": "completed"
    },
    "tags": []
   },
   "outputs": [
    {
     "data": {
      "application/javascript": [
       "parent.postMessage({\"jupyterEvent\": \"custom.exercise_interaction\", \"data\": {\"outcomeType\": 1, \"valueTowardsCompletion\": 1.0, \"interactionType\": 1, \"questionType\": 1, \"questionId\": \"1.1_InvestigateEquality\", \"learnToolsVersion\": \"0.3.4\", \"failureMessage\": \"\", \"exceptionClass\": \"\", \"trace\": \"\"}}, \"*\")"
      ],
      "text/plain": [
       "<IPython.core.display.Javascript object>"
      ]
     },
     "metadata": {},
     "output_type": "display_data"
    },
    {
     "data": {
      "text/markdown": [
       "<span style=\"color:#33cc33\">Correct</span>"
      ],
      "text/plain": [
       "Correct"
      ]
     },
     "metadata": {},
     "output_type": "display_data"
    }
   ],
   "source": [
    "# Fill in the line below: How many rows are in the training data?\n",
    "num_rows = len(X_train)\n",
    "\n",
    "# Fill in the line below: How many columns in the training data\n",
    "# have missing values?\n",
    "num_cols_with_missing = len(missing_val_count_by_column[missing_val_count_by_column > 0])\n",
    "\n",
    "# Fill in the line below: How many missing entries are contained in \n",
    "# all of the training data?\n",
    "tot_missing = missing_val_count_by_column.sum()\n",
    "\n",
    "# Check your answers\n",
    "step_1.a.check()"
   ]
  },
  {
   "cell_type": "code",
   "execution_count": 6,
   "id": "5299fb5f",
   "metadata": {
    "execution": {
     "iopub.execute_input": "2021-08-28T09:07:06.408043Z",
     "iopub.status.busy": "2021-08-28T09:07:06.407349Z",
     "iopub.status.idle": "2021-08-28T09:07:06.412035Z",
     "shell.execute_reply": "2021-08-28T09:07:06.412508Z",
     "shell.execute_reply.started": "2021-08-28T09:05:44.318673Z"
    },
    "papermill": {
     "duration": 0.03825,
     "end_time": "2021-08-28T09:07:06.412703",
     "exception": false,
     "start_time": "2021-08-28T09:07:06.374453",
     "status": "completed"
    },
    "tags": []
   },
   "outputs": [],
   "source": [
    "# Lines below will give you a hint or solution code\n",
    "#step_1.a.hint()\n",
    "#step_1.a.solution()"
   ]
  },
  {
   "cell_type": "markdown",
   "id": "d73cc047",
   "metadata": {
    "papermill": {
     "duration": 0.032895,
     "end_time": "2021-08-28T09:07:06.477394",
     "exception": false,
     "start_time": "2021-08-28T09:07:06.444499",
     "status": "completed"
    },
    "tags": []
   },
   "source": [
    "### Part B\n",
    "Considering your answers above, what do you think is likely the best approach to dealing with the missing values?"
   ]
  },
  {
   "cell_type": "code",
   "execution_count": 7,
   "id": "3727bfb2",
   "metadata": {
    "execution": {
     "iopub.execute_input": "2021-08-28T09:07:06.531842Z",
     "iopub.status.busy": "2021-08-28T09:07:06.531284Z",
     "iopub.status.idle": "2021-08-28T09:07:06.537588Z",
     "shell.execute_reply": "2021-08-28T09:07:06.538027Z",
     "shell.execute_reply.started": "2021-08-28T09:05:44.328904Z"
    },
    "papermill": {
     "duration": 0.033416,
     "end_time": "2021-08-28T09:07:06.538179",
     "exception": false,
     "start_time": "2021-08-28T09:07:06.504763",
     "status": "completed"
    },
    "tags": []
   },
   "outputs": [
    {
     "data": {
      "application/javascript": [
       "parent.postMessage({\"jupyterEvent\": \"custom.exercise_interaction\", \"data\": {\"outcomeType\": 1, \"valueTowardsCompletion\": 1.0, \"interactionType\": 1, \"questionType\": 4, \"questionId\": \"1.2_InvestigateThought\", \"learnToolsVersion\": \"0.3.4\", \"failureMessage\": \"\", \"exceptionClass\": \"\", \"trace\": \"\"}}, \"*\")"
      ],
      "text/plain": [
       "<IPython.core.display.Javascript object>"
      ]
     },
     "metadata": {},
     "output_type": "display_data"
    },
    {
     "data": {
      "text/markdown": [
       "<span style=\"color:#33cc33\">Correct:</span> \n",
       "\n",
       "Since there are relatively few missing entries in the data (the column with the greatest percentage of missing values is missing less than 20% of its entries), we can expect that dropping columns is unlikely to yield good results.  This is because we'd be throwing away a lot of valuable data, and so imputation will likely perform better."
      ],
      "text/plain": [
       "Correct: \n",
       "\n",
       "Since there are relatively few missing entries in the data (the column with the greatest percentage of missing values is missing less than 20% of its entries), we can expect that dropping columns is unlikely to yield good results.  This is because we'd be throwing away a lot of valuable data, and so imputation will likely perform better."
      ]
     },
     "metadata": {},
     "output_type": "display_data"
    }
   ],
   "source": [
    "# Check your answer (Run this code cell to receive credit!)\n",
    "step_1.b.check()"
   ]
  },
  {
   "cell_type": "code",
   "execution_count": 8,
   "id": "5672bd37",
   "metadata": {
    "execution": {
     "iopub.execute_input": "2021-08-28T09:07:06.591381Z",
     "iopub.status.busy": "2021-08-28T09:07:06.590799Z",
     "iopub.status.idle": "2021-08-28T09:07:06.593585Z",
     "shell.execute_reply": "2021-08-28T09:07:06.594033Z",
     "shell.execute_reply.started": "2021-08-28T09:05:44.349157Z"
    },
    "papermill": {
     "duration": 0.030576,
     "end_time": "2021-08-28T09:07:06.594183",
     "exception": false,
     "start_time": "2021-08-28T09:07:06.563607",
     "status": "completed"
    },
    "tags": []
   },
   "outputs": [],
   "source": [
    "#step_1.b.hint()"
   ]
  },
  {
   "cell_type": "markdown",
   "id": "baaa5b51",
   "metadata": {
    "papermill": {
     "duration": 0.024645,
     "end_time": "2021-08-28T09:07:06.644010",
     "exception": false,
     "start_time": "2021-08-28T09:07:06.619365",
     "status": "completed"
    },
    "tags": []
   },
   "source": [
    "To compare different approaches to dealing with missing values, you'll use the same `score_dataset()` function from the tutorial.  This function reports the [mean absolute error](https://en.wikipedia.org/wiki/Mean_absolute_error) (MAE) from a random forest model."
   ]
  },
  {
   "cell_type": "code",
   "execution_count": 9,
   "id": "91132174",
   "metadata": {
    "execution": {
     "iopub.execute_input": "2021-08-28T09:07:06.697442Z",
     "iopub.status.busy": "2021-08-28T09:07:06.696530Z",
     "iopub.status.idle": "2021-08-28T09:07:06.882988Z",
     "shell.execute_reply": "2021-08-28T09:07:06.883417Z",
     "shell.execute_reply.started": "2021-08-28T09:05:44.360586Z"
    },
    "papermill": {
     "duration": 0.214761,
     "end_time": "2021-08-28T09:07:06.883622",
     "exception": false,
     "start_time": "2021-08-28T09:07:06.668861",
     "status": "completed"
    },
    "tags": []
   },
   "outputs": [],
   "source": [
    "from sklearn.ensemble import RandomForestRegressor\n",
    "from sklearn.metrics import mean_absolute_error\n",
    "\n",
    "# Function for comparing different approaches\n",
    "def score_dataset(X_train, X_valid, y_train, y_valid):\n",
    "    model = RandomForestRegressor(n_estimators=100, random_state=0)\n",
    "    model.fit(X_train, y_train)\n",
    "    preds = model.predict(X_valid)\n",
    "    return mean_absolute_error(y_valid, preds)"
   ]
  },
  {
   "cell_type": "markdown",
   "id": "435d06e0",
   "metadata": {
    "papermill": {
     "duration": 0.025319,
     "end_time": "2021-08-28T09:07:06.934264",
     "exception": false,
     "start_time": "2021-08-28T09:07:06.908945",
     "status": "completed"
    },
    "tags": []
   },
   "source": [
    "# Step 2: Drop columns with missing values\n",
    "\n",
    "In this step, you'll preprocess the data in `X_train` and `X_valid` to remove columns with missing values.  Set the preprocessed DataFrames to `reduced_X_train` and `reduced_X_valid`, respectively.  "
   ]
  },
  {
   "cell_type": "code",
   "execution_count": 10,
   "id": "365bf6fc",
   "metadata": {
    "execution": {
     "iopub.execute_input": "2021-08-28T09:07:06.988009Z",
     "iopub.status.busy": "2021-08-28T09:07:06.987115Z",
     "iopub.status.idle": "2021-08-28T09:07:07.011698Z",
     "shell.execute_reply": "2021-08-28T09:07:07.012102Z",
     "shell.execute_reply.started": "2021-08-28T09:05:44.562335Z"
    },
    "papermill": {
     "duration": 0.052987,
     "end_time": "2021-08-28T09:07:07.012271",
     "exception": false,
     "start_time": "2021-08-28T09:07:06.959284",
     "status": "completed"
    },
    "tags": []
   },
   "outputs": [
    {
     "data": {
      "application/javascript": [
       "parent.postMessage({\"jupyterEvent\": \"custom.exercise_interaction\", \"data\": {\"outcomeType\": 1, \"valueTowardsCompletion\": 1.0, \"interactionType\": 1, \"questionType\": 2, \"questionId\": \"2_DropMissing\", \"learnToolsVersion\": \"0.3.4\", \"failureMessage\": \"\", \"exceptionClass\": \"\", \"trace\": \"\"}}, \"*\")"
      ],
      "text/plain": [
       "<IPython.core.display.Javascript object>"
      ]
     },
     "metadata": {},
     "output_type": "display_data"
    },
    {
     "data": {
      "text/markdown": [
       "<span style=\"color:#33cc33\">Correct</span>"
      ],
      "text/plain": [
       "Correct"
      ]
     },
     "metadata": {},
     "output_type": "display_data"
    }
   ],
   "source": [
    "# Fill in the line below: get names of columns with missing values\n",
    "X_train.columns[X_train.isna().any()] # Your code here\n",
    "\n",
    "# Fill in the lines below: drop columns in training and validation data\n",
    "reduced_X_train = X_train.dropna(how='any', axis=1)\n",
    "reduced_X_valid = X_valid.dropna(how='any', axis=1)\n",
    "\n",
    "# Check your answers\n",
    "step_2.check()"
   ]
  },
  {
   "cell_type": "code",
   "execution_count": 11,
   "id": "b3f8687e",
   "metadata": {
    "execution": {
     "iopub.execute_input": "2021-08-28T09:07:07.068446Z",
     "iopub.status.busy": "2021-08-28T09:07:07.067805Z",
     "iopub.status.idle": "2021-08-28T09:07:07.069804Z",
     "shell.execute_reply": "2021-08-28T09:07:07.070230Z",
     "shell.execute_reply.started": "2021-08-28T09:05:44.601084Z"
    },
    "papermill": {
     "duration": 0.032264,
     "end_time": "2021-08-28T09:07:07.070385",
     "exception": false,
     "start_time": "2021-08-28T09:07:07.038121",
     "status": "completed"
    },
    "tags": []
   },
   "outputs": [],
   "source": [
    "# Lines below will give you a hint or solution code\n",
    "#step_2.hint()\n",
    "#step_2.solution()"
   ]
  },
  {
   "cell_type": "markdown",
   "id": "a24411e1",
   "metadata": {
    "papermill": {
     "duration": 0.026263,
     "end_time": "2021-08-28T09:07:07.122655",
     "exception": false,
     "start_time": "2021-08-28T09:07:07.096392",
     "status": "completed"
    },
    "tags": []
   },
   "source": [
    "Run the next code cell without changes to obtain the MAE for this approach."
   ]
  },
  {
   "cell_type": "code",
   "execution_count": 12,
   "id": "c5195b5a",
   "metadata": {
    "execution": {
     "iopub.execute_input": "2021-08-28T09:07:07.177486Z",
     "iopub.status.busy": "2021-08-28T09:07:07.176912Z",
     "iopub.status.idle": "2021-08-28T09:07:08.368235Z",
     "shell.execute_reply": "2021-08-28T09:07:08.367759Z",
     "shell.execute_reply.started": "2021-08-28T09:05:44.607396Z"
    },
    "papermill": {
     "duration": 1.219658,
     "end_time": "2021-08-28T09:07:08.368371",
     "exception": false,
     "start_time": "2021-08-28T09:07:07.148713",
     "status": "completed"
    },
    "tags": []
   },
   "outputs": [
    {
     "name": "stdout",
     "output_type": "stream",
     "text": [
      "MAE (Drop columns with missing values):\n",
      "17837.82570776256\n"
     ]
    }
   ],
   "source": [
    "print(\"MAE (Drop columns with missing values):\")\n",
    "print(score_dataset(reduced_X_train, reduced_X_valid, y_train, y_valid))"
   ]
  },
  {
   "cell_type": "markdown",
   "id": "63e6737c",
   "metadata": {
    "papermill": {
     "duration": 0.027657,
     "end_time": "2021-08-28T09:07:08.422345",
     "exception": false,
     "start_time": "2021-08-28T09:07:08.394688",
     "status": "completed"
    },
    "tags": []
   },
   "source": [
    "# Step 3: Imputation\n",
    "\n",
    "### Part A\n",
    "\n",
    "Use the next code cell to impute missing values with the mean value along each column.  Set the preprocessed DataFrames to `imputed_X_train` and `imputed_X_valid`.  Make sure that the column names match those in `X_train` and `X_valid`."
   ]
  },
  {
   "cell_type": "code",
   "execution_count": 13,
   "id": "a9629ec6",
   "metadata": {
    "execution": {
     "iopub.execute_input": "2021-08-28T09:07:08.481848Z",
     "iopub.status.busy": "2021-08-28T09:07:08.481202Z",
     "iopub.status.idle": "2021-08-28T09:07:08.509579Z",
     "shell.execute_reply": "2021-08-28T09:07:08.510072Z",
     "shell.execute_reply.started": "2021-08-28T09:05:45.969637Z"
    },
    "papermill": {
     "duration": 0.061031,
     "end_time": "2021-08-28T09:07:08.510236",
     "exception": false,
     "start_time": "2021-08-28T09:07:08.449205",
     "status": "completed"
    },
    "tags": []
   },
   "outputs": [
    {
     "data": {
      "application/javascript": [
       "parent.postMessage({\"jupyterEvent\": \"custom.exercise_interaction\", \"data\": {\"outcomeType\": 1, \"valueTowardsCompletion\": 1.0, \"interactionType\": 1, \"questionType\": 2, \"questionId\": \"3.1_ImputeCode\", \"learnToolsVersion\": \"0.3.4\", \"failureMessage\": \"\", \"exceptionClass\": \"\", \"trace\": \"\"}}, \"*\")"
      ],
      "text/plain": [
       "<IPython.core.display.Javascript object>"
      ]
     },
     "metadata": {},
     "output_type": "display_data"
    },
    {
     "data": {
      "text/markdown": [
       "<span style=\"color:#33cc33\">Correct</span>"
      ],
      "text/plain": [
       "Correct"
      ]
     },
     "metadata": {},
     "output_type": "display_data"
    }
   ],
   "source": [
    "from sklearn.impute import SimpleImputer\n",
    "import numpy as np\n",
    "\n",
    "# Fill in the lines below: imputation\n",
    "imp_mean = SimpleImputer(missing_values=np.nan, strategy='mean') # Your code here\n",
    "imputed_X_train = pd.DataFrame(imp_mean.fit_transform(X_train))\n",
    "imputed_X_valid = pd.DataFrame(imp_mean.transform(X_valid))\n",
    "\n",
    "# Fill in the lines below: imputation removed column names; put them back\n",
    "imputed_X_train.columns = X_train.columns\n",
    "imputed_X_valid.columns = X_valid.columns\n",
    "\n",
    "# Check your answers\n",
    "step_3.a.check()"
   ]
  },
  {
   "cell_type": "code",
   "execution_count": 14,
   "id": "e5498f7d",
   "metadata": {
    "execution": {
     "iopub.execute_input": "2021-08-28T09:07:08.567325Z",
     "iopub.status.busy": "2021-08-28T09:07:08.566782Z",
     "iopub.status.idle": "2021-08-28T09:07:08.569528Z",
     "shell.execute_reply": "2021-08-28T09:07:08.570062Z",
     "shell.execute_reply.started": "2021-08-28T09:05:46.013419Z"
    },
    "papermill": {
     "duration": 0.032472,
     "end_time": "2021-08-28T09:07:08.570215",
     "exception": false,
     "start_time": "2021-08-28T09:07:08.537743",
     "status": "completed"
    },
    "tags": []
   },
   "outputs": [],
   "source": [
    "# Lines below will give you a hint or solution code\n",
    "#step_3.a.hint()\n",
    "#step_3.a.solution()"
   ]
  },
  {
   "cell_type": "markdown",
   "id": "54b9e1f6",
   "metadata": {
    "papermill": {
     "duration": 0.02705,
     "end_time": "2021-08-28T09:07:08.624426",
     "exception": false,
     "start_time": "2021-08-28T09:07:08.597376",
     "status": "completed"
    },
    "tags": []
   },
   "source": [
    "Run the next code cell without changes to obtain the MAE for this approach."
   ]
  },
  {
   "cell_type": "code",
   "execution_count": 15,
   "id": "16c1bcb9",
   "metadata": {
    "execution": {
     "iopub.execute_input": "2021-08-28T09:07:08.682121Z",
     "iopub.status.busy": "2021-08-28T09:07:08.681445Z",
     "iopub.status.idle": "2021-08-28T09:07:10.000115Z",
     "shell.execute_reply": "2021-08-28T09:07:10.000837Z",
     "shell.execute_reply.started": "2021-08-28T09:05:46.020094Z"
    },
    "papermill": {
     "duration": 1.349808,
     "end_time": "2021-08-28T09:07:10.001137",
     "exception": false,
     "start_time": "2021-08-28T09:07:08.651329",
     "status": "completed"
    },
    "tags": []
   },
   "outputs": [
    {
     "name": "stdout",
     "output_type": "stream",
     "text": [
      "MAE (Imputation):\n",
      "18062.894611872147\n"
     ]
    }
   ],
   "source": [
    "print(\"MAE (Imputation):\")\n",
    "print(score_dataset(imputed_X_train, imputed_X_valid, y_train, y_valid))"
   ]
  },
  {
   "cell_type": "markdown",
   "id": "f5bc179e",
   "metadata": {
    "papermill": {
     "duration": 0.027156,
     "end_time": "2021-08-28T09:07:10.057850",
     "exception": false,
     "start_time": "2021-08-28T09:07:10.030694",
     "status": "completed"
    },
    "tags": []
   },
   "source": [
    "### Part B\n",
    "\n",
    "Compare the MAE from each approach.  Does anything surprise you about the results?  Why do you think one approach performed better than the other?"
   ]
  },
  {
   "cell_type": "code",
   "execution_count": 16,
   "id": "54e461f6",
   "metadata": {
    "execution": {
     "iopub.execute_input": "2021-08-28T09:07:10.118879Z",
     "iopub.status.busy": "2021-08-28T09:07:10.117870Z",
     "iopub.status.idle": "2021-08-28T09:07:10.122024Z",
     "shell.execute_reply": "2021-08-28T09:07:10.122508Z",
     "shell.execute_reply.started": "2021-08-28T09:05:47.446393Z"
    },
    "papermill": {
     "duration": 0.036639,
     "end_time": "2021-08-28T09:07:10.122684",
     "exception": false,
     "start_time": "2021-08-28T09:07:10.086045",
     "status": "completed"
    },
    "tags": []
   },
   "outputs": [
    {
     "data": {
      "application/javascript": [
       "parent.postMessage({\"jupyterEvent\": \"custom.exercise_interaction\", \"data\": {\"outcomeType\": 1, \"valueTowardsCompletion\": 1.0, \"interactionType\": 1, \"questionType\": 4, \"questionId\": \"3.2_ImputeThought\", \"learnToolsVersion\": \"0.3.4\", \"failureMessage\": \"\", \"exceptionClass\": \"\", \"trace\": \"\"}}, \"*\")"
      ],
      "text/plain": [
       "<IPython.core.display.Javascript object>"
      ]
     },
     "metadata": {},
     "output_type": "display_data"
    },
    {
     "data": {
      "text/markdown": [
       "<span style=\"color:#33cc33\">Correct:</span> \n",
       "\n",
       "Given that thre are so few missing values in the dataset, we'd expect imputation to perform better than dropping columns entirely.  However, we see that dropping columns performs slightly better!  While this can probably partially be attributed to noise in the dataset, another potential explanation is that the imputation method is not a great match to this dataset.  That is, maybe instead of filling in the mean value, it makes more sense to set every missing value to a value of 0, to fill in the most frequently encountered value, or to use some other method.  For instance, consider the `GarageYrBlt` column (which indicates the year that the garage was built).  It's likely that in some cases, a missing value could indicate a house that does not have a garage.  Does it make more sense to fill in the median value along each column in this case?  Or could we get better results by filling in the minimum value along each column?  It's not quite clear what's best in this case, but perhaps we can rule out some options immediately - for instance, setting missing values in this column to 0 is likely to yield horrible results!"
      ],
      "text/plain": [
       "Correct: \n",
       "\n",
       "Given that thre are so few missing values in the dataset, we'd expect imputation to perform better than dropping columns entirely.  However, we see that dropping columns performs slightly better!  While this can probably partially be attributed to noise in the dataset, another potential explanation is that the imputation method is not a great match to this dataset.  That is, maybe instead of filling in the mean value, it makes more sense to set every missing value to a value of 0, to fill in the most frequently encountered value, or to use some other method.  For instance, consider the `GarageYrBlt` column (which indicates the year that the garage was built).  It's likely that in some cases, a missing value could indicate a house that does not have a garage.  Does it make more sense to fill in the median value along each column in this case?  Or could we get better results by filling in the minimum value along each column?  It's not quite clear what's best in this case, but perhaps we can rule out some options immediately - for instance, setting missing values in this column to 0 is likely to yield horrible results!"
      ]
     },
     "metadata": {},
     "output_type": "display_data"
    }
   ],
   "source": [
    "# Check your answer (Run this code cell to receive credit!)\n",
    "step_3.b.check()"
   ]
  },
  {
   "cell_type": "code",
   "execution_count": 17,
   "id": "24cfa02d",
   "metadata": {
    "execution": {
     "iopub.execute_input": "2021-08-28T09:07:10.183709Z",
     "iopub.status.busy": "2021-08-28T09:07:10.183097Z",
     "iopub.status.idle": "2021-08-28T09:07:10.185431Z",
     "shell.execute_reply": "2021-08-28T09:07:10.185873Z",
     "shell.execute_reply.started": "2021-08-28T09:05:47.458812Z"
    },
    "papermill": {
     "duration": 0.034388,
     "end_time": "2021-08-28T09:07:10.186024",
     "exception": false,
     "start_time": "2021-08-28T09:07:10.151636",
     "status": "completed"
    },
    "tags": []
   },
   "outputs": [],
   "source": [
    "#step_3.b.hint()"
   ]
  },
  {
   "cell_type": "markdown",
   "id": "98937ef8",
   "metadata": {
    "papermill": {
     "duration": 0.027802,
     "end_time": "2021-08-28T09:07:10.242333",
     "exception": false,
     "start_time": "2021-08-28T09:07:10.214531",
     "status": "completed"
    },
    "tags": []
   },
   "source": [
    "# Step 4: Generate test predictions\n",
    "\n",
    "In this final step, you'll use any approach of your choosing to deal with missing values.  Once you've preprocessed the training and validation features, you'll train and evaluate a random forest model.  Then, you'll preprocess the test data before generating predictions that can be submitted to the competition!\n",
    "\n",
    "### Part A\n",
    "\n",
    "Use the next code cell to preprocess the training and validation data.  Set the preprocessed DataFrames to `final_X_train` and `final_X_valid`.  **You can use any approach of your choosing here!**  in order for this step to be marked as correct, you need only ensure:\n",
    "- the preprocessed DataFrames have the same number of columns,\n",
    "- the preprocessed DataFrames have no missing values, \n",
    "- `final_X_train` and `y_train` have the same number of rows, and\n",
    "- `final_X_valid` and `y_valid` have the same number of rows."
   ]
  },
  {
   "cell_type": "code",
   "execution_count": 18,
   "id": "1ee14507",
   "metadata": {
    "execution": {
     "iopub.execute_input": "2021-08-28T09:07:10.307842Z",
     "iopub.status.busy": "2021-08-28T09:07:10.307251Z",
     "iopub.status.idle": "2021-08-28T09:07:10.325995Z",
     "shell.execute_reply": "2021-08-28T09:07:10.326405Z",
     "shell.execute_reply.started": "2021-08-28T09:05:47.467621Z"
    },
    "papermill": {
     "duration": 0.055943,
     "end_time": "2021-08-28T09:07:10.326586",
     "exception": false,
     "start_time": "2021-08-28T09:07:10.270643",
     "status": "completed"
    },
    "tags": []
   },
   "outputs": [
    {
     "data": {
      "text/html": [
       "<div>\n",
       "<style scoped>\n",
       "    .dataframe tbody tr th:only-of-type {\n",
       "        vertical-align: middle;\n",
       "    }\n",
       "\n",
       "    .dataframe tbody tr th {\n",
       "        vertical-align: top;\n",
       "    }\n",
       "\n",
       "    .dataframe thead th {\n",
       "        text-align: right;\n",
       "    }\n",
       "</style>\n",
       "<table border=\"1\" class=\"dataframe\">\n",
       "  <thead>\n",
       "    <tr style=\"text-align: right;\">\n",
       "      <th></th>\n",
       "      <th>LotFrontage</th>\n",
       "      <th>MasVnrArea</th>\n",
       "      <th>GarageYrBlt</th>\n",
       "    </tr>\n",
       "  </thead>\n",
       "  <tbody>\n",
       "    <tr>\n",
       "      <th>count</th>\n",
       "      <td>956.000000</td>\n",
       "      <td>1162.000000</td>\n",
       "      <td>1110.000000</td>\n",
       "    </tr>\n",
       "    <tr>\n",
       "      <th>mean</th>\n",
       "      <td>69.614017</td>\n",
       "      <td>103.481067</td>\n",
       "      <td>1978.140541</td>\n",
       "    </tr>\n",
       "    <tr>\n",
       "      <th>std</th>\n",
       "      <td>22.946069</td>\n",
       "      <td>182.676225</td>\n",
       "      <td>24.877265</td>\n",
       "    </tr>\n",
       "    <tr>\n",
       "      <th>min</th>\n",
       "      <td>21.000000</td>\n",
       "      <td>0.000000</td>\n",
       "      <td>1900.000000</td>\n",
       "    </tr>\n",
       "    <tr>\n",
       "      <th>25%</th>\n",
       "      <td>59.000000</td>\n",
       "      <td>0.000000</td>\n",
       "      <td>1961.000000</td>\n",
       "    </tr>\n",
       "    <tr>\n",
       "      <th>50%</th>\n",
       "      <td>69.000000</td>\n",
       "      <td>0.000000</td>\n",
       "      <td>1979.000000</td>\n",
       "    </tr>\n",
       "    <tr>\n",
       "      <th>75%</th>\n",
       "      <td>80.000000</td>\n",
       "      <td>167.750000</td>\n",
       "      <td>2002.000000</td>\n",
       "    </tr>\n",
       "    <tr>\n",
       "      <th>max</th>\n",
       "      <td>313.000000</td>\n",
       "      <td>1600.000000</td>\n",
       "      <td>2010.000000</td>\n",
       "    </tr>\n",
       "  </tbody>\n",
       "</table>\n",
       "</div>"
      ],
      "text/plain": [
       "       LotFrontage   MasVnrArea  GarageYrBlt\n",
       "count   956.000000  1162.000000  1110.000000\n",
       "mean     69.614017   103.481067  1978.140541\n",
       "std      22.946069   182.676225    24.877265\n",
       "min      21.000000     0.000000  1900.000000\n",
       "25%      59.000000     0.000000  1961.000000\n",
       "50%      69.000000     0.000000  1979.000000\n",
       "75%      80.000000   167.750000  2002.000000\n",
       "max     313.000000  1600.000000  2010.000000"
      ]
     },
     "execution_count": 18,
     "metadata": {},
     "output_type": "execute_result"
    }
   ],
   "source": [
    "X_train.isna().mean()[X_train.isna().mean() > 0]\n",
    "# LotFrontage 212: Linear feet of street connected to property\n",
    "# MasVnrArea 6: Masonry veneer area in square feet\n",
    "# GarageYrBlt 58: Year garage was built\n",
    "# Describe the columns that have missing values\n",
    "X_train[X_train.columns[X_train.isna().mean() > 0]].describe()"
   ]
  },
  {
   "cell_type": "code",
   "execution_count": 19,
   "id": "835496fa",
   "metadata": {
    "execution": {
     "iopub.execute_input": "2021-08-28T09:07:10.391510Z",
     "iopub.status.busy": "2021-08-28T09:07:10.390931Z",
     "iopub.status.idle": "2021-08-28T09:07:10.803031Z",
     "shell.execute_reply": "2021-08-28T09:07:10.802418Z",
     "shell.execute_reply.started": "2021-08-28T09:05:47.510030Z"
    },
    "papermill": {
     "duration": 0.447655,
     "end_time": "2021-08-28T09:07:10.803164",
     "exception": false,
     "start_time": "2021-08-28T09:07:10.355509",
     "status": "completed"
    },
    "tags": []
   },
   "outputs": [
    {
     "data": {
      "text/plain": [
       "array([[<AxesSubplot:title={'center':'LotFrontage'}>,\n",
       "        <AxesSubplot:title={'center':'MasVnrArea'}>],\n",
       "       [<AxesSubplot:title={'center':'GarageYrBlt'}>, <AxesSubplot:>]],\n",
       "      dtype=object)"
      ]
     },
     "execution_count": 19,
     "metadata": {},
     "output_type": "execute_result"
    },
    {
     "data": {
      "image/png": "[encoded data removed]",
      "text/plain": [
       "<Figure size 432x288 with 4 Axes>"
      ]
     },
     "metadata": {
      "needs_background": "light"
     },
     "output_type": "display_data"
    }
   ],
   "source": [
    "# The histograms of the columns that have missing values\n",
    "X_train[X_train.columns[X_train.isna().mean() > 0]].hist()\n",
    "\n",
    "# According to the descriptions and distributions of the three columns,\n",
    "# I will try to use median for impution"
   ]
  },
  {
   "cell_type": "code",
   "execution_count": 20,
   "id": "b1f1c814",
   "metadata": {
    "execution": {
     "iopub.execute_input": "2021-08-28T09:07:10.870622Z",
     "iopub.status.busy": "2021-08-28T09:07:10.869952Z",
     "iopub.status.idle": "2021-08-28T09:07:10.895037Z",
     "shell.execute_reply": "2021-08-28T09:07:10.894570Z",
     "shell.execute_reply.started": "2021-08-28T09:05:48.092155Z"
    },
    "papermill": {
     "duration": 0.06169,
     "end_time": "2021-08-28T09:07:10.895179",
     "exception": false,
     "start_time": "2021-08-28T09:07:10.833489",
     "status": "completed"
    },
    "tags": []
   },
   "outputs": [
    {
     "data": {
      "application/javascript": [
       "parent.postMessage({\"jupyterEvent\": \"custom.exercise_interaction\", \"data\": {\"outcomeType\": 1, \"valueTowardsCompletion\": 1.0, \"interactionType\": 1, \"questionType\": 2, \"questionId\": \"4.1_PredsCodeA\", \"learnToolsVersion\": \"0.3.4\", \"failureMessage\": \"\", \"exceptionClass\": \"\", \"trace\": \"\"}}, \"*\")"
      ],
      "text/plain": [
       "<IPython.core.display.Javascript object>"
      ]
     },
     "metadata": {},
     "output_type": "display_data"
    },
    {
     "data": {
      "text/markdown": [
       "<span style=\"color:#33cc33\">Correct</span>"
      ],
      "text/plain": [
       "Correct"
      ]
     },
     "metadata": {},
     "output_type": "display_data"
    }
   ],
   "source": [
    "# Preprocessed training and validation features\n",
    "imp_median = SimpleImputer(missing_values=np.nan, strategy='median') # Your code here\n",
    "final_X_train = pd.DataFrame(imp_median.fit_transform(X_train))\n",
    "final_X_valid = pd.DataFrame(imp_median.transform(X_valid))\n",
    "\n",
    "# Imputation removed column names; put them back\n",
    "final_X_train.columns = X_train.columns\n",
    "final_X_valid.columns = X_valid.columns\n",
    "\n",
    "# Check your answers\n",
    "step_4.a.check()"
   ]
  },
  {
   "cell_type": "code",
   "execution_count": 21,
   "id": "9956681d",
   "metadata": {
    "execution": {
     "iopub.execute_input": "2021-08-28T09:07:10.960679Z",
     "iopub.status.busy": "2021-08-28T09:07:10.960060Z",
     "iopub.status.idle": "2021-08-28T09:07:10.961900Z",
     "shell.execute_reply": "2021-08-28T09:07:10.962325Z",
     "shell.execute_reply.started": "2021-08-28T09:05:48.257707Z"
    },
    "papermill": {
     "duration": 0.036451,
     "end_time": "2021-08-28T09:07:10.962494",
     "exception": false,
     "start_time": "2021-08-28T09:07:10.926043",
     "status": "completed"
    },
    "tags": []
   },
   "outputs": [],
   "source": [
    "# Lines below will give you a hint or solution code\n",
    "#step_4.a.hint()\n",
    "#step_4.a.solution()"
   ]
  },
  {
   "cell_type": "markdown",
   "id": "04c4422a",
   "metadata": {
    "papermill": {
     "duration": 0.030165,
     "end_time": "2021-08-28T09:07:11.023257",
     "exception": false,
     "start_time": "2021-08-28T09:07:10.993092",
     "status": "completed"
    },
    "tags": []
   },
   "source": [
    "Run the next code cell to train and evaluate a random forest model.  (*Note that we don't use the `score_dataset()` function above, because we will soon use the trained model to generate test predictions!*)"
   ]
  },
  {
   "cell_type": "code",
   "execution_count": 22,
   "id": "e8c71983",
   "metadata": {
    "execution": {
     "iopub.execute_input": "2021-08-28T09:07:11.086463Z",
     "iopub.status.busy": "2021-08-28T09:07:11.085854Z",
     "iopub.status.idle": "2021-08-28T09:07:12.406730Z",
     "shell.execute_reply": "2021-08-28T09:07:12.406232Z",
     "shell.execute_reply.started": "2021-08-28T09:05:48.263541Z"
    },
    "papermill": {
     "duration": 1.35336,
     "end_time": "2021-08-28T09:07:12.406861",
     "exception": false,
     "start_time": "2021-08-28T09:07:11.053501",
     "status": "completed"
    },
    "tags": []
   },
   "outputs": [
    {
     "name": "stdout",
     "output_type": "stream",
     "text": [
      "MAE (Your approach):\n",
      "17791.59899543379\n"
     ]
    }
   ],
   "source": [
    "# Define and fit model\n",
    "model = RandomForestRegressor(n_estimators=100, random_state=0)\n",
    "model.fit(final_X_train, y_train)\n",
    "\n",
    "# Get validation predictions and MAE\n",
    "preds_valid = model.predict(final_X_valid)\n",
    "print(\"MAE (Your approach):\")\n",
    "print(mean_absolute_error(y_valid, preds_valid))"
   ]
  },
  {
   "cell_type": "markdown",
   "id": "f70218a1",
   "metadata": {
    "papermill": {
     "duration": 0.030783,
     "end_time": "2021-08-28T09:07:12.468684",
     "exception": false,
     "start_time": "2021-08-28T09:07:12.437901",
     "status": "completed"
    },
    "tags": []
   },
   "source": [
    "### Part B\n",
    "\n",
    "Use the next code cell to preprocess your test data.  Make sure that you use a method that agrees with how you preprocessed the training and validation data, and set the preprocessed test features to `final_X_test`.\n",
    "\n",
    "Then, use the preprocessed test features and the trained model to generate test predictions in `preds_test`.\n",
    "\n",
    "In order for this step to be marked correct, you need only ensure:\n",
    "- the preprocessed test DataFrame has no missing values, and\n",
    "- `final_X_test` has the same number of rows as `X_test`."
   ]
  },
  {
   "cell_type": "code",
   "execution_count": 23,
   "id": "70f610d0",
   "metadata": {
    "execution": {
     "iopub.execute_input": "2021-08-28T09:07:12.535669Z",
     "iopub.status.busy": "2021-08-28T09:07:12.535021Z",
     "iopub.status.idle": "2021-08-28T09:07:12.543074Z",
     "shell.execute_reply": "2021-08-28T09:07:12.542609Z",
     "shell.execute_reply.started": "2021-08-28T09:05:49.666228Z"
    },
    "papermill": {
     "duration": 0.04347,
     "end_time": "2021-08-28T09:07:12.543211",
     "exception": false,
     "start_time": "2021-08-28T09:07:12.499741",
     "status": "completed"
    },
    "tags": []
   },
   "outputs": [
    {
     "data": {
      "text/plain": [
       "LotFrontage     227\n",
       "MasVnrArea       15\n",
       "BsmtFinSF1        1\n",
       "BsmtFinSF2        1\n",
       "BsmtUnfSF         1\n",
       "TotalBsmtSF       1\n",
       "BsmtFullBath      2\n",
       "BsmtHalfBath      2\n",
       "GarageYrBlt      78\n",
       "GarageCars        1\n",
       "GarageArea        1\n",
       "dtype: int64"
      ]
     },
     "execution_count": 23,
     "metadata": {},
     "output_type": "execute_result"
    }
   ],
   "source": [
    "# So many missing values, so we need to impute X_test\n",
    "X_test.isna().sum()[X_test.isna().sum() > 0]"
   ]
  },
  {
   "cell_type": "code",
   "execution_count": 24,
   "id": "727f8132",
   "metadata": {
    "execution": {
     "iopub.execute_input": "2021-08-28T09:07:12.608661Z",
     "iopub.status.busy": "2021-08-28T09:07:12.608031Z",
     "iopub.status.idle": "2021-08-28T09:07:12.655357Z",
     "shell.execute_reply": "2021-08-28T09:07:12.655819Z",
     "shell.execute_reply.started": "2021-08-28T09:05:49.681545Z"
    },
    "papermill": {
     "duration": 0.081159,
     "end_time": "2021-08-28T09:07:12.655983",
     "exception": false,
     "start_time": "2021-08-28T09:07:12.574824",
     "status": "completed"
    },
    "tags": []
   },
   "outputs": [
    {
     "data": {
      "application/javascript": [
       "parent.postMessage({\"jupyterEvent\": \"custom.exercise_interaction\", \"data\": {\"outcomeType\": 1, \"valueTowardsCompletion\": 1.0, \"interactionType\": 1, \"questionType\": 2, \"questionId\": \"4.2_PredsCodeB\", \"learnToolsVersion\": \"0.3.4\", \"failureMessage\": \"\", \"exceptionClass\": \"\", \"trace\": \"\"}}, \"*\")"
      ],
      "text/plain": [
       "<IPython.core.display.Javascript object>"
      ]
     },
     "metadata": {},
     "output_type": "display_data"
    },
    {
     "data": {
      "text/markdown": [
       "<span style=\"color:#33cc33\">Correct</span>"
      ],
      "text/plain": [
       "Correct"
      ]
     },
     "metadata": {},
     "output_type": "display_data"
    }
   ],
   "source": [
    "# Fill in the line below: preprocess test data\n",
    "final_X_test = pd.DataFrame(imp_median.transform(X_test))\n",
    "\n",
    "# Fill in the line below: get test predictions\n",
    "preds_test = model.predict(final_X_test)\n",
    "\n",
    "# Check your answers\n",
    "step_4.b.check()"
   ]
  },
  {
   "cell_type": "code",
   "execution_count": 25,
   "id": "8b06c2d5",
   "metadata": {
    "execution": {
     "iopub.execute_input": "2021-08-28T09:07:12.722313Z",
     "iopub.status.busy": "2021-08-28T09:07:12.721725Z",
     "iopub.status.idle": "2021-08-28T09:07:12.724822Z",
     "shell.execute_reply": "2021-08-28T09:07:12.725287Z",
     "shell.execute_reply.started": "2021-08-28T09:05:49.736804Z"
    },
    "papermill": {
     "duration": 0.03768,
     "end_time": "2021-08-28T09:07:12.725448",
     "exception": false,
     "start_time": "2021-08-28T09:07:12.687768",
     "status": "completed"
    },
    "tags": []
   },
   "outputs": [],
   "source": [
    "# Lines below will give you a hint or solution code\n",
    "#step_4.b.hint()\n",
    "#step_4.b.solution()"
   ]
  },
  {
   "cell_type": "markdown",
   "id": "7af0420f",
   "metadata": {
    "papermill": {
     "duration": 0.031804,
     "end_time": "2021-08-28T09:07:12.788961",
     "exception": false,
     "start_time": "2021-08-28T09:07:12.757157",
     "status": "completed"
    },
    "tags": []
   },
   "source": [
    "Run the next code cell without changes to save your results to a CSV file that can be submitted directly to the competition."
   ]
  },
  {
   "cell_type": "code",
   "execution_count": 26,
   "id": "93b15747",
   "metadata": {
    "execution": {
     "iopub.execute_input": "2021-08-28T09:07:12.855718Z",
     "iopub.status.busy": "2021-08-28T09:07:12.855121Z",
     "iopub.status.idle": "2021-08-28T09:07:12.867359Z",
     "shell.execute_reply": "2021-08-28T09:07:12.866859Z",
     "shell.execute_reply.started": "2021-08-28T09:05:49.742092Z"
    },
    "papermill": {
     "duration": 0.046433,
     "end_time": "2021-08-28T09:07:12.867497",
     "exception": false,
     "start_time": "2021-08-28T09:07:12.821064",
     "status": "completed"
    },
    "tags": []
   },
   "outputs": [],
   "source": [
    "# Save test predictions to file\n",
    "output = pd.DataFrame({'Id': X_test.index,\n",
    "                       'SalePrice': preds_test})\n",
    "output.to_csv('submission.csv', index=False)"
   ]
  },
  {
   "cell_type": "markdown",
   "id": "2948e6ae",
   "metadata": {
    "papermill": {
     "duration": 0.031525,
     "end_time": "2021-08-28T09:07:12.931311",
     "exception": false,
     "start_time": "2021-08-28T09:07:12.899786",
     "status": "completed"
    },
    "tags": []
   },
   "source": [
    "# Submit your results\n",
    "\n",
    "Once you have successfully completed Step 4, you're ready to submit your results to the leaderboard!  (_You also learned how to do this in the previous exercise.  If you need a reminder of how to do this, please use the instructions below._)  \n",
    "\n",
    "First, you'll need to join the competition if you haven't already.  So open a new window by clicking on [this link](https://www.kaggle.com/c/home-data-for-ml-course).  Then click on the **Join Competition** button.\n",
    "\n",
    "![join competition image](https://i.imgur.com/wLmFtH3.png)\n",
    "\n",
    "Next, follow the instructions below:\n",
    "1. Begin by clicking on the blue **Save Version** button in the top right corner of the window.  This will generate a pop-up window.  \n",
    "2. Ensure that the **Save and Run All** option is selected, and then click on the blue **Save** button.\n",
    "3. This generates a window in the bottom left corner of the notebook.  After it has finished running, click on the number to the right of the **Save Version** button.  This pulls up a list of versions on the right of the screen.  Click on the ellipsis **(...)** to the right of the most recent version, and select **Open in Viewer**.  This brings you into view mode of the same page. You will need to scroll down to get back to these instructions.\n",
    "4. Click on the **Output** tab on the right of the screen.  Then, click on the file you would like to submit, and click on the blue **Submit** button to submit your results to the leaderboard.\n",
    "\n",
    "You have now successfully submitted to the competition!\n",
    "\n",
    "If you want to keep working to improve your performance, select the blue **Edit** button in the top right of the screen. Then you can change your code and repeat the process. There's a lot of room to improve, and you will climb up the leaderboard as you work.\n",
    "\n",
    "\n",
    "# Keep going\n",
    "\n",
    "Move on to learn what **[categorical variables](https://www.kaggle.com/alexisbcook/categorical-variables)** are, along with how to incorporate them into your machine learning models.  Categorical variables are very common in real-world data, but you'll get an error if you try to plug them into your models without processing them first!"
   ]
  },
  {
   "cell_type": "markdown",
   "id": "67bc9a9d",
   "metadata": {
    "papermill": {
     "duration": 0.031433,
     "end_time": "2021-08-28T09:07:12.994494",
     "exception": false,
     "start_time": "2021-08-28T09:07:12.963061",
     "status": "completed"
    },
    "tags": []
   },
   "source": [
    "---\n",
    "\n",
    "\n",
    "\n",
    "\n",
    "*Have questions or comments? Visit the [Learn Discussion forum](https://www.kaggle.com/learn-forum/161289) to chat with other Learners.*"
   ]
  }
 ],
 "metadata": {
  "kernelspec": {
   "display_name": "Python 3",
   "language": "python",
   "name": "python3"
  },
  "language_info": {
   "codemirror_mode": {
    "name": "ipython",
    "version": 3
   },
   "file_extension": ".py",
   "mimetype": "text/x-python",
   "name": "python",
   "nbconvert_exporter": "python",
   "pygments_lexer": "ipython3",
   "version": "3.7.10"
  },
  "papermill": {
   "default_parameters": {},
   "duration": 16.819327,
   "end_time": "2021-08-28T09:07:14.469797",
   "environment_variables": {},
   "exception": null,
   "input_path": "__notebook__.ipynb",
   "output_path": "__notebook__.ipynb",
   "parameters": {},
   "start_time": "2021-08-28T09:06:57.650470",
   "version": "2.3.3"
  }
 },
 "nbformat": 4,
 "nbformat_minor": 5
}
