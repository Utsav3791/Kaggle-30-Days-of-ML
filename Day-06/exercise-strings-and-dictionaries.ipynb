{
 "cells": [
  {
   "cell_type": "markdown",
   "id": "dc8cb74b",
   "metadata": {
    "papermill": {
     "duration": 0.017259,
     "end_time": "2021-08-26T05:13:00.010315",
     "exception": false,
     "start_time": "2021-08-26T05:12:59.993056",
     "status": "completed"
    },
    "tags": []
   },
   "source": [
    "**This notebook is an exercise in the [Python](https://www.kaggle.com/learn/python) course.  You can reference the tutorial at [this link](https://www.kaggle.com/colinmorris/strings-and-dictionaries).**\n",
    "\n",
    "---\n"
   ]
  },
  {
   "cell_type": "markdown",
   "id": "b7bc56fc",
   "metadata": {
    "papermill": {
     "duration": 0.015899,
     "end_time": "2021-08-26T05:13:00.043516",
     "exception": false,
     "start_time": "2021-08-26T05:13:00.027617",
     "status": "completed"
    },
    "tags": []
   },
   "source": [
    "You are almost done with the course. Nice job!\n",
    "\n",
    "We have a couple more interesting problems for you before you go. \n",
    "\n",
    "As always, run the setup code below before working on the questions."
   ]
  },
  {
   "cell_type": "code",
   "execution_count": 1,
   "id": "cdc1ee89",
   "metadata": {
    "execution": {
     "iopub.execute_input": "2021-08-26T05:13:00.080030Z",
     "iopub.status.busy": "2021-08-26T05:13:00.078882Z",
     "iopub.status.idle": "2021-08-26T05:13:00.230543Z",
     "shell.execute_reply": "2021-08-26T05:13:00.229516Z",
     "shell.execute_reply.started": "2021-08-26T05:12:18.537133Z"
    },
    "papermill": {
     "duration": 0.171007,
     "end_time": "2021-08-26T05:13:00.230765",
     "exception": false,
     "start_time": "2021-08-26T05:13:00.059758",
     "status": "completed"
    },
    "tags": []
   },
   "outputs": [
    {
     "name": "stdout",
     "output_type": "stream",
     "text": [
      "Setup complete.\n"
     ]
    }
   ],
   "source": [
    "from learntools.core import binder; binder.bind(globals())\n",
    "from learntools.python.ex6 import *\n",
    "print('Setup complete.')"
   ]
  },
  {
   "cell_type": "markdown",
   "id": "84c18454",
   "metadata": {
    "papermill": {
     "duration": 0.016294,
     "end_time": "2021-08-26T05:13:00.265230",
     "exception": false,
     "start_time": "2021-08-26T05:13:00.248936",
     "status": "completed"
    },
    "tags": []
   },
   "source": [
    "Let's start with a string lightning round to warm up. What are the lengths of the strings below?\n",
    "\n",
    "For each of the five strings below, predict what `len()` would return when passed that string. Use the variable `length` to record your answer, then run the cell to check whether you were right.  \n",
    "\n",
    "# 0a."
   ]
  },
  {
   "cell_type": "code",
   "execution_count": 2,
   "id": "8781c9e1",
   "metadata": {
    "execution": {
     "iopub.execute_input": "2021-08-26T05:13:00.307123Z",
     "iopub.status.busy": "2021-08-26T05:13:00.306080Z",
     "iopub.status.idle": "2021-08-26T05:13:00.313000Z",
     "shell.execute_reply": "2021-08-26T05:13:00.312437Z",
     "shell.execute_reply.started": "2021-08-26T05:12:18.671950Z"
    },
    "papermill": {
     "duration": 0.031233,
     "end_time": "2021-08-26T05:13:00.313145",
     "exception": false,
     "start_time": "2021-08-26T05:13:00.281912",
     "status": "completed"
    },
    "tags": []
   },
   "outputs": [
    {
     "data": {
      "application/javascript": [
       "parent.postMessage({\"jupyterEvent\": \"custom.exercise_interaction\", \"data\": {\"outcomeType\": 1, \"valueTowardsCompletion\": 0.3333333333333333, \"interactionType\": 1, \"questionType\": 1, \"questionId\": \"0.1_ZA\", \"learnToolsVersion\": \"0.3.4\", \"failureMessage\": \"\", \"exceptionClass\": \"\", \"trace\": \"\"}}, \"*\")"
      ],
      "text/plain": [
       "<IPython.core.display.Javascript object>"
      ]
     },
     "metadata": {},
     "output_type": "display_data"
    },
    {
     "data": {
      "text/markdown": [
       "<span style=\"color:#33cc33\">Correct:</span> \n",
       "\n",
       "The empty string has length zero. Note that the empty string is also the only string that Python considers as False when converting to boolean."
      ],
      "text/plain": [
       "Correct: \n",
       "\n",
       "The empty string has length zero. Note that the empty string is also the only string that Python considers as False when converting to boolean."
      ]
     },
     "metadata": {},
     "output_type": "display_data"
    }
   ],
   "source": [
    "a = \"\"\n",
    "length = 0\n",
    "q0.a.check()"
   ]
  },
  {
   "cell_type": "markdown",
   "id": "0d3e7afc",
   "metadata": {
    "papermill": {
     "duration": 0.017379,
     "end_time": "2021-08-26T05:13:00.348282",
     "exception": false,
     "start_time": "2021-08-26T05:13:00.330903",
     "status": "completed"
    },
    "tags": []
   },
   "source": [
    "# 0b."
   ]
  },
  {
   "cell_type": "code",
   "execution_count": 3,
   "id": "6c205ef5",
   "metadata": {
    "execution": {
     "iopub.execute_input": "2021-08-26T05:13:00.390020Z",
     "iopub.status.busy": "2021-08-26T05:13:00.389031Z",
     "iopub.status.idle": "2021-08-26T05:13:00.395835Z",
     "shell.execute_reply": "2021-08-26T05:13:00.395294Z",
     "shell.execute_reply.started": "2021-08-26T05:12:18.685572Z"
    },
    "papermill": {
     "duration": 0.029995,
     "end_time": "2021-08-26T05:13:00.395985",
     "exception": false,
     "start_time": "2021-08-26T05:13:00.365990",
     "status": "completed"
    },
    "tags": []
   },
   "outputs": [
    {
     "data": {
      "application/javascript": [
       "parent.postMessage({\"jupyterEvent\": \"custom.exercise_interaction\", \"data\": {\"outcomeType\": 1, \"valueTowardsCompletion\": 0.3333333333333333, \"interactionType\": 1, \"questionType\": 1, \"questionId\": \"0.2_ZB\", \"learnToolsVersion\": \"0.3.4\", \"failureMessage\": \"\", \"exceptionClass\": \"\", \"trace\": \"\"}}, \"*\")"
      ],
      "text/plain": [
       "<IPython.core.display.Javascript object>"
      ]
     },
     "metadata": {},
     "output_type": "display_data"
    },
    {
     "data": {
      "text/markdown": [
       "<span style=\"color:#33cc33\">Correct:</span> \n",
       "\n",
       "Keep in mind Python includes spaces (and punctuation) when counting string length."
      ],
      "text/plain": [
       "Correct: \n",
       "\n",
       "Keep in mind Python includes spaces (and punctuation) when counting string length."
      ]
     },
     "metadata": {},
     "output_type": "display_data"
    }
   ],
   "source": [
    "b = \"it's ok\"\n",
    "length = 7\n",
    "q0.b.check()"
   ]
  },
  {
   "cell_type": "markdown",
   "id": "b7467e09",
   "metadata": {
    "papermill": {
     "duration": 0.018278,
     "end_time": "2021-08-26T05:13:00.433809",
     "exception": false,
     "start_time": "2021-08-26T05:13:00.415531",
     "status": "completed"
    },
    "tags": []
   },
   "source": [
    "# 0c."
   ]
  },
  {
   "cell_type": "code",
   "execution_count": 4,
   "id": "dc5d9cb8",
   "metadata": {
    "execution": {
     "iopub.execute_input": "2021-08-26T05:13:00.478118Z",
     "iopub.status.busy": "2021-08-26T05:13:00.477416Z",
     "iopub.status.idle": "2021-08-26T05:13:00.481806Z",
     "shell.execute_reply": "2021-08-26T05:13:00.481175Z",
     "shell.execute_reply.started": "2021-08-26T05:12:18.698228Z"
    },
    "papermill": {
     "duration": 0.029028,
     "end_time": "2021-08-26T05:13:00.481947",
     "exception": false,
     "start_time": "2021-08-26T05:13:00.452919",
     "status": "completed"
    },
    "tags": []
   },
   "outputs": [
    {
     "data": {
      "application/javascript": [
       "parent.postMessage({\"jupyterEvent\": \"custom.exercise_interaction\", \"data\": {\"outcomeType\": 1, \"valueTowardsCompletion\": 0.3333333333333333, \"interactionType\": 1, \"questionType\": 1, \"questionId\": \"0.3_ZC\", \"learnToolsVersion\": \"0.3.4\", \"failureMessage\": \"\", \"exceptionClass\": \"\", \"trace\": \"\"}}, \"*\")"
      ],
      "text/plain": [
       "<IPython.core.display.Javascript object>"
      ]
     },
     "metadata": {},
     "output_type": "display_data"
    },
    {
     "data": {
      "text/markdown": [
       "<span style=\"color:#33cc33\">Correct:</span> \n",
       "\n",
       "Even though we use different syntax to create it, the string `c` is identical to `b`. In particular, note that the backslash is not part of the string, so it doesn't contribute to its length."
      ],
      "text/plain": [
       "Correct: \n",
       "\n",
       "Even though we use different syntax to create it, the string `c` is identical to `b`. In particular, note that the backslash is not part of the string, so it doesn't contribute to its length."
      ]
     },
     "metadata": {},
     "output_type": "display_data"
    }
   ],
   "source": [
    "c = 'it\\'s ok'\n",
    "length = 7\n",
    "q0.c.check()"
   ]
  },
  {
   "cell_type": "markdown",
   "id": "913c0fc6",
   "metadata": {
    "papermill": {
     "duration": 0.01932,
     "end_time": "2021-08-26T05:13:00.521285",
     "exception": false,
     "start_time": "2021-08-26T05:13:00.501965",
     "status": "completed"
    },
    "tags": []
   },
   "source": [
    "# 0d."
   ]
  },
  {
   "cell_type": "code",
   "execution_count": 5,
   "id": "48e6a5f9",
   "metadata": {
    "execution": {
     "iopub.execute_input": "2021-08-26T05:13:00.566269Z",
     "iopub.status.busy": "2021-08-26T05:13:00.565610Z",
     "iopub.status.idle": "2021-08-26T05:13:00.573426Z",
     "shell.execute_reply": "2021-08-26T05:13:00.572887Z",
     "shell.execute_reply.started": "2021-08-26T05:12:18.709595Z"
    },
    "papermill": {
     "duration": 0.032731,
     "end_time": "2021-08-26T05:13:00.573620",
     "exception": false,
     "start_time": "2021-08-26T05:13:00.540889",
     "status": "completed"
    },
    "tags": []
   },
   "outputs": [
    {
     "data": {
      "application/javascript": [
       "parent.postMessage({\"jupyterEvent\": \"custom.exercise_interaction\", \"data\": {\"outcomeType\": 1, \"valueTowardsCompletion\": 0.3333333333333333, \"interactionType\": 1, \"questionType\": 1, \"questionId\": \"0.4_ZD\", \"learnToolsVersion\": \"0.3.4\", \"failureMessage\": \"\", \"exceptionClass\": \"\", \"trace\": \"\"}}, \"*\")"
      ],
      "text/plain": [
       "<IPython.core.display.Javascript object>"
      ]
     },
     "metadata": {},
     "output_type": "display_data"
    },
    {
     "data": {
      "text/markdown": [
       "<span style=\"color:#33cc33\">Correct:</span> \n",
       "\n",
       "The fact that this string was created using triple-quote syntax doesn't make any difference in terms of its content or length. This string is exactly the same as `'hey'`."
      ],
      "text/plain": [
       "Correct: \n",
       "\n",
       "The fact that this string was created using triple-quote syntax doesn't make any difference in terms of its content or length. This string is exactly the same as `'hey'`."
      ]
     },
     "metadata": {},
     "output_type": "display_data"
    }
   ],
   "source": [
    "d = \"\"\"hey\"\"\"\n",
    "length = 3\n",
    "q0.d.check()"
   ]
  },
  {
   "cell_type": "markdown",
   "id": "4a26786f",
   "metadata": {
    "papermill": {
     "duration": 0.020263,
     "end_time": "2021-08-26T05:13:00.615605",
     "exception": false,
     "start_time": "2021-08-26T05:13:00.595342",
     "status": "completed"
    },
    "tags": []
   },
   "source": [
    "# 0e."
   ]
  },
  {
   "cell_type": "code",
   "execution_count": 6,
   "id": "b177d4cb",
   "metadata": {
    "execution": {
     "iopub.execute_input": "2021-08-26T05:13:00.664024Z",
     "iopub.status.busy": "2021-08-26T05:13:00.663054Z",
     "iopub.status.idle": "2021-08-26T05:13:00.678563Z",
     "shell.execute_reply": "2021-08-26T05:13:00.679131Z",
     "shell.execute_reply.started": "2021-08-26T05:12:18.719624Z"
    },
    "papermill": {
     "duration": 0.04327,
     "end_time": "2021-08-26T05:13:00.679378",
     "exception": false,
     "start_time": "2021-08-26T05:13:00.636108",
     "status": "completed"
    },
    "tags": []
   },
   "outputs": [
    {
     "data": {
      "application/javascript": [
       "parent.postMessage({\"jupyterEvent\": \"custom.exercise_interaction\", \"data\": {\"outcomeType\": 1, \"valueTowardsCompletion\": 0.3333333333333333, \"interactionType\": 1, \"questionType\": 1, \"questionId\": \"0.5_ZE\", \"learnToolsVersion\": \"0.3.4\", \"failureMessage\": \"\", \"exceptionClass\": \"\", \"trace\": \"\"}}, \"*\")"
      ],
      "text/plain": [
       "<IPython.core.display.Javascript object>"
      ]
     },
     "metadata": {},
     "output_type": "display_data"
    },
    {
     "data": {
      "text/markdown": [
       "<span style=\"color:#33cc33\">Correct:</span> \n",
       "\n",
       "The newline character is just a single character! (Even though we represent it to Python using a combination of two characters.)"
      ],
      "text/plain": [
       "Correct: \n",
       "\n",
       "The newline character is just a single character! (Even though we represent it to Python using a combination of two characters.)"
      ]
     },
     "metadata": {},
     "output_type": "display_data"
    }
   ],
   "source": [
    "e = '\\n'\n",
    "length =1\n",
    "q0.e.check()"
   ]
  },
  {
   "cell_type": "markdown",
   "id": "f1fc5c82",
   "metadata": {
    "papermill": {
     "duration": 0.028026,
     "end_time": "2021-08-26T05:13:00.739906",
     "exception": false,
     "start_time": "2021-08-26T05:13:00.711880",
     "status": "completed"
    },
    "tags": []
   },
   "source": [
    "# 1.\n",
    "\n",
    "There is a saying that \"Data scientists spend 80% of their time cleaning data, and 20% of their time complaining about cleaning data.\" Let's see if you can write a function to help clean US zip code data. Given a string, it should return whether or not that string represents a valid zip code. For our purposes, a valid zip code is any string consisting of exactly 5 digits.\n",
    "\n",
    "HINT: `str` has a method that will be useful here. Use `help(str)` to review a list of string methods."
   ]
  },
  {
   "cell_type": "code",
   "execution_count": 7,
   "id": "d883884e",
   "metadata": {
    "execution": {
     "iopub.execute_input": "2021-08-26T05:13:00.796806Z",
     "iopub.status.busy": "2021-08-26T05:13:00.796061Z",
     "iopub.status.idle": "2021-08-26T05:13:00.802591Z",
     "shell.execute_reply": "2021-08-26T05:13:00.801907Z",
     "shell.execute_reply.started": "2021-08-26T05:12:18.732069Z"
    },
    "papermill": {
     "duration": 0.03532,
     "end_time": "2021-08-26T05:13:00.802748",
     "exception": false,
     "start_time": "2021-08-26T05:13:00.767428",
     "status": "completed"
    },
    "tags": []
   },
   "outputs": [
    {
     "data": {
      "application/javascript": [
       "parent.postMessage({\"jupyterEvent\": \"custom.exercise_interaction\", \"data\": {\"outcomeType\": 1, \"valueTowardsCompletion\": 0.3333333333333333, \"interactionType\": 1, \"questionType\": 2, \"questionId\": \"1_ZipValidator\", \"learnToolsVersion\": \"0.3.4\", \"failureMessage\": \"\", \"exceptionClass\": \"\", \"trace\": \"\"}}, \"*\")"
      ],
      "text/plain": [
       "<IPython.core.display.Javascript object>"
      ]
     },
     "metadata": {},
     "output_type": "display_data"
    },
    {
     "data": {
      "text/markdown": [
       "<span style=\"color:#33cc33\">Correct</span>"
      ],
      "text/plain": [
       "Correct"
      ]
     },
     "metadata": {},
     "output_type": "display_data"
    }
   ],
   "source": [
    "def is_valid_zip(zip_code):\n",
    "    \"\"\"Returns whether the input string is a valid (5 digit) zip code\n",
    "    \"\"\"\n",
    "    if zip_code.isdigit() and len(str(zip_code))==5:return True\n",
    "    else:return False\n",
    "    pass\n",
    "\n",
    "# Check your answer\n",
    "q1.check()"
   ]
  },
  {
   "cell_type": "code",
   "execution_count": 8,
   "id": "a3a23215",
   "metadata": {
    "execution": {
     "iopub.execute_input": "2021-08-26T05:13:00.853711Z",
     "iopub.status.busy": "2021-08-26T05:13:00.853035Z",
     "iopub.status.idle": "2021-08-26T05:13:00.856331Z",
     "shell.execute_reply": "2021-08-26T05:13:00.855795Z",
     "shell.execute_reply.started": "2021-08-26T05:12:18.745624Z"
    },
    "papermill": {
     "duration": 0.030879,
     "end_time": "2021-08-26T05:13:00.856490",
     "exception": false,
     "start_time": "2021-08-26T05:13:00.825611",
     "status": "completed"
    },
    "tags": []
   },
   "outputs": [],
   "source": [
    "#q1.hint()\n",
    "#q1.solution()"
   ]
  },
  {
   "cell_type": "markdown",
   "id": "2359ce28",
   "metadata": {
    "papermill": {
     "duration": 0.022389,
     "end_time": "2021-08-26T05:13:00.901607",
     "exception": false,
     "start_time": "2021-08-26T05:13:00.879218",
     "status": "completed"
    },
    "tags": []
   },
   "source": [
    "# 2.\n",
    "\n",
    "A researcher has gathered thousands of news articles. But she wants to focus her attention on articles including a specific word. Complete the function below to help her filter her list of articles.\n",
    "\n",
    "Your function should meet the following criteria:\n",
    "\n",
    "- Do not include documents where the keyword string shows up only as a part of a larger word. For example, if she were looking for the keyword “closed”, you would not include the string “enclosed.” \n",
    "- She does not want you to distinguish upper case from lower case letters. So the phrase “Closed the case.” would be included when the keyword is “closed”\n",
    "- Do not let periods or commas affect what is matched. “It is closed.” would be included when the keyword is “closed”. But you can assume there are no other types of punctuation."
   ]
  },
  {
   "cell_type": "code",
   "execution_count": 9,
   "id": "e176a50e",
   "metadata": {
    "execution": {
     "iopub.execute_input": "2021-08-26T05:13:00.950218Z",
     "iopub.status.busy": "2021-08-26T05:13:00.949543Z",
     "iopub.status.idle": "2021-08-26T05:13:00.958927Z",
     "shell.execute_reply": "2021-08-26T05:13:00.959421Z",
     "shell.execute_reply.started": "2021-08-26T05:12:18.749955Z"
    },
    "papermill": {
     "duration": 0.035197,
     "end_time": "2021-08-26T05:13:00.959624",
     "exception": false,
     "start_time": "2021-08-26T05:13:00.924427",
     "status": "completed"
    },
    "tags": []
   },
   "outputs": [
    {
     "data": {
      "application/javascript": [
       "parent.postMessage({\"jupyterEvent\": \"custom.exercise_interaction\", \"data\": {\"outcomeType\": 1, \"valueTowardsCompletion\": 0.3333333333333333, \"interactionType\": 1, \"questionType\": 2, \"questionId\": \"2_WordSearch\", \"learnToolsVersion\": \"0.3.4\", \"failureMessage\": \"\", \"exceptionClass\": \"\", \"trace\": \"\"}}, \"*\")"
      ],
      "text/plain": [
       "<IPython.core.display.Javascript object>"
      ]
     },
     "metadata": {},
     "output_type": "display_data"
    },
    {
     "data": {
      "text/markdown": [
       "<span style=\"color:#33cc33\">Correct</span>"
      ],
      "text/plain": [
       "Correct"
      ]
     },
     "metadata": {},
     "output_type": "display_data"
    }
   ],
   "source": [
    "def word_search(doc_list, keyword):\n",
    "    \"\"\"\n",
    "    Takes a list of documents (each document is a string) and a keyword. \n",
    "    Returns list of the index values into the original list for all documents \n",
    "    containing the keyword.\n",
    "\n",
    "    Example:\n",
    "    doc_list = [\"The Learn Python Challenge Casino.\", \"They bought a car\", \"Casinoville\"]\n",
    "    >>> word_search(doc_list, 'casino')\n",
    "    >>> [0]\n",
    "    \"\"\"\n",
    "    new_list=[]\n",
    "    for key,value in enumerate(doc_list):\n",
    "        strings=value.split()\n",
    "        normalize=[string.rstrip('.,').lower() for string in strings]\n",
    "        if keyword.lower() in normalize:\n",
    "            new_list.append(key)\n",
    "    return new_list        \n",
    "# Check your answer\n",
    "q2.check()"
   ]
  },
  {
   "cell_type": "code",
   "execution_count": 10,
   "id": "d8491cb0",
   "metadata": {
    "execution": {
     "iopub.execute_input": "2021-08-26T05:13:01.013038Z",
     "iopub.status.busy": "2021-08-26T05:13:01.012145Z",
     "iopub.status.idle": "2021-08-26T05:13:01.015492Z",
     "shell.execute_reply": "2021-08-26T05:13:01.016009Z",
     "shell.execute_reply.started": "2021-08-26T05:12:18.764522Z"
    },
    "papermill": {
     "duration": 0.03211,
     "end_time": "2021-08-26T05:13:01.016180",
     "exception": false,
     "start_time": "2021-08-26T05:13:00.984070",
     "status": "completed"
    },
    "tags": []
   },
   "outputs": [],
   "source": [
    "#q2.hint()\n",
    "#q2.solution()"
   ]
  },
  {
   "cell_type": "markdown",
   "id": "fb4db6b1",
   "metadata": {
    "papermill": {
     "duration": 0.023155,
     "end_time": "2021-08-26T05:13:01.062620",
     "exception": false,
     "start_time": "2021-08-26T05:13:01.039465",
     "status": "completed"
    },
    "tags": []
   },
   "source": [
    "# 3.\n",
    "\n",
    "Now the researcher wants to supply multiple keywords to search for. Complete the function below to help her.\n",
    "\n",
    "(You're encouraged to use the `word_search` function you just wrote when implementing this function. Reusing code in this way makes your programs more robust and readable - and it saves typing!)"
   ]
  },
  {
   "cell_type": "code",
   "execution_count": 11,
   "id": "e08402b4",
   "metadata": {
    "execution": {
     "iopub.execute_input": "2021-08-26T05:13:01.112822Z",
     "iopub.status.busy": "2021-08-26T05:13:01.111881Z",
     "iopub.status.idle": "2021-08-26T05:13:01.121628Z",
     "shell.execute_reply": "2021-08-26T05:13:01.120987Z",
     "shell.execute_reply.started": "2021-08-26T05:12:18.788882Z"
    },
    "papermill": {
     "duration": 0.035893,
     "end_time": "2021-08-26T05:13:01.121766",
     "exception": false,
     "start_time": "2021-08-26T05:13:01.085873",
     "status": "completed"
    },
    "tags": []
   },
   "outputs": [
    {
     "data": {
      "application/javascript": [
       "parent.postMessage({\"jupyterEvent\": \"custom.exercise_interaction\", \"data\": {\"outcomeType\": 1, \"valueTowardsCompletion\": 0.3333333333333333, \"interactionType\": 1, \"questionType\": 2, \"questionId\": \"3_MultiWordSearch\", \"learnToolsVersion\": \"0.3.4\", \"failureMessage\": \"\", \"exceptionClass\": \"\", \"trace\": \"\"}}, \"*\")"
      ],
      "text/plain": [
       "<IPython.core.display.Javascript object>"
      ]
     },
     "metadata": {},
     "output_type": "display_data"
    },
    {
     "data": {
      "text/markdown": [
       "<span style=\"color:#33cc33\">Correct</span>"
      ],
      "text/plain": [
       "Correct"
      ]
     },
     "metadata": {},
     "output_type": "display_data"
    }
   ],
   "source": [
    "def multi_word_search(doc_list, keywords):\n",
    "    \"\"\"\n",
    "    Takes list of documents (each document is a string) and a list of keywords.  \n",
    "    Returns a dictionary where each key is a keyword, and the value is a list of indices\n",
    "    (from doc_list) of the documents containing that keyword\n",
    "\n",
    "    >>> doc_list = [\"The Learn Python Challenge Casino.\", \"They bought a car and a casino\", \"Casinoville\"]\n",
    "    >>> keywords = ['casino', 'they']\n",
    "    >>> multi_word_search(doc_list, keywords)\n",
    "    {'casino': [0, 1], 'they': [1]}\n",
    "    \"\"\"\n",
    "    keyword_to_indices={}\n",
    "    for keyword in keywords:\n",
    "        keyword_to_indices[keyword]=word_search(doc_list,keyword)\n",
    "    return keyword_to_indices    \n",
    "    pass\n",
    "\n",
    "# Check your answer\n",
    "q3.check()"
   ]
  },
  {
   "cell_type": "code",
   "execution_count": 12,
   "id": "20cdd01a",
   "metadata": {
    "execution": {
     "iopub.execute_input": "2021-08-26T05:13:01.175772Z",
     "iopub.status.busy": "2021-08-26T05:13:01.174670Z",
     "iopub.status.idle": "2021-08-26T05:13:01.177763Z",
     "shell.execute_reply": "2021-08-26T05:13:01.177250Z",
     "shell.execute_reply.started": "2021-08-26T05:12:18.800238Z"
    },
    "papermill": {
     "duration": 0.031737,
     "end_time": "2021-08-26T05:13:01.177911",
     "exception": false,
     "start_time": "2021-08-26T05:13:01.146174",
     "status": "completed"
    },
    "tags": []
   },
   "outputs": [],
   "source": [
    "#q3.solution()"
   ]
  },
  {
   "cell_type": "markdown",
   "id": "28c0366c",
   "metadata": {
    "papermill": {
     "duration": 0.024135,
     "end_time": "2021-08-26T05:13:01.226382",
     "exception": false,
     "start_time": "2021-08-26T05:13:01.202247",
     "status": "completed"
    },
    "tags": []
   },
   "source": [
    "# Keep Going\n",
    "\n",
    "You've learned a lot. But even the best programmers rely heavily on \"libraries\" of code from other programmers. You'll learn about that in **[the last lesson](https://www.kaggle.com/colinmorris/working-with-external-libraries)**.\n"
   ]
  },
  {
   "cell_type": "markdown",
   "id": "eaddd0d5",
   "metadata": {
    "papermill": {
     "duration": 0.023954,
     "end_time": "2021-08-26T05:13:01.274805",
     "exception": false,
     "start_time": "2021-08-26T05:13:01.250851",
     "status": "completed"
    },
    "tags": []
   },
   "source": [
    "---\n",
    "\n",
    "\n",
    "\n",
    "\n",
    "*Have questions or comments? Visit the [Learn Discussion forum](https://www.kaggle.com/learn-forum/161283) to chat with other Learners.*"
   ]
  }
 ],
 "metadata": {
  "kernelspec": {
   "display_name": "Python 3",
   "language": "python",
   "name": "python3"
  },
  "language_info": {
   "codemirror_mode": {
    "name": "ipython",
    "version": 3
   },
   "file_extension": ".py",
   "mimetype": "text/x-python",
   "name": "python",
   "nbconvert_exporter": "python",
   "pygments_lexer": "ipython3",
   "version": "3.7.10"
  },
  "papermill": {
   "default_parameters": {},
   "duration": 10.824897,
   "end_time": "2021-08-26T05:13:02.706230",
   "environment_variables": {},
   "exception": null,
   "input_path": "__notebook__.ipynb",
   "output_path": "__notebook__.ipynb",
   "parameters": {},
   "start_time": "2021-08-26T05:12:51.881333",
   "version": "2.3.3"
  }
 },
 "nbformat": 4,
 "nbformat_minor": 5
}
