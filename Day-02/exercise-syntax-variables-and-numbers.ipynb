{
 "cells": [
  {
   "cell_type": "markdown",
   "id": "66d4b94b",
   "metadata": {
    "papermill": {
     "duration": 0.022549,
     "end_time": "2021-08-25T17:26:54.801310",
     "exception": false,
     "start_time": "2021-08-25T17:26:54.778761",
     "status": "completed"
    },
    "tags": []
   },
   "source": [
    "**This notebook is an exercise in the [Python](https://www.kaggle.com/learn/python) course.  You can reference the tutorial at [this link](https://www.kaggle.com/colinmorris/hello-python).**\n",
    "\n",
    "---\n"
   ]
  },
  {
   "cell_type": "markdown",
   "id": "90d8ef62",
   "metadata": {
    "papermill": {
     "duration": 0.021027,
     "end_time": "2021-08-25T17:26:54.844433",
     "exception": false,
     "start_time": "2021-08-25T17:26:54.823406",
     "status": "completed"
    },
    "tags": []
   },
   "source": [
    "Welcome to your first set of Python coding problems.  If this is your first time using Kaggle Notebooks, welcome! \n",
    "\n",
    "Notebooks are composed of blocks (called \"cells\") of text and code. Each of these is editable, though you'll mainly be editing the code cells to answer some questions.\n",
    "\n",
    "To get started, try running the code cell below (by pressing the ► button, or clicking on the cell and pressing ctrl+enter on your keyboard)."
   ]
  },
  {
   "cell_type": "code",
   "execution_count": 1,
   "id": "4884c138",
   "metadata": {
    "execution": {
     "iopub.execute_input": "2021-08-25T17:26:54.901192Z",
     "iopub.status.busy": "2021-08-25T17:26:54.900151Z",
     "iopub.status.idle": "2021-08-25T17:26:54.904809Z",
     "shell.execute_reply": "2021-08-25T17:26:54.904059Z",
     "shell.execute_reply.started": "2021-08-25T17:26:23.025925Z"
    },
    "papermill": {
     "duration": 0.039436,
     "end_time": "2021-08-25T17:26:54.904973",
     "exception": false,
     "start_time": "2021-08-25T17:26:54.865537",
     "status": "completed"
    },
    "tags": []
   },
   "outputs": [
    {
     "name": "stdout",
     "output_type": "stream",
     "text": [
      "You've successfully run some Python code\n",
      "Congratulations!\n"
     ]
    }
   ],
   "source": [
    "print(\"You've successfully run some Python code\")\n",
    "print(\"Congratulations!\")"
   ]
  },
  {
   "cell_type": "markdown",
   "id": "08dd46e8",
   "metadata": {
    "papermill": {
     "duration": 0.021013,
     "end_time": "2021-08-25T17:26:54.947448",
     "exception": false,
     "start_time": "2021-08-25T17:26:54.926435",
     "status": "completed"
    },
    "tags": []
   },
   "source": [
    "Try adding another line of code in the cell above and re-running it. \n",
    "\n",
    "Now let's get a little fancier:  Add a new code cell by clicking on an existing code cell, hitting the escape key, and then hitting the `a` or `b` key.  The `a` key will add a cell above the current cell, and `b` adds a cell below.\n",
    "\n",
    "Great! Now you know how to use Notebooks.\n",
    "\n",
    "Each hands-on exercise starts by setting up our feedback and code checking mechanism. Run the code cell below to do that. Then you'll be ready to move on to question 0."
   ]
  },
  {
   "cell_type": "code",
   "execution_count": 2,
   "id": "c8edda11",
   "metadata": {
    "_kg_hide-input": true,
    "_kg_hide-output": true,
    "execution": {
     "iopub.execute_input": "2021-08-25T17:26:54.993234Z",
     "iopub.status.busy": "2021-08-25T17:26:54.992467Z",
     "iopub.status.idle": "2021-08-25T17:26:55.121067Z",
     "shell.execute_reply": "2021-08-25T17:26:55.120407Z",
     "shell.execute_reply.started": "2021-08-25T17:26:23.040056Z"
    },
    "papermill": {
     "duration": 0.152527,
     "end_time": "2021-08-25T17:26:55.121223",
     "exception": false,
     "start_time": "2021-08-25T17:26:54.968696",
     "status": "completed"
    },
    "tags": []
   },
   "outputs": [
    {
     "name": "stdout",
     "output_type": "stream",
     "text": [
      "Setup complete! You're ready to start question 0.\n"
     ]
    }
   ],
   "source": [
    "from learntools.core import binder; binder.bind(globals())\n",
    "from learntools.python.ex1 import *\n",
    "print(\"Setup complete! You're ready to start question 0.\")"
   ]
  },
  {
   "cell_type": "markdown",
   "id": "fbb0a388",
   "metadata": {
    "papermill": {
     "duration": 0.022202,
     "end_time": "2021-08-25T17:26:55.165953",
     "exception": false,
     "start_time": "2021-08-25T17:26:55.143751",
     "status": "completed"
    },
    "tags": []
   },
   "source": [
    "# 0.\n",
    "\n",
    "*This is a silly question intended as an introduction to the format we use for hands-on exercises throughout all Kaggle courses.*\n",
    "\n",
    "**What is your favorite color? **\n",
    "\n",
    "To complete this question, create a variable called `color` in the cell below with an appropriate value. The function call `q0.check()` (which we've already provided in the cell below) will check your answer."
   ]
  },
  {
   "cell_type": "code",
   "execution_count": 3,
   "id": "9aba21e6",
   "metadata": {
    "execution": {
     "iopub.execute_input": "2021-08-25T17:26:55.214075Z",
     "iopub.status.busy": "2021-08-25T17:26:55.213094Z",
     "iopub.status.idle": "2021-08-25T17:26:55.223260Z",
     "shell.execute_reply": "2021-08-25T17:26:55.223713Z",
     "shell.execute_reply.started": "2021-08-25T17:26:23.154977Z"
    },
    "papermill": {
     "duration": 0.035363,
     "end_time": "2021-08-25T17:26:55.223892",
     "exception": false,
     "start_time": "2021-08-25T17:26:55.188529",
     "status": "completed"
    },
    "tags": []
   },
   "outputs": [
    {
     "data": {
      "application/javascript": [
       "parent.postMessage({\"jupyterEvent\": \"custom.exercise_interaction\", \"data\": {\"outcomeType\": 1, \"valueTowardsCompletion\": 0.25, \"interactionType\": 1, \"questionType\": 2, \"questionId\": \"0_ExerciseFormatTutorial\", \"learnToolsVersion\": \"0.3.4\", \"failureMessage\": \"\", \"exceptionClass\": \"\", \"trace\": \"\"}}, \"*\")"
      ],
      "text/plain": [
       "<IPython.core.display.Javascript object>"
      ]
     },
     "metadata": {},
     "output_type": "display_data"
    },
    {
     "data": {
      "text/markdown": [
       "<span style=\"color:#33cc33\">Correct:</span> What?! You got it right without needing a hint or anything? Drats. Well hey, you should still continue to the next step to get some practice asking for a hint and checking solutions. (Even though you obviously don't need any help here.)"
      ],
      "text/plain": [
       "Correct: What?! You got it right without needing a hint or anything? Drats. Well hey, you should still continue to the next step to get some practice asking for a hint and checking solutions. (Even though you obviously don't need any help here.)"
      ]
     },
     "metadata": {},
     "output_type": "display_data"
    }
   ],
   "source": [
    "# create a variable called color with an appropriate value on the line below\n",
    "# (Remember, strings in Python must be enclosed in 'single' or \"double\" quotes)\n",
    "color='blue'\n",
    "\n",
    "# Check your answer\n",
    "q0.check()"
   ]
  },
  {
   "cell_type": "markdown",
   "id": "b8f90154",
   "metadata": {
    "papermill": {
     "duration": 0.022781,
     "end_time": "2021-08-25T17:26:55.269923",
     "exception": false,
     "start_time": "2021-08-25T17:26:55.247142",
     "status": "completed"
    },
    "tags": []
   },
   "source": [
    "Didn't get the right answer? How do you not even know your own favorite color?!\n",
    "\n",
    "Delete the `#` in the line below to make one of the lines run. You can choose between getting a hint or the full answer by choosing which line to remove the `#` from. \n",
    "\n",
    "Removing the `#` is called uncommenting, because it changes that line from a \"comment\" which Python doesn't run to code, which Python does run."
   ]
  },
  {
   "cell_type": "code",
   "execution_count": 4,
   "id": "09ef3b3a",
   "metadata": {
    "execution": {
     "iopub.execute_input": "2021-08-25T17:26:55.319143Z",
     "iopub.status.busy": "2021-08-25T17:26:55.318336Z",
     "iopub.status.idle": "2021-08-25T17:26:55.322069Z",
     "shell.execute_reply": "2021-08-25T17:26:55.321589Z",
     "shell.execute_reply.started": "2021-08-25T17:26:23.168487Z"
    },
    "papermill": {
     "duration": 0.029472,
     "end_time": "2021-08-25T17:26:55.322208",
     "exception": false,
     "start_time": "2021-08-25T17:26:55.292736",
     "status": "completed"
    },
    "tags": []
   },
   "outputs": [],
   "source": [
    "#q0.hint()\n",
    "#q0.solution()"
   ]
  },
  {
   "cell_type": "markdown",
   "id": "e3eca3f8",
   "metadata": {
    "papermill": {
     "duration": 0.022632,
     "end_time": "2021-08-25T17:26:55.368036",
     "exception": false,
     "start_time": "2021-08-25T17:26:55.345404",
     "status": "completed"
    },
    "tags": []
   },
   "source": [
    "The upcoming questions work the same way. The only thing that will change are the question numbers. For the next question, you'll call `q1.check()`, `q1.hint()`, `q1.solution()`, for question 2, you'll call `q2.check()`, and so on."
   ]
  },
  {
   "cell_type": "markdown",
   "id": "6bd3459a",
   "metadata": {
    "papermill": {
     "duration": 0.023548,
     "end_time": "2021-08-25T17:26:55.414361",
     "exception": false,
     "start_time": "2021-08-25T17:26:55.390813",
     "status": "completed"
    },
    "tags": []
   },
   "source": [
    "<hr/>\n",
    "\n",
    "# 1.\n",
    "\n",
    "Complete the code below. In case it's helpful, here is the table of available arithmetic operations:\n",
    "\n",
    "\n",
    "\n",
    "| Operator     | Name           | Description                                            |\n",
    "|--------------|----------------|--------------------------------------------------------|\n",
    "| ``a + b``    | Addition       | Sum of ``a`` and ``b``                                 |\n",
    "| ``a - b``    | Subtraction    | Difference of ``a`` and ``b``                          |\n",
    "| ``a * b``    | Multiplication | Product of ``a`` and ``b``                             |\n",
    "| ``a / b``    | True division  | Quotient of ``a`` and ``b``                            |\n",
    "| ``a // b``   | Floor division | Quotient of ``a`` and ``b``, removing fractional parts |\n",
    "| ``a % b``    | Modulus        | Integer remainder after division of ``a`` by ``b``     |\n",
    "| ``a ** b``   | Exponentiation | ``a`` raised to the power of ``b``                     |\n",
    "| ``-a``       | Negation       | The negative of ``a``                                  |\n",
    "\n",
    "<span style=\"display:none\"></span>\n"
   ]
  },
  {
   "cell_type": "code",
   "execution_count": 5,
   "id": "3429b78a",
   "metadata": {
    "execution": {
     "iopub.execute_input": "2021-08-25T17:26:55.467447Z",
     "iopub.status.busy": "2021-08-25T17:26:55.466444Z",
     "iopub.status.idle": "2021-08-25T17:26:55.472077Z",
     "shell.execute_reply": "2021-08-25T17:26:55.472575Z",
     "shell.execute_reply.started": "2021-08-25T17:26:23.179447Z"
    },
    "papermill": {
     "duration": 0.035505,
     "end_time": "2021-08-25T17:26:55.472744",
     "exception": false,
     "start_time": "2021-08-25T17:26:55.437239",
     "status": "completed"
    },
    "tags": []
   },
   "outputs": [
    {
     "data": {
      "application/javascript": [
       "parent.postMessage({\"jupyterEvent\": \"custom.exercise_interaction\", \"data\": {\"outcomeType\": 1, \"valueTowardsCompletion\": 0.25, \"interactionType\": 1, \"questionType\": 1, \"questionId\": \"1_CircleArea\", \"learnToolsVersion\": \"0.3.4\", \"failureMessage\": \"\", \"exceptionClass\": \"\", \"trace\": \"\"}}, \"*\")"
      ],
      "text/plain": [
       "<IPython.core.display.Javascript object>"
      ]
     },
     "metadata": {},
     "output_type": "display_data"
    },
    {
     "data": {
      "text/markdown": [
       "<span style=\"color:#33cc33\">Correct</span>"
      ],
      "text/plain": [
       "Correct"
      ]
     },
     "metadata": {},
     "output_type": "display_data"
    }
   ],
   "source": [
    "pi = 3.14159 # approximate\n",
    "diameter = 3\n",
    "\n",
    "# Create a variable called 'radius' equal to half the diameter\n",
    "radius=diameter/2\n",
    "\n",
    "# Create a variable called 'area', using the formula for the area of a circle: pi times the radius squared\n",
    "area=pi*radius**2\n",
    "\n",
    "# Check your answer\n",
    "q1.check()"
   ]
  },
  {
   "cell_type": "code",
   "execution_count": 6,
   "id": "d2e2fbec",
   "metadata": {
    "execution": {
     "iopub.execute_input": "2021-08-25T17:26:55.523181Z",
     "iopub.status.busy": "2021-08-25T17:26:55.522535Z",
     "iopub.status.idle": "2021-08-25T17:26:55.525480Z",
     "shell.execute_reply": "2021-08-25T17:26:55.524857Z",
     "shell.execute_reply.started": "2021-08-25T17:26:23.200600Z"
    },
    "papermill": {
     "duration": 0.029903,
     "end_time": "2021-08-25T17:26:55.525619",
     "exception": false,
     "start_time": "2021-08-25T17:26:55.495716",
     "status": "completed"
    },
    "tags": []
   },
   "outputs": [],
   "source": [
    "# Uncomment and run the lines below if you need help.\n",
    "#q1.hint()\n",
    "#q1.solution()"
   ]
  },
  {
   "cell_type": "markdown",
   "id": "b7fbfcfa",
   "metadata": {
    "papermill": {
     "duration": 0.022826,
     "end_time": "2021-08-25T17:26:55.571902",
     "exception": false,
     "start_time": "2021-08-25T17:26:55.549076",
     "status": "completed"
    },
    "tags": []
   },
   "source": [
    "<hr/>\n",
    "\n",
    "# 2.\n",
    "\n",
    "Add code to the following cell to swap variables `a` and `b` (so that `a` refers to the object previously referred to by `b` and vice versa)."
   ]
  },
  {
   "cell_type": "code",
   "execution_count": 7,
   "id": "25e864bf",
   "metadata": {
    "execution": {
     "iopub.execute_input": "2021-08-25T17:26:55.625742Z",
     "iopub.status.busy": "2021-08-25T17:26:55.625066Z",
     "iopub.status.idle": "2021-08-25T17:26:55.630860Z",
     "shell.execute_reply": "2021-08-25T17:26:55.631323Z",
     "shell.execute_reply.started": "2021-08-25T17:26:23.208854Z"
    },
    "papermill": {
     "duration": 0.036182,
     "end_time": "2021-08-25T17:26:55.631496",
     "exception": false,
     "start_time": "2021-08-25T17:26:55.595314",
     "status": "completed"
    },
    "tags": []
   },
   "outputs": [
    {
     "data": {
      "application/javascript": [
       "parent.postMessage({\"jupyterEvent\": \"custom.exercise_interaction\", \"data\": {\"outcomeType\": 1, \"valueTowardsCompletion\": 0.25, \"interactionType\": 1, \"questionType\": 2, \"questionId\": \"2_VariableSwap\", \"learnToolsVersion\": \"0.3.4\", \"failureMessage\": \"\", \"exceptionClass\": \"\", \"trace\": \"\"}}, \"*\")"
      ],
      "text/plain": [
       "<IPython.core.display.Javascript object>"
      ]
     },
     "metadata": {},
     "output_type": "display_data"
    },
    {
     "data": {
      "text/markdown": [
       "<span style=\"color:#33cc33\">Correct:</span> \n",
       "\n",
       "The most straightforward solution is to use a third variable to temporarily store one of the old values. e.g.:\n",
       "\n",
       "    tmp = a\n",
       "    a = b\n",
       "    b = tmp\n",
       "\n",
       "If you've read lots of Python code, you might have seen the following trick to swap two variables in one line:\n",
       "\n",
       "    a, b = b, a\n",
       "\n",
       "We'll demystify this bit of Python magic later when we talk about *tuples*."
      ],
      "text/plain": [
       "Correct: \n",
       "\n",
       "The most straightforward solution is to use a third variable to temporarily store one of the old values. e.g.:\n",
       "\n",
       "    tmp = a\n",
       "    a = b\n",
       "    b = tmp\n",
       "\n",
       "If you've read lots of Python code, you might have seen the following trick to swap two variables in one line:\n",
       "\n",
       "    a, b = b, a\n",
       "\n",
       "We'll demystify this bit of Python magic later when we talk about *tuples*."
      ]
     },
     "metadata": {},
     "output_type": "display_data"
    }
   ],
   "source": [
    "########### Setup code - don't touch this part ######################\n",
    "# If you're curious, these are examples of lists. We'll talk about \n",
    "# them in depth a few lessons from now. For now, just know that they're\n",
    "# yet another type of Python object, like int or float.\n",
    "a = [1, 2, 3]\n",
    "b = [3, 2, 1]\n",
    "q2.store_original_ids()\n",
    "######################################################################\n",
    "\n",
    "# Your code goes here. Swap the values to which a and b refer.\n",
    "# If you get stuck, you can always uncomment one or both of the lines in\n",
    "# the next cell for a hint, or to peek at the solution.\n",
    "temp=a\n",
    "a=b\n",
    "b=temp\n",
    "######################################################################\n",
    "\n",
    "# Check your answer\n",
    "q2.check()"
   ]
  },
  {
   "cell_type": "code",
   "execution_count": 8,
   "id": "84ab59bb",
   "metadata": {
    "execution": {
     "iopub.execute_input": "2021-08-25T17:26:55.686319Z",
     "iopub.status.busy": "2021-08-25T17:26:55.685648Z",
     "iopub.status.idle": "2021-08-25T17:26:55.688605Z",
     "shell.execute_reply": "2021-08-25T17:26:55.688083Z",
     "shell.execute_reply.started": "2021-08-25T17:26:23.229842Z"
    },
    "papermill": {
     "duration": 0.032284,
     "end_time": "2021-08-25T17:26:55.688744",
     "exception": false,
     "start_time": "2021-08-25T17:26:55.656460",
     "status": "completed"
    },
    "tags": []
   },
   "outputs": [],
   "source": [
    "#q2.hint()"
   ]
  },
  {
   "cell_type": "code",
   "execution_count": 9,
   "id": "1dbde924",
   "metadata": {
    "execution": {
     "iopub.execute_input": "2021-08-25T17:26:55.743655Z",
     "iopub.status.busy": "2021-08-25T17:26:55.742830Z",
     "iopub.status.idle": "2021-08-25T17:26:55.745582Z",
     "shell.execute_reply": "2021-08-25T17:26:55.744946Z",
     "shell.execute_reply.started": "2021-08-25T17:26:23.244960Z"
    },
    "papermill": {
     "duration": 0.03083,
     "end_time": "2021-08-25T17:26:55.745727",
     "exception": false,
     "start_time": "2021-08-25T17:26:55.714897",
     "status": "completed"
    },
    "tags": []
   },
   "outputs": [],
   "source": [
    "#q2.solution()"
   ]
  },
  {
   "cell_type": "markdown",
   "id": "01ff3e36",
   "metadata": {
    "papermill": {
     "duration": 0.025197,
     "end_time": "2021-08-25T17:26:55.796567",
     "exception": false,
     "start_time": "2021-08-25T17:26:55.771370",
     "status": "completed"
    },
    "tags": []
   },
   "source": [
    "<hr/>\n",
    "\n",
    "# 3a.\n",
    "\n",
    "Add parentheses to the following expression so that it evaluates to 1."
   ]
  },
  {
   "cell_type": "code",
   "execution_count": 10,
   "id": "dd5f7762",
   "metadata": {
    "execution": {
     "iopub.execute_input": "2021-08-25T17:26:55.852395Z",
     "iopub.status.busy": "2021-08-25T17:26:55.851545Z",
     "iopub.status.idle": "2021-08-25T17:26:55.855765Z",
     "shell.execute_reply": "2021-08-25T17:26:55.855162Z",
     "shell.execute_reply.started": "2021-08-25T17:26:23.257445Z"
    },
    "papermill": {
     "duration": 0.034175,
     "end_time": "2021-08-25T17:26:55.855903",
     "exception": false,
     "start_time": "2021-08-25T17:26:55.821728",
     "status": "completed"
    },
    "tags": []
   },
   "outputs": [
    {
     "data": {
      "text/plain": [
       "4"
      ]
     },
     "execution_count": 10,
     "metadata": {},
     "output_type": "execute_result"
    }
   ],
   "source": [
    "5 - 3 // 2"
   ]
  },
  {
   "cell_type": "code",
   "execution_count": 11,
   "id": "8c5731e2",
   "metadata": {
    "execution": {
     "iopub.execute_input": "2021-08-25T17:26:55.910557Z",
     "iopub.status.busy": "2021-08-25T17:26:55.909815Z",
     "iopub.status.idle": "2021-08-25T17:26:55.912862Z",
     "shell.execute_reply": "2021-08-25T17:26:55.913368Z",
     "shell.execute_reply.started": "2021-08-25T17:26:23.273291Z"
    },
    "papermill": {
     "duration": 0.032018,
     "end_time": "2021-08-25T17:26:55.913535",
     "exception": false,
     "start_time": "2021-08-25T17:26:55.881517",
     "status": "completed"
    },
    "tags": []
   },
   "outputs": [],
   "source": [
    "#q3.a.hint()"
   ]
  },
  {
   "cell_type": "code",
   "execution_count": 12,
   "id": "689883a6",
   "metadata": {
    "execution": {
     "iopub.execute_input": "2021-08-25T17:26:55.967708Z",
     "iopub.status.busy": "2021-08-25T17:26:55.966956Z",
     "iopub.status.idle": "2021-08-25T17:26:55.973743Z",
     "shell.execute_reply": "2021-08-25T17:26:55.974254Z",
     "shell.execute_reply.started": "2021-08-25T17:26:23.289033Z"
    },
    "papermill": {
     "duration": 0.035446,
     "end_time": "2021-08-25T17:26:55.974493",
     "exception": false,
     "start_time": "2021-08-25T17:26:55.939047",
     "status": "completed"
    },
    "tags": []
   },
   "outputs": [
    {
     "data": {
      "application/javascript": [
       "parent.postMessage({\"jupyterEvent\": \"custom.exercise_interaction\", \"data\": {\"interactionType\": 3, \"questionType\": 4, \"questionId\": \"3.1_ArithmeticParensEasy\", \"learnToolsVersion\": \"0.3.4\", \"valueTowardsCompletion\": 0.0, \"failureMessage\": \"\", \"exceptionClass\": \"\", \"trace\": \"\", \"outcomeType\": 4}}, \"*\")"
      ],
      "text/plain": [
       "<IPython.core.display.Javascript object>"
      ]
     },
     "metadata": {},
     "output_type": "display_data"
    },
    {
     "data": {
      "text/markdown": [
       "<span style=\"color:#33cc99\">Solution:</span> \n",
       "```python\n",
       "(5 - 3) // 2\n",
       "```"
      ],
      "text/plain": [
       "Solution: \n",
       "```python\n",
       "(5 - 3) // 2\n",
       "```"
      ]
     },
     "metadata": {},
     "output_type": "display_data"
    }
   ],
   "source": [
    "# Check your answer (Run this code cell to receive credit!)\n",
    "q3.a.solution()"
   ]
  },
  {
   "cell_type": "markdown",
   "id": "d2e0d65d",
   "metadata": {
    "papermill": {
     "duration": 0.026414,
     "end_time": "2021-08-25T17:26:56.027415",
     "exception": false,
     "start_time": "2021-08-25T17:26:56.001001",
     "status": "completed"
    },
    "tags": []
   },
   "source": [
    "# 3b.  <span title=\"A bit spicy\" style=\"color: darkgreen \">🌶️</span>\n",
    "\n",
    "<small>Questions, like this one, marked a spicy pepper are a bit harder.</small>\n",
    "\n",
    "Add parentheses to the following expression so that it evaluates to 0."
   ]
  },
  {
   "cell_type": "code",
   "execution_count": 13,
   "id": "0575b44a",
   "metadata": {
    "execution": {
     "iopub.execute_input": "2021-08-25T17:26:56.091565Z",
     "iopub.status.busy": "2021-08-25T17:26:56.088787Z",
     "iopub.status.idle": "2021-08-25T17:26:56.096995Z",
     "shell.execute_reply": "2021-08-25T17:26:56.097821Z",
     "shell.execute_reply.started": "2021-08-25T17:26:23.306501Z"
    },
    "papermill": {
     "duration": 0.043369,
     "end_time": "2021-08-25T17:26:56.098071",
     "exception": false,
     "start_time": "2021-08-25T17:26:56.054702",
     "status": "completed"
    },
    "tags": []
   },
   "outputs": [
    {
     "data": {
      "text/plain": [
       "2"
      ]
     },
     "execution_count": 13,
     "metadata": {},
     "output_type": "execute_result"
    }
   ],
   "source": [
    "8 - 3 * 2 - 1 + 1"
   ]
  },
  {
   "cell_type": "code",
   "execution_count": 14,
   "id": "bcc191a9",
   "metadata": {
    "execution": {
     "iopub.execute_input": "2021-08-25T17:26:56.168459Z",
     "iopub.status.busy": "2021-08-25T17:26:56.167708Z",
     "iopub.status.idle": "2021-08-25T17:26:56.171009Z",
     "shell.execute_reply": "2021-08-25T17:26:56.170496Z",
     "shell.execute_reply.started": "2021-08-25T17:26:23.320052Z"
    },
    "papermill": {
     "duration": 0.039967,
     "end_time": "2021-08-25T17:26:56.171151",
     "exception": false,
     "start_time": "2021-08-25T17:26:56.131184",
     "status": "completed"
    },
    "tags": []
   },
   "outputs": [],
   "source": [
    "#q3.b.hint()"
   ]
  },
  {
   "cell_type": "code",
   "execution_count": 15,
   "id": "949f0086",
   "metadata": {
    "execution": {
     "iopub.execute_input": "2021-08-25T17:26:56.231954Z",
     "iopub.status.busy": "2021-08-25T17:26:56.231232Z",
     "iopub.status.idle": "2021-08-25T17:26:56.236914Z",
     "shell.execute_reply": "2021-08-25T17:26:56.237526Z",
     "shell.execute_reply.started": "2021-08-25T17:26:23.333826Z"
    },
    "papermill": {
     "duration": 0.038967,
     "end_time": "2021-08-25T17:26:56.237698",
     "exception": false,
     "start_time": "2021-08-25T17:26:56.198731",
     "status": "completed"
    },
    "tags": []
   },
   "outputs": [
    {
     "data": {
      "application/javascript": [
       "parent.postMessage({\"jupyterEvent\": \"custom.exercise_interaction\", \"data\": {\"interactionType\": 3, \"questionType\": 4, \"questionId\": \"3.2_ArithmeticParensHard\", \"learnToolsVersion\": \"0.3.4\", \"valueTowardsCompletion\": 0.0, \"failureMessage\": \"\", \"exceptionClass\": \"\", \"trace\": \"\", \"outcomeType\": 4}}, \"*\")"
      ],
      "text/plain": [
       "<IPython.core.display.Javascript object>"
      ]
     },
     "metadata": {},
     "output_type": "display_data"
    },
    {
     "data": {
      "text/markdown": [
       "<span style=\"color:#33cc99\">Solution:</span> `(8 - 3) * (2 - (1 + 1))` is one solution. There may be others."
      ],
      "text/plain": [
       "Solution: `(8 - 3) * (2 - (1 + 1))` is one solution. There may be others."
      ]
     },
     "metadata": {},
     "output_type": "display_data"
    }
   ],
   "source": [
    "# Check your answer (Run this code cell to receive credit!)\n",
    "q3.b.solution()"
   ]
  },
  {
   "cell_type": "markdown",
   "id": "c8297ae6",
   "metadata": {
    "papermill": {
     "duration": 0.027896,
     "end_time": "2021-08-25T17:26:56.293480",
     "exception": false,
     "start_time": "2021-08-25T17:26:56.265584",
     "status": "completed"
    },
    "tags": []
   },
   "source": [
    "<hr/>\n",
    "\n",
    "# 4. \n",
    "Alice, Bob and Carol have agreed to pool their Halloween candy and split it evenly among themselves.\n",
    "For the sake of their friendship, any candies left over will be smashed. For example, if they collectively\n",
    "bring home 91 candies, they'll take 30 each and smash 1.\n",
    "\n",
    "Write an arithmetic expression below to calculate how many candies they must smash for a given haul."
   ]
  },
  {
   "cell_type": "code",
   "execution_count": 16,
   "id": "735d1d60",
   "metadata": {
    "execution": {
     "iopub.execute_input": "2021-08-25T17:26:56.353379Z",
     "iopub.status.busy": "2021-08-25T17:26:56.352224Z",
     "iopub.status.idle": "2021-08-25T17:26:56.362826Z",
     "shell.execute_reply": "2021-08-25T17:26:56.362127Z",
     "shell.execute_reply.started": "2021-08-25T17:26:23.351801Z"
    },
    "papermill": {
     "duration": 0.041482,
     "end_time": "2021-08-25T17:26:56.362974",
     "exception": false,
     "start_time": "2021-08-25T17:26:56.321492",
     "status": "completed"
    },
    "tags": []
   },
   "outputs": [
    {
     "data": {
      "application/javascript": [
       "parent.postMessage({\"jupyterEvent\": \"custom.exercise_interaction\", \"data\": {\"outcomeType\": 1, \"valueTowardsCompletion\": 0.25, \"interactionType\": 1, \"questionType\": 1, \"questionId\": \"4_CandySplitting\", \"learnToolsVersion\": \"0.3.4\", \"failureMessage\": \"\", \"exceptionClass\": \"\", \"trace\": \"\"}}, \"*\")"
      ],
      "text/plain": [
       "<IPython.core.display.Javascript object>"
      ]
     },
     "metadata": {},
     "output_type": "display_data"
    },
    {
     "data": {
      "text/markdown": [
       "<span style=\"color:#33cc33\">Correct</span>"
      ],
      "text/plain": [
       "Correct"
      ]
     },
     "metadata": {},
     "output_type": "display_data"
    }
   ],
   "source": [
    "# Variables representing the number of candies collected by alice, bob, and carol\n",
    "alice_candies = 121\n",
    "bob_candies = 77\n",
    "carol_candies = 109\n",
    "\n",
    "# Your code goes here! Replace the right-hand side of this assignment with an expression\n",
    "# involving alice_candies, bob_candies, and carol_candies\n",
    "to_smash = (121+77+109)%3\n",
    "\n",
    "# Check your answer\n",
    "q4.check()"
   ]
  },
  {
   "cell_type": "code",
   "execution_count": 17,
   "id": "c14f8ab3",
   "metadata": {
    "execution": {
     "iopub.execute_input": "2021-08-25T17:26:56.426207Z",
     "iopub.status.busy": "2021-08-25T17:26:56.425416Z",
     "iopub.status.idle": "2021-08-25T17:26:56.428807Z",
     "shell.execute_reply": "2021-08-25T17:26:56.428004Z",
     "shell.execute_reply.started": "2021-08-25T17:26:23.368964Z"
    },
    "papermill": {
     "duration": 0.03627,
     "end_time": "2021-08-25T17:26:56.428955",
     "exception": false,
     "start_time": "2021-08-25T17:26:56.392685",
     "status": "completed"
    },
    "tags": []
   },
   "outputs": [],
   "source": [
    "#q4.hint()\n",
    "#q4.solution()"
   ]
  },
  {
   "cell_type": "markdown",
   "id": "9c064766",
   "metadata": {
    "papermill": {
     "duration": 0.028762,
     "end_time": "2021-08-25T17:26:56.486776",
     "exception": false,
     "start_time": "2021-08-25T17:26:56.458014",
     "status": "completed"
    },
    "tags": []
   },
   "source": [
    "# Keep Going\n",
    "\n",
    "Next up, you'll **[learn to write new functions and understand functions others write](https://www.kaggle.com/colinmorris/functions-and-getting-help)**. This will make you at least 10 times more productive as a Python programmer. "
   ]
  },
  {
   "cell_type": "markdown",
   "id": "0df38780",
   "metadata": {
    "papermill": {
     "duration": 0.02857,
     "end_time": "2021-08-25T17:26:56.544909",
     "exception": false,
     "start_time": "2021-08-25T17:26:56.516339",
     "status": "completed"
    },
    "tags": []
   },
   "source": [
    "---\n",
    "\n",
    "\n",
    "\n",
    "\n",
    "*Have questions or comments? Visit the [Learn Discussion forum](https://www.kaggle.com/learn-forum/161283) to chat with other Learners.*"
   ]
  }
 ],
 "metadata": {
  "kernelspec": {
   "display_name": "Python 3",
   "language": "python",
   "name": "python3"
  },
  "language_info": {
   "codemirror_mode": {
    "name": "ipython",
    "version": 3
   },
   "file_extension": ".py",
   "mimetype": "text/x-python",
   "name": "python",
   "nbconvert_exporter": "python",
   "pygments_lexer": "ipython3",
   "version": "3.7.10"
  },
  "papermill": {
   "default_parameters": {},
   "duration": 10.373953,
   "end_time": "2021-08-25T17:26:57.284069",
   "environment_variables": {},
   "exception": null,
   "input_path": "__notebook__.ipynb",
   "output_path": "__notebook__.ipynb",
   "parameters": {},
   "start_time": "2021-08-25T17:26:46.910116",
   "version": "2.3.3"
  }
 },
 "nbformat": 4,
 "nbformat_minor": 5
}
