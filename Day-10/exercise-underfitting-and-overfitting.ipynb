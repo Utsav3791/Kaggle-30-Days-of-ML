{
 "cells": [
  {
   "cell_type": "markdown",
   "id": "e2db44c2",
   "metadata": {
    "papermill": {
     "duration": 0.010255,
     "end_time": "2021-08-28T07:33:46.989230",
     "exception": false,
     "start_time": "2021-08-28T07:33:46.978975",
     "status": "completed"
    },
    "tags": []
   },
   "source": [
    "**This notebook is an exercise in the [Introduction to Machine Learning](https://www.kaggle.com/learn/intro-to-machine-learning) course.  You can reference the tutorial at [this link](https://www.kaggle.com/dansbecker/underfitting-and-overfitting).**\n",
    "\n",
    "---\n"
   ]
  },
  {
   "cell_type": "markdown",
   "id": "6b152cc8",
   "metadata": {
    "papermill": {
     "duration": 0.010154,
     "end_time": "2021-08-28T07:33:47.009079",
     "exception": false,
     "start_time": "2021-08-28T07:33:46.998925",
     "status": "completed"
    },
    "tags": []
   },
   "source": [
    "## Recap\n",
    "You've built your first model, and now it's time to optimize the size of the tree to make better predictions. Run this cell to set up your coding environment where the previous step left off."
   ]
  },
  {
   "cell_type": "code",
   "execution_count": 1,
   "id": "0dae3be1",
   "metadata": {
    "execution": {
     "iopub.execute_input": "2021-08-28T07:33:47.033032Z",
     "iopub.status.busy": "2021-08-28T07:33:47.031839Z",
     "iopub.status.idle": "2021-08-28T07:33:48.358282Z",
     "shell.execute_reply": "2021-08-28T07:33:48.358795Z",
     "shell.execute_reply.started": "2021-08-28T07:33:11.778217Z"
    },
    "papermill": {
     "duration": 1.340404,
     "end_time": "2021-08-28T07:33:48.359105",
     "exception": false,
     "start_time": "2021-08-28T07:33:47.018701",
     "status": "completed"
    },
    "tags": []
   },
   "outputs": [
    {
     "name": "stdout",
     "output_type": "stream",
     "text": [
      "Validation MAE: 29,653\n",
      "\n",
      "Setup complete\n"
     ]
    }
   ],
   "source": [
    "# Code you have previously used to load data\n",
    "import pandas as pd\n",
    "from sklearn.metrics import mean_absolute_error\n",
    "from sklearn.model_selection import train_test_split\n",
    "from sklearn.tree import DecisionTreeRegressor\n",
    "\n",
    "\n",
    "# Path of the file to read\n",
    "iowa_file_path = '../input/home-data-for-ml-course/train.csv'\n",
    "\n",
    "home_data = pd.read_csv(iowa_file_path)\n",
    "# Create target object and call it y\n",
    "y = home_data.SalePrice\n",
    "# Create X\n",
    "features = ['LotArea', 'YearBuilt', '1stFlrSF', '2ndFlrSF', 'FullBath', 'BedroomAbvGr', 'TotRmsAbvGrd']\n",
    "X = home_data[features]\n",
    "\n",
    "# Split into validation and training data\n",
    "train_X, val_X, train_y, val_y = train_test_split(X, y, random_state=1)\n",
    "\n",
    "# Specify Model\n",
    "iowa_model = DecisionTreeRegressor(random_state=1)\n",
    "# Fit Model\n",
    "iowa_model.fit(train_X, train_y)\n",
    "\n",
    "# Make validation predictions and calculate mean absolute error\n",
    "val_predictions = iowa_model.predict(val_X)\n",
    "val_mae = mean_absolute_error(val_predictions, val_y)\n",
    "print(\"Validation MAE: {:,.0f}\".format(val_mae))\n",
    "\n",
    "# Set up code checking\n",
    "from learntools.core import binder\n",
    "binder.bind(globals())\n",
    "from learntools.machine_learning.ex5 import *\n",
    "print(\"\\nSetup complete\")"
   ]
  },
  {
   "cell_type": "markdown",
   "id": "a90e887f",
   "metadata": {
    "papermill": {
     "duration": 0.009742,
     "end_time": "2021-08-28T07:33:48.380177",
     "exception": false,
     "start_time": "2021-08-28T07:33:48.370435",
     "status": "completed"
    },
    "tags": []
   },
   "source": [
    "# Exercises\n",
    "You could write the function `get_mae` yourself. For now, we'll supply it. This is the same function you read about in the previous lesson. Just run the cell below."
   ]
  },
  {
   "cell_type": "code",
   "execution_count": 2,
   "id": "1bc956df",
   "metadata": {
    "execution": {
     "iopub.execute_input": "2021-08-28T07:33:48.406280Z",
     "iopub.status.busy": "2021-08-28T07:33:48.405443Z",
     "iopub.status.idle": "2021-08-28T07:33:48.408621Z",
     "shell.execute_reply": "2021-08-28T07:33:48.407940Z",
     "shell.execute_reply.started": "2021-08-28T07:33:13.034002Z"
    },
    "papermill": {
     "duration": 0.018654,
     "end_time": "2021-08-28T07:33:48.408759",
     "exception": false,
     "start_time": "2021-08-28T07:33:48.390105",
     "status": "completed"
    },
    "tags": []
   },
   "outputs": [],
   "source": [
    "def get_mae(max_leaf_nodes, train_X, val_X, train_y, val_y):\n",
    "    model = DecisionTreeRegressor(max_leaf_nodes=max_leaf_nodes, random_state=0)\n",
    "    model.fit(train_X, train_y)\n",
    "    preds_val = model.predict(val_X)\n",
    "    mae = mean_absolute_error(val_y, preds_val)\n",
    "    return(mae)"
   ]
  },
  {
   "cell_type": "markdown",
   "id": "1658f473",
   "metadata": {
    "papermill": {
     "duration": 0.009569,
     "end_time": "2021-08-28T07:33:48.428341",
     "exception": false,
     "start_time": "2021-08-28T07:33:48.418772",
     "status": "completed"
    },
    "tags": []
   },
   "source": [
    "## Step 1: Compare Different Tree Sizes\n",
    "Write a loop that tries the following values for *max_leaf_nodes* from a set of possible values.\n",
    "\n",
    "Call the *get_mae* function on each value of max_leaf_nodes. Store the output in some way that allows you to select the value of `max_leaf_nodes` that gives the most accurate model on your data."
   ]
  },
  {
   "cell_type": "code",
   "execution_count": 3,
   "id": "189d0f64",
   "metadata": {
    "execution": {
     "iopub.execute_input": "2021-08-28T07:33:48.457916Z",
     "iopub.status.busy": "2021-08-28T07:33:48.457155Z",
     "iopub.status.idle": "2021-08-28T07:33:48.508022Z",
     "shell.execute_reply": "2021-08-28T07:33:48.507349Z",
     "shell.execute_reply.started": "2021-08-28T07:33:13.047321Z"
    },
    "papermill": {
     "duration": 0.069956,
     "end_time": "2021-08-28T07:33:48.508159",
     "exception": false,
     "start_time": "2021-08-28T07:33:48.438203",
     "status": "completed"
    },
    "tags": []
   },
   "outputs": [
    {
     "data": {
      "application/javascript": [
       "parent.postMessage({\"jupyterEvent\": \"custom.exercise_interaction\", \"data\": {\"outcomeType\": 1, \"valueTowardsCompletion\": 0.5, \"interactionType\": 1, \"questionType\": 1, \"questionId\": \"1_BestTreeSize\", \"learnToolsVersion\": \"0.3.4\", \"failureMessage\": \"\", \"exceptionClass\": \"\", \"trace\": \"\"}}, \"*\")"
      ],
      "text/plain": [
       "<IPython.core.display.Javascript object>"
      ]
     },
     "metadata": {},
     "output_type": "display_data"
    },
    {
     "data": {
      "text/markdown": [
       "<span style=\"color:#33cc33\">Correct</span>"
      ],
      "text/plain": [
       "Correct"
      ]
     },
     "metadata": {},
     "output_type": "display_data"
    }
   ],
   "source": [
    "candidate_max_leaf_nodes = [5, 25, 50, 100, 250, 500]\n",
    "# Write loop to find the ideal tree size from candidate_max_leaf_nodes\n",
    "scores = {leaf_size: get_mae(leaf_size, train_X, val_X, train_y, val_y) for leaf_size in candidate_max_leaf_nodes}\n",
    "\n",
    "# Store the best value of max_leaf_nodes (it will be either 5, 25, 50, 100, 250 or 500)\n",
    "best_tree_size = min(scores, key=scores.get)\n",
    "\n",
    "# Check your answer\n",
    "step_1.check()"
   ]
  },
  {
   "cell_type": "code",
   "execution_count": 4,
   "id": "6f6f33e1",
   "metadata": {
    "execution": {
     "iopub.execute_input": "2021-08-28T07:33:48.534966Z",
     "iopub.status.busy": "2021-08-28T07:33:48.534287Z",
     "iopub.status.idle": "2021-08-28T07:33:48.537925Z",
     "shell.execute_reply": "2021-08-28T07:33:48.536990Z",
     "shell.execute_reply.started": "2021-08-28T07:33:13.103579Z"
    },
    "papermill": {
     "duration": 0.018596,
     "end_time": "2021-08-28T07:33:48.538076",
     "exception": false,
     "start_time": "2021-08-28T07:33:48.519480",
     "status": "completed"
    },
    "tags": []
   },
   "outputs": [],
   "source": [
    "# The lines below will show you a hint or the solution.\n",
    "# step_1.hint() \n",
    "# step_1.solution()"
   ]
  },
  {
   "cell_type": "markdown",
   "id": "684c05f1",
   "metadata": {
    "papermill": {
     "duration": 0.010846,
     "end_time": "2021-08-28T07:33:48.560008",
     "exception": false,
     "start_time": "2021-08-28T07:33:48.549162",
     "status": "completed"
    },
    "tags": []
   },
   "source": [
    "## Step 2: Fit Model Using All Data\n",
    "You know the best tree size. If you were going to deploy this model in practice, you would make it even more accurate by using all of the data and keeping that tree size.  That is, you don't need to hold out the validation data now that you've made all your modeling decisions."
   ]
  },
  {
   "cell_type": "code",
   "execution_count": 5,
   "id": "fd6928a5",
   "metadata": {
    "execution": {
     "iopub.execute_input": "2021-08-28T07:33:48.589730Z",
     "iopub.status.busy": "2021-08-28T07:33:48.589002Z",
     "iopub.status.idle": "2021-08-28T07:33:48.601665Z",
     "shell.execute_reply": "2021-08-28T07:33:48.602193Z",
     "shell.execute_reply.started": "2021-08-28T07:33:13.108081Z"
    },
    "papermill": {
     "duration": 0.031487,
     "end_time": "2021-08-28T07:33:48.602365",
     "exception": false,
     "start_time": "2021-08-28T07:33:48.570878",
     "status": "completed"
    },
    "tags": []
   },
   "outputs": [
    {
     "data": {
      "application/javascript": [
       "parent.postMessage({\"jupyterEvent\": \"custom.exercise_interaction\", \"data\": {\"outcomeType\": 1, \"valueTowardsCompletion\": 0.5, \"interactionType\": 1, \"questionType\": 2, \"questionId\": \"2_FitModelWithAllData\", \"learnToolsVersion\": \"0.3.4\", \"failureMessage\": \"\", \"exceptionClass\": \"\", \"trace\": \"\"}}, \"*\")"
      ],
      "text/plain": [
       "<IPython.core.display.Javascript object>"
      ]
     },
     "metadata": {},
     "output_type": "display_data"
    },
    {
     "data": {
      "text/markdown": [
       "<span style=\"color:#33cc33\">Correct</span>"
      ],
      "text/plain": [
       "Correct"
      ]
     },
     "metadata": {},
     "output_type": "display_data"
    }
   ],
   "source": [
    "# Fill in argument to make optimal size and uncomment\n",
    "final_model = DecisionTreeRegressor(max_leaf_nodes=best_tree_size)\n",
    "\n",
    "# fit the final model and uncomment the next two lines\n",
    "final_model.fit(X, y)\n",
    "\n",
    "# Check your answer\n",
    "step_2.check()"
   ]
  },
  {
   "cell_type": "code",
   "execution_count": 6,
   "id": "ae3b4619",
   "metadata": {
    "execution": {
     "iopub.execute_input": "2021-08-28T07:33:48.629908Z",
     "iopub.status.busy": "2021-08-28T07:33:48.629244Z",
     "iopub.status.idle": "2021-08-28T07:33:48.632351Z",
     "shell.execute_reply": "2021-08-28T07:33:48.632865Z",
     "shell.execute_reply.started": "2021-08-28T07:33:13.134364Z"
    },
    "papermill": {
     "duration": 0.018366,
     "end_time": "2021-08-28T07:33:48.633082",
     "exception": false,
     "start_time": "2021-08-28T07:33:48.614716",
     "status": "completed"
    },
    "tags": []
   },
   "outputs": [],
   "source": [
    "# step_2.hint()\n",
    "# step_2.solution()"
   ]
  },
  {
   "cell_type": "markdown",
   "id": "6d2a30d7",
   "metadata": {
    "papermill": {
     "duration": 0.011457,
     "end_time": "2021-08-28T07:33:48.656504",
     "exception": false,
     "start_time": "2021-08-28T07:33:48.645047",
     "status": "completed"
    },
    "tags": []
   },
   "source": [
    "You've tuned this model and improved your results. But we are still using Decision Tree models, which are not very sophisticated by modern machine learning standards. In the next step you will learn to use Random Forests to improve your models even more.\n",
    "\n",
    "# Keep Going\n",
    "\n",
    "You are ready for **[Random Forests](https://www.kaggle.com/dansbecker/random-forests).**\n"
   ]
  },
  {
   "cell_type": "markdown",
   "id": "2b12dcfe",
   "metadata": {
    "papermill": {
     "duration": 0.011478,
     "end_time": "2021-08-28T07:33:48.679911",
     "exception": false,
     "start_time": "2021-08-28T07:33:48.668433",
     "status": "completed"
    },
    "tags": []
   },
   "source": [
    "---\n",
    "\n",
    "\n",
    "\n",
    "\n",
    "*Have questions or comments? Visit the [Learn Discussion forum](https://www.kaggle.com/learn-forum/161285) to chat with other Learners.*"
   ]
  }
 ],
 "metadata": {
  "kernelspec": {
   "display_name": "Python 3",
   "language": "python",
   "name": "python3"
  },
  "language_info": {
   "codemirror_mode": {
    "name": "ipython",
    "version": 3
   },
   "file_extension": ".py",
   "mimetype": "text/x-python",
   "name": "python",
   "nbconvert_exporter": "python",
   "pygments_lexer": "ipython3",
   "version": "3.7.10"
  },
  "papermill": {
   "default_parameters": {},
   "duration": 11.867257,
   "end_time": "2021-08-28T07:33:50.290629",
   "environment_variables": {},
   "exception": null,
   "input_path": "__notebook__.ipynb",
   "output_path": "__notebook__.ipynb",
   "parameters": {},
   "start_time": "2021-08-28T07:33:38.423372",
   "version": "2.3.3"
  }
 },
 "nbformat": 4,
 "nbformat_minor": 5
}
