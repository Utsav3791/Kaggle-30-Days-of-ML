{
 "cells": [
  {
   "cell_type": "markdown",
   "id": "e6a12aac",
   "metadata": {
    "papermill": {
     "duration": 0.017193,
     "end_time": "2021-08-26T05:10:37.503887",
     "exception": false,
     "start_time": "2021-08-26T05:10:37.486694",
     "status": "completed"
    },
    "tags": []
   },
   "source": [
    "**This notebook is an exercise in the [Python](https://www.kaggle.com/learn/python) course.  You can reference the tutorial at [this link](https://www.kaggle.com/colinmorris/loops-and-list-comprehensions).**\n",
    "\n",
    "---\n"
   ]
  },
  {
   "cell_type": "markdown",
   "id": "b1740a0a",
   "metadata": {
    "papermill": {
     "duration": 0.015874,
     "end_time": "2021-08-26T05:10:37.536467",
     "exception": false,
     "start_time": "2021-08-26T05:10:37.520593",
     "status": "completed"
    },
    "tags": []
   },
   "source": [
    "With all you've learned, you can start writing much more interesting programs. See if you can solve the problems below.\n",
    "\n",
    "As always, run the setup code below before working on the questions."
   ]
  },
  {
   "cell_type": "code",
   "execution_count": 1,
   "id": "97134a20",
   "metadata": {
    "execution": {
     "iopub.execute_input": "2021-08-26T05:10:37.581510Z",
     "iopub.status.busy": "2021-08-26T05:10:37.580824Z",
     "iopub.status.idle": "2021-08-26T05:10:37.625341Z",
     "shell.execute_reply": "2021-08-26T05:10:37.624089Z",
     "shell.execute_reply.started": "2021-08-26T05:10:02.661058Z"
    },
    "papermill": {
     "duration": 0.073025,
     "end_time": "2021-08-26T05:10:37.625650",
     "exception": false,
     "start_time": "2021-08-26T05:10:37.552625",
     "status": "completed"
    },
    "tags": []
   },
   "outputs": [
    {
     "name": "stdout",
     "output_type": "stream",
     "text": [
      "Setup complete.\n"
     ]
    }
   ],
   "source": [
    "from learntools.core import binder; binder.bind(globals())\n",
    "from learntools.python.ex5 import *\n",
    "print('Setup complete.')"
   ]
  },
  {
   "cell_type": "markdown",
   "id": "f353392c",
   "metadata": {
    "papermill": {
     "duration": 0.016439,
     "end_time": "2021-08-26T05:10:37.659976",
     "exception": false,
     "start_time": "2021-08-26T05:10:37.643537",
     "status": "completed"
    },
    "tags": []
   },
   "source": [
    "# 1.\n",
    "\n",
    "Have you ever felt debugging involved a bit of luck? The following program has a bug. Try to identify the bug and fix it."
   ]
  },
  {
   "cell_type": "code",
   "execution_count": 2,
   "id": "5dbd0879",
   "metadata": {
    "execution": {
     "iopub.execute_input": "2021-08-26T05:10:37.788348Z",
     "iopub.status.busy": "2021-08-26T05:10:37.785937Z",
     "iopub.status.idle": "2021-08-26T05:10:37.791536Z",
     "shell.execute_reply": "2021-08-26T05:10:37.790887Z",
     "shell.execute_reply.started": "2021-08-26T05:10:02.820985Z"
    },
    "papermill": {
     "duration": 0.114975,
     "end_time": "2021-08-26T05:10:37.791673",
     "exception": false,
     "start_time": "2021-08-26T05:10:37.676698",
     "status": "completed"
    },
    "tags": []
   },
   "outputs": [],
   "source": [
    "def has_lucky_number(nums):\n",
    "    \"\"\"Return whether the given list of numbers is lucky. A lucky list contains\n",
    "    at least one number divisible by 7.\n",
    "    \"\"\"\n",
    "    for num in nums:\n",
    "        if num % 7 == 0:\n",
    "            break\n",
    "    else:\n",
    "        return False\n",
    "    \n",
    "    return True"
   ]
  },
  {
   "cell_type": "markdown",
   "id": "40c047fd",
   "metadata": {
    "papermill": {
     "duration": 0.016551,
     "end_time": "2021-08-26T05:10:37.824932",
     "exception": false,
     "start_time": "2021-08-26T05:10:37.808381",
     "status": "completed"
    },
    "tags": []
   },
   "source": [
    "Try to identify the bug and fix it in the cell below:"
   ]
  },
  {
   "cell_type": "code",
   "execution_count": 3,
   "id": "ec785baf",
   "metadata": {
    "execution": {
     "iopub.execute_input": "2021-08-26T05:10:37.867468Z",
     "iopub.status.busy": "2021-08-26T05:10:37.866716Z",
     "iopub.status.idle": "2021-08-26T05:10:37.873436Z",
     "shell.execute_reply": "2021-08-26T05:10:37.872794Z",
     "shell.execute_reply.started": "2021-08-26T05:10:02.829433Z"
    },
    "papermill": {
     "duration": 0.031919,
     "end_time": "2021-08-26T05:10:37.873575",
     "exception": false,
     "start_time": "2021-08-26T05:10:37.841656",
     "status": "completed"
    },
    "tags": []
   },
   "outputs": [
    {
     "data": {
      "application/javascript": [
       "parent.postMessage({\"jupyterEvent\": \"custom.exercise_interaction\", \"data\": {\"outcomeType\": 1, \"valueTowardsCompletion\": 0.25, \"interactionType\": 1, \"questionType\": 2, \"questionId\": \"1_EarlyExitDebugging\", \"learnToolsVersion\": \"0.3.4\", \"failureMessage\": \"\", \"exceptionClass\": \"\", \"trace\": \"\"}}, \"*\")"
      ],
      "text/plain": [
       "<IPython.core.display.Javascript object>"
      ]
     },
     "metadata": {},
     "output_type": "display_data"
    },
    {
     "data": {
      "text/markdown": [
       "<span style=\"color:#33cc33\">Correct:</span> \n",
       "\n",
       "Remember that `return` causes a function to exit immediately. So our original implementation always ran for just one iteration. We can only return `False` if we've looked at every element of the list (and confirmed that none of them are lucky). Though we can return early if the answer is `True`:\n",
       "\n",
       "```python\n",
       "def has_lucky_number(nums):\n",
       "    for num in nums:\n",
       "        if num % 7 == 0:\n",
       "            return True\n",
       "    # We've exhausted the list without finding a lucky number\n",
       "    return False\n",
       "```\n",
       "\n",
       "Here's a one-line version using a list comprehension with Python's `any` function (you can read about what it does by calling `help(any)`):\n",
       "\n",
       "```python\n",
       "def has_lucky_number(nums):\n",
       "    return any([num % 7 == 0 for num in nums])\n",
       "```\n"
      ],
      "text/plain": [
       "Correct: \n",
       "\n",
       "Remember that `return` causes a function to exit immediately. So our original implementation always ran for just one iteration. We can only return `False` if we've looked at every element of the list (and confirmed that none of them are lucky). Though we can return early if the answer is `True`:\n",
       "\n",
       "```python\n",
       "def has_lucky_number(nums):\n",
       "    for num in nums:\n",
       "        if num % 7 == 0:\n",
       "            return True\n",
       "    # We've exhausted the list without finding a lucky number\n",
       "    return False\n",
       "```\n",
       "\n",
       "Here's a one-line version using a list comprehension with Python's `any` function (you can read about what it does by calling `help(any)`):\n",
       "\n",
       "```python\n",
       "def has_lucky_number(nums):\n",
       "    return any([num % 7 == 0 for num in nums])\n",
       "```"
      ]
     },
     "metadata": {},
     "output_type": "display_data"
    }
   ],
   "source": [
    "def has_lucky_number(nums):\n",
    "    \"\"\"Return whether the given list of numbers is lucky. A lucky list contains\n",
    "    at least one number divisible by 7.\n",
    "    \"\"\"\n",
    "    \n",
    "    for num in nums:\n",
    "        if num % 7 == 0:\n",
    "            break\n",
    "    else:\n",
    "        return False\n",
    "    \n",
    "    return True\n",
    "\n",
    "# Check your answer\n",
    "q1.check()"
   ]
  },
  {
   "cell_type": "code",
   "execution_count": 4,
   "id": "c9cb041b",
   "metadata": {
    "execution": {
     "iopub.execute_input": "2021-08-26T05:10:37.914090Z",
     "iopub.status.busy": "2021-08-26T05:10:37.913410Z",
     "iopub.status.idle": "2021-08-26T05:10:37.915447Z",
     "shell.execute_reply": "2021-08-26T05:10:37.915976Z",
     "shell.execute_reply.started": "2021-08-26T05:10:02.850148Z"
    },
    "papermill": {
     "duration": 0.024042,
     "end_time": "2021-08-26T05:10:37.916154",
     "exception": false,
     "start_time": "2021-08-26T05:10:37.892112",
     "status": "completed"
    },
    "tags": []
   },
   "outputs": [],
   "source": [
    "#q1.hint()\n",
    "#q1.solution()"
   ]
  },
  {
   "cell_type": "markdown",
   "id": "8fbd3fde",
   "metadata": {
    "papermill": {
     "duration": 0.017384,
     "end_time": "2021-08-26T05:10:37.951786",
     "exception": false,
     "start_time": "2021-08-26T05:10:37.934402",
     "status": "completed"
    },
    "tags": []
   },
   "source": [
    "# 2.\n",
    "Look at the Python expression below. What do you think we'll get when we run it? When you've made your prediction, uncomment the code and run the cell to see if you were right."
   ]
  },
  {
   "cell_type": "code",
   "execution_count": 5,
   "id": "da25859e",
   "metadata": {
    "execution": {
     "iopub.execute_input": "2021-08-26T05:10:37.990752Z",
     "iopub.status.busy": "2021-08-26T05:10:37.990017Z",
     "iopub.status.idle": "2021-08-26T05:10:37.994548Z",
     "shell.execute_reply": "2021-08-26T05:10:37.995076Z",
     "shell.execute_reply.started": "2021-08-26T05:10:02.860258Z"
    },
    "papermill": {
     "duration": 0.025661,
     "end_time": "2021-08-26T05:10:37.995251",
     "exception": false,
     "start_time": "2021-08-26T05:10:37.969590",
     "status": "completed"
    },
    "tags": []
   },
   "outputs": [],
   "source": [
    "#[1, 2, 3, 4] > 2"
   ]
  },
  {
   "cell_type": "markdown",
   "id": "d0359ed4",
   "metadata": {
    "papermill": {
     "duration": 0.017239,
     "end_time": "2021-08-26T05:10:38.031174",
     "exception": false,
     "start_time": "2021-08-26T05:10:38.013935",
     "status": "completed"
    },
    "tags": []
   },
   "source": [
    "R and Python have some libraries (like numpy and pandas) compare each element of the list to 2 (i.e. do an 'element-wise' comparison) and give us a list of booleans like `[False, False, True, True]`. \n",
    "\n",
    "Implement a function that reproduces this behaviour, returning a list of booleans corresponding to whether the corresponding element is greater than n."
   ]
  },
  {
   "cell_type": "code",
   "execution_count": 6,
   "id": "94d75705",
   "metadata": {
    "execution": {
     "iopub.execute_input": "2021-08-26T05:10:38.073786Z",
     "iopub.status.busy": "2021-08-26T05:10:38.073031Z",
     "iopub.status.idle": "2021-08-26T05:10:38.077533Z",
     "shell.execute_reply": "2021-08-26T05:10:38.078052Z",
     "shell.execute_reply.started": "2021-08-26T05:10:02.872714Z"
    },
    "papermill": {
     "duration": 0.029481,
     "end_time": "2021-08-26T05:10:38.078250",
     "exception": false,
     "start_time": "2021-08-26T05:10:38.048769",
     "status": "completed"
    },
    "tags": []
   },
   "outputs": [
    {
     "data": {
      "application/javascript": [
       "parent.postMessage({\"jupyterEvent\": \"custom.exercise_interaction\", \"data\": {\"outcomeType\": 1, \"valueTowardsCompletion\": 0.25, \"interactionType\": 1, \"questionType\": 2, \"questionId\": \"2_ElementWiseComparison\", \"learnToolsVersion\": \"0.3.4\", \"failureMessage\": \"\", \"exceptionClass\": \"\", \"trace\": \"\"}}, \"*\")"
      ],
      "text/plain": [
       "<IPython.core.display.Javascript object>"
      ]
     },
     "metadata": {},
     "output_type": "display_data"
    },
    {
     "data": {
      "text/markdown": [
       "<span style=\"color:#33cc33\">Correct:</span> \n",
       "\n",
       "Here's one solution:\n",
       "```python\n",
       "def elementwise_greater_than(L, thresh):\n",
       "    res = []\n",
       "    for ele in L:\n",
       "        res.append(ele > thresh)\n",
       "    return res\n",
       "```\n",
       "\n",
       "And here's the list comprehension version:\n",
       "```python\n",
       "def elementwise_greater_than(L, thresh):\n",
       "    return [ele > thresh for ele in L]\n",
       "```\n"
      ],
      "text/plain": [
       "Correct: \n",
       "\n",
       "Here's one solution:\n",
       "```python\n",
       "def elementwise_greater_than(L, thresh):\n",
       "    res = []\n",
       "    for ele in L:\n",
       "        res.append(ele > thresh)\n",
       "    return res\n",
       "```\n",
       "\n",
       "And here's the list comprehension version:\n",
       "```python\n",
       "def elementwise_greater_than(L, thresh):\n",
       "    return [ele > thresh for ele in L]\n",
       "```"
      ]
     },
     "metadata": {},
     "output_type": "display_data"
    }
   ],
   "source": [
    "def elementwise_greater_than(L, thresh):\n",
    "    \"\"\"Return a list with the same length as L, where the value at index i is \n",
    "    True if L[i] is greater than thresh, and False otherwise.\n",
    "    \n",
    "    >>> elementwise_greater_than([1, 2, 3, 4], 2)\n",
    "    [False, False, True, True]\n",
    "    \"\"\"\n",
    "    return [l > thresh for l in L]\n",
    "\n",
    "# Check your answer\n",
    "q2.check()"
   ]
  },
  {
   "cell_type": "code",
   "execution_count": 7,
   "id": "1c1c5458",
   "metadata": {
    "execution": {
     "iopub.execute_input": "2021-08-26T05:10:38.120408Z",
     "iopub.status.busy": "2021-08-26T05:10:38.119649Z",
     "iopub.status.idle": "2021-08-26T05:10:38.123026Z",
     "shell.execute_reply": "2021-08-26T05:10:38.123541Z",
     "shell.execute_reply.started": "2021-08-26T05:10:02.889337Z"
    },
    "papermill": {
     "duration": 0.025852,
     "end_time": "2021-08-26T05:10:38.123723",
     "exception": false,
     "start_time": "2021-08-26T05:10:38.097871",
     "status": "completed"
    },
    "tags": []
   },
   "outputs": [],
   "source": [
    "#q2.solution()"
   ]
  },
  {
   "cell_type": "markdown",
   "id": "e3d5763f",
   "metadata": {
    "papermill": {
     "duration": 0.018778,
     "end_time": "2021-08-26T05:10:38.161879",
     "exception": false,
     "start_time": "2021-08-26T05:10:38.143101",
     "status": "completed"
    },
    "tags": []
   },
   "source": [
    "# 3.\n",
    "\n",
    "Complete the body of the function below according to its docstring."
   ]
  },
  {
   "cell_type": "code",
   "execution_count": 8,
   "id": "872ed54e",
   "metadata": {
    "execution": {
     "iopub.execute_input": "2021-08-26T05:10:38.203504Z",
     "iopub.status.busy": "2021-08-26T05:10:38.202811Z",
     "iopub.status.idle": "2021-08-26T05:10:38.211387Z",
     "shell.execute_reply": "2021-08-26T05:10:38.210730Z",
     "shell.execute_reply.started": "2021-08-26T05:10:02.897229Z"
    },
    "papermill": {
     "duration": 0.030361,
     "end_time": "2021-08-26T05:10:38.211528",
     "exception": false,
     "start_time": "2021-08-26T05:10:38.181167",
     "status": "completed"
    },
    "tags": []
   },
   "outputs": [
    {
     "data": {
      "application/javascript": [
       "parent.postMessage({\"jupyterEvent\": \"custom.exercise_interaction\", \"data\": {\"outcomeType\": 1, \"valueTowardsCompletion\": 0.25, \"interactionType\": 1, \"questionType\": 2, \"questionId\": \"3_BoringMenu\", \"learnToolsVersion\": \"0.3.4\", \"failureMessage\": \"\", \"exceptionClass\": \"\", \"trace\": \"\"}}, \"*\")"
      ],
      "text/plain": [
       "<IPython.core.display.Javascript object>"
      ]
     },
     "metadata": {},
     "output_type": "display_data"
    },
    {
     "data": {
      "text/markdown": [
       "<span style=\"color:#33cc33\">Correct:</span> \n",
       "\n",
       "\n",
       "\n",
       "```python\n",
       "def menu_is_boring(meals):\n",
       "    # Iterate over all indices of the list, except the last one\n",
       "    for i in range(len(meals)-1):\n",
       "        if meals[i] == meals[i+1]:\n",
       "            return True\n",
       "    return False\n",
       "```\n",
       "\n",
       "The key to our solution is the call to `range`. `range(len(meals))` would give us all the indices of `meals`. If we had used that range, the last iteration of the loop would be comparing the last element to the element after it, which is... `IndexError`! `range(len(meals)-1)` gives us all the indices except the index of the last element.\n",
       "\n",
       "But don't we need to check if `meals` is empty? Turns out that `range(0) == range(-1)` - they're both empty. So if `meals` has length 0 or 1, we just won't do any iterations of our for loop.\n"
      ],
      "text/plain": [
       "Correct: \n",
       "\n",
       "\n",
       "\n",
       "```python\n",
       "def menu_is_boring(meals):\n",
       "    # Iterate over all indices of the list, except the last one\n",
       "    for i in range(len(meals)-1):\n",
       "        if meals[i] == meals[i+1]:\n",
       "            return True\n",
       "    return False\n",
       "```\n",
       "\n",
       "The key to our solution is the call to `range`. `range(len(meals))` would give us all the indices of `meals`. If we had used that range, the last iteration of the loop would be comparing the last element to the element after it, which is... `IndexError`! `range(len(meals)-1)` gives us all the indices except the index of the last element.\n",
       "\n",
       "But don't we need to check if `meals` is empty? Turns out that `range(0) == range(-1)` - they're both empty. So if `meals` has length 0 or 1, we just won't do any iterations of our for loop."
      ]
     },
     "metadata": {},
     "output_type": "display_data"
    }
   ],
   "source": [
    "def menu_is_boring(meals):\n",
    "    \"\"\"Given a list of meals served over some period of time, return True if the\n",
    "    same meal has ever been served two days in a row, and False otherwise.\n",
    "    \"\"\"\n",
    "    for i in range(len(meals)-1):\n",
    "        if meals[i] == meals[i+1]:\n",
    "            return True\n",
    "        \n",
    "    return False\n",
    "\n",
    "# Check your answer\n",
    "q3.check()"
   ]
  },
  {
   "cell_type": "code",
   "execution_count": 9,
   "id": "8cce93f5",
   "metadata": {
    "execution": {
     "iopub.execute_input": "2021-08-26T05:10:38.257476Z",
     "iopub.status.busy": "2021-08-26T05:10:38.256388Z",
     "iopub.status.idle": "2021-08-26T05:10:38.259541Z",
     "shell.execute_reply": "2021-08-26T05:10:38.260331Z",
     "shell.execute_reply.started": "2021-08-26T05:10:02.916249Z"
    },
    "papermill": {
     "duration": 0.028952,
     "end_time": "2021-08-26T05:10:38.260585",
     "exception": false,
     "start_time": "2021-08-26T05:10:38.231633",
     "status": "completed"
    },
    "tags": []
   },
   "outputs": [],
   "source": [
    "#q3.hint()\n",
    "#q3.solution()"
   ]
  },
  {
   "cell_type": "markdown",
   "id": "27ae2474",
   "metadata": {
    "papermill": {
     "duration": 0.025869,
     "end_time": "2021-08-26T05:10:38.312097",
     "exception": false,
     "start_time": "2021-08-26T05:10:38.286228",
     "status": "completed"
    },
    "tags": []
   },
   "source": [
    "# 4. <span title=\"A bit spicy\" style=\"color: darkgreen \">🌶️</span>\n",
    "\n",
    "Next to the Blackjack table, the Python Challenge Casino has a slot machine. You can get a result from the slot machine by calling `play_slot_machine()`. The number it returns is your winnings in dollars. Usually it returns 0.  But sometimes you'll get lucky and get a big payday. Try running it below:"
   ]
  },
  {
   "cell_type": "code",
   "execution_count": 10,
   "id": "4c8741f8",
   "metadata": {
    "execution": {
     "iopub.execute_input": "2021-08-26T05:10:38.365873Z",
     "iopub.status.busy": "2021-08-26T05:10:38.364950Z",
     "iopub.status.idle": "2021-08-26T05:10:38.370975Z",
     "shell.execute_reply": "2021-08-26T05:10:38.370450Z",
     "shell.execute_reply.started": "2021-08-26T05:10:02.930566Z"
    },
    "papermill": {
     "duration": 0.03317,
     "end_time": "2021-08-26T05:10:38.371120",
     "exception": false,
     "start_time": "2021-08-26T05:10:38.337950",
     "status": "completed"
    },
    "tags": []
   },
   "outputs": [
    {
     "data": {
      "text/plain": [
       "0"
      ]
     },
     "execution_count": 10,
     "metadata": {},
     "output_type": "execute_result"
    }
   ],
   "source": [
    "play_slot_machine()"
   ]
  },
  {
   "cell_type": "markdown",
   "id": "e33ef3d0",
   "metadata": {
    "papermill": {
     "duration": 0.019897,
     "end_time": "2021-08-26T05:10:38.411800",
     "exception": false,
     "start_time": "2021-08-26T05:10:38.391903",
     "status": "completed"
    },
    "tags": []
   },
   "source": [
    "By the way, did we mention that each play costs $1? Don't worry, we'll send you the bill later.\n",
    "\n",
    "On average, how much money can you expect to gain (or lose) every time you play the machine?  The casino keeps it a secret, but you can estimate the average value of each pull using a technique called the **Monte Carlo method**. To estimate the average outcome, we simulate the scenario many times, and return the average result.\n",
    "\n",
    "Complete the following function to calculate the average value per play of the slot machine."
   ]
  },
  {
   "cell_type": "code",
   "execution_count": 11,
   "id": "57112c7e",
   "metadata": {
    "execution": {
     "iopub.execute_input": "2021-08-26T05:10:38.458778Z",
     "iopub.status.busy": "2021-08-26T05:10:38.457928Z",
     "iopub.status.idle": "2021-08-26T05:10:38.461349Z",
     "shell.execute_reply": "2021-08-26T05:10:38.460654Z",
     "shell.execute_reply.started": "2021-08-26T05:10:02.945558Z"
    },
    "papermill": {
     "duration": 0.028735,
     "end_time": "2021-08-26T05:10:38.461497",
     "exception": false,
     "start_time": "2021-08-26T05:10:38.432762",
     "status": "completed"
    },
    "tags": []
   },
   "outputs": [],
   "source": [
    "def estimate_average_slot_payout(n_runs):\n",
    "    \"\"\"Run the slot machine n_runs times and return the average net profit per run.\n",
    "    Example calls (note that return value is nondeterministic!):\n",
    "    >>> estimate_average_slot_payout(1)\n",
    "    -1\n",
    "    >>> estimate_average_slot_payout(1)\n",
    "    0.5\n",
    "    \"\"\"\n",
    "    \n",
    "    total = 0\n",
    "    for _ in range(n_runs):\n",
    "        total += (play_slot_machine() - 1)\n",
    "        \n",
    "    return total/n_runs"
   ]
  },
  {
   "cell_type": "markdown",
   "id": "d5ee1bb6",
   "metadata": {
    "papermill": {
     "duration": 0.019793,
     "end_time": "2021-08-26T05:10:38.501457",
     "exception": false,
     "start_time": "2021-08-26T05:10:38.481664",
     "status": "completed"
    },
    "tags": []
   },
   "source": [
    "When you think you know the expected value per spin, run the code cell below to view the solution and get credit for answering the question."
   ]
  },
  {
   "cell_type": "code",
   "execution_count": 12,
   "id": "4dcc6c7a",
   "metadata": {
    "execution": {
     "iopub.execute_input": "2021-08-26T05:10:38.546806Z",
     "iopub.status.busy": "2021-08-26T05:10:38.546094Z",
     "iopub.status.idle": "2021-08-26T05:10:38.550598Z",
     "shell.execute_reply": "2021-08-26T05:10:38.551102Z",
     "shell.execute_reply.started": "2021-08-26T05:10:02.957541Z"
    },
    "papermill": {
     "duration": 0.029783,
     "end_time": "2021-08-26T05:10:38.551274",
     "exception": false,
     "start_time": "2021-08-26T05:10:38.521491",
     "status": "completed"
    },
    "tags": []
   },
   "outputs": [
    {
     "data": {
      "application/javascript": [
       "parent.postMessage({\"jupyterEvent\": \"custom.exercise_interaction\", \"data\": {\"interactionType\": 3, \"questionType\": 4, \"questionId\": \"4_ExpectedSlotsPayout\", \"learnToolsVersion\": \"0.3.4\", \"valueTowardsCompletion\": 0.0, \"failureMessage\": \"\", \"exceptionClass\": \"\", \"trace\": \"\", \"outcomeType\": 4}}, \"*\")"
      ],
      "text/plain": [
       "<IPython.core.display.Javascript object>"
      ]
     },
     "metadata": {},
     "output_type": "display_data"
    },
    {
     "data": {
      "text/markdown": [
       "<span style=\"color:#33cc99\">Solution:</span> The exact expected value of one pull of the slot machine is 0.025 - i.e. a little more than 2 cents. See? Not every game in the Python Challenge Casino is rigged against the player!\n",
       "\n",
       "Because of the high variance of the outcome (there are some very rare high payout results that significantly affect the average) you might need to run your function with a very high value of `n_runs` to get a stable answer close to the true expectation.\n",
       "\n",
       "If your answer is way higher than 0.025, then maybe you forgot to account for the $1 cost per play?"
      ],
      "text/plain": [
       "Solution: The exact expected value of one pull of the slot machine is 0.025 - i.e. a little more than 2 cents. See? Not every game in the Python Challenge Casino is rigged against the player!\n",
       "\n",
       "Because of the high variance of the outcome (there are some very rare high payout results that significantly affect the average) you might need to run your function with a very high value of `n_runs` to get a stable answer close to the true expectation.\n",
       "\n",
       "If your answer is way higher than 0.025, then maybe you forgot to account for the $1 cost per play?"
      ]
     },
     "metadata": {},
     "output_type": "display_data"
    }
   ],
   "source": [
    "# Check your answer (Run this code cell to receive credit!)\n",
    "q4.solution()"
   ]
  },
  {
   "cell_type": "markdown",
   "id": "851b57c6",
   "metadata": {
    "papermill": {
     "duration": 0.020724,
     "end_time": "2021-08-26T05:10:38.593064",
     "exception": false,
     "start_time": "2021-08-26T05:10:38.572340",
     "status": "completed"
    },
    "tags": []
   },
   "source": [
    "# Keep Going\n",
    "\n",
    "Many programmers report that dictionaries are their favorite data structure. You'll get to **[learn about them](https://www.kaggle.com/colinmorris/strings-and-dictionaries)** (as well as strings) in the next lesson."
   ]
  },
  {
   "cell_type": "markdown",
   "id": "461be766",
   "metadata": {
    "papermill": {
     "duration": 0.020583,
     "end_time": "2021-08-26T05:10:38.634847",
     "exception": false,
     "start_time": "2021-08-26T05:10:38.614264",
     "status": "completed"
    },
    "tags": []
   },
   "source": [
    "---\n",
    "\n",
    "\n",
    "\n",
    "\n",
    "*Have questions or comments? Visit the [Learn Discussion forum](https://www.kaggle.com/learn-forum/161283) to chat with other Learners.*"
   ]
  }
 ],
 "metadata": {
  "kernelspec": {
   "display_name": "Python 3",
   "language": "python",
   "name": "python3"
  },
  "language_info": {
   "codemirror_mode": {
    "name": "ipython",
    "version": 3
   },
   "file_extension": ".py",
   "mimetype": "text/x-python",
   "name": "python",
   "nbconvert_exporter": "python",
   "pygments_lexer": "ipython3",
   "version": "3.7.10"
  },
  "papermill": {
   "default_parameters": {},
   "duration": 10.78532,
   "end_time": "2021-08-26T05:10:40.097473",
   "environment_variables": {},
   "exception": null,
   "input_path": "__notebook__.ipynb",
   "output_path": "__notebook__.ipynb",
   "parameters": {},
   "start_time": "2021-08-26T05:10:29.312153",
   "version": "2.3.3"
  }
 },
 "nbformat": 4,
 "nbformat_minor": 5
}
