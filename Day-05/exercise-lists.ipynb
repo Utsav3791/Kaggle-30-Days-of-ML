{
 "cells": [
  {
   "cell_type": "markdown",
   "id": "b4ef0bae",
   "metadata": {
    "papermill": {
     "duration": 0.015743,
     "end_time": "2021-08-26T05:08:53.288133",
     "exception": false,
     "start_time": "2021-08-26T05:08:53.272390",
     "status": "completed"
    },
    "tags": []
   },
   "source": [
    "**This notebook is an exercise in the [Python](https://www.kaggle.com/learn/python) course.  You can reference the tutorial at [this link](https://www.kaggle.com/colinmorris/lists).**\n",
    "\n",
    "---\n"
   ]
  },
  {
   "cell_type": "markdown",
   "id": "070d9065",
   "metadata": {
    "papermill": {
     "duration": 0.014675,
     "end_time": "2021-08-26T05:08:53.321401",
     "exception": false,
     "start_time": "2021-08-26T05:08:53.306726",
     "status": "completed"
    },
    "tags": []
   },
   "source": [
    "Things get more interesting with lists. You'll apply your new knowledge to solve the questions below. Remember to run the following cell first."
   ]
  },
  {
   "cell_type": "code",
   "execution_count": 1,
   "id": "27e9f76d",
   "metadata": {
    "execution": {
     "iopub.execute_input": "2021-08-26T05:08:53.364860Z",
     "iopub.status.busy": "2021-08-26T05:08:53.364209Z",
     "iopub.status.idle": "2021-08-26T05:08:53.497748Z",
     "shell.execute_reply": "2021-08-26T05:08:53.498509Z",
     "shell.execute_reply.started": "2021-08-26T05:08:25.206560Z"
    },
    "papermill": {
     "duration": 0.163379,
     "end_time": "2021-08-26T05:08:53.498868",
     "exception": false,
     "start_time": "2021-08-26T05:08:53.335489",
     "status": "completed"
    },
    "tags": []
   },
   "outputs": [
    {
     "name": "stdout",
     "output_type": "stream",
     "text": [
      "Setup complete.\n"
     ]
    }
   ],
   "source": [
    "from learntools.core import binder; binder.bind(globals())\n",
    "from learntools.python.ex4 import *\n",
    "print('Setup complete.')"
   ]
  },
  {
   "cell_type": "markdown",
   "id": "08d942ba",
   "metadata": {
    "papermill": {
     "duration": 0.014181,
     "end_time": "2021-08-26T05:08:53.528708",
     "exception": false,
     "start_time": "2021-08-26T05:08:53.514527",
     "status": "completed"
    },
    "tags": []
   },
   "source": [
    "# 1.\n",
    "\n",
    "Complete the function below according to its docstring."
   ]
  },
  {
   "cell_type": "code",
   "execution_count": 2,
   "id": "a5e2f988",
   "metadata": {
    "execution": {
     "iopub.execute_input": "2021-08-26T05:08:53.561778Z",
     "iopub.status.busy": "2021-08-26T05:08:53.560860Z",
     "iopub.status.idle": "2021-08-26T05:08:53.570436Z",
     "shell.execute_reply": "2021-08-26T05:08:53.570952Z",
     "shell.execute_reply.started": "2021-08-26T05:08:25.408229Z"
    },
    "papermill": {
     "duration": 0.027379,
     "end_time": "2021-08-26T05:08:53.571139",
     "exception": false,
     "start_time": "2021-08-26T05:08:53.543760",
     "status": "completed"
    },
    "tags": []
   },
   "outputs": [
    {
     "data": {
      "application/javascript": [
       "parent.postMessage({\"jupyterEvent\": \"custom.exercise_interaction\", \"data\": {\"outcomeType\": 1, \"valueTowardsCompletion\": 0.2, \"interactionType\": 1, \"questionType\": 2, \"questionId\": \"1_SelectSecondItem\", \"learnToolsVersion\": \"0.3.4\", \"failureMessage\": \"\", \"exceptionClass\": \"\", \"trace\": \"\"}}, \"*\")"
      ],
      "text/plain": [
       "<IPython.core.display.Javascript object>"
      ]
     },
     "metadata": {},
     "output_type": "display_data"
    },
    {
     "data": {
      "text/markdown": [
       "<span style=\"color:#33cc33\">Correct</span>"
      ],
      "text/plain": [
       "Correct"
      ]
     },
     "metadata": {},
     "output_type": "display_data"
    }
   ],
   "source": [
    "def select_second(L):\n",
    "    \"\"\"Return the second element of the given list. If the list has no second\n",
    "    element, return None.\n",
    "    \"\"\"\n",
    "    try:\n",
    "        return L[1]\n",
    "    except:\n",
    "        return None\n",
    "\n",
    "# Check your answer\n",
    "q1.check()"
   ]
  },
  {
   "cell_type": "code",
   "execution_count": 3,
   "id": "6f24da7e",
   "metadata": {
    "execution": {
     "iopub.execute_input": "2021-08-26T05:08:53.605610Z",
     "iopub.status.busy": "2021-08-26T05:08:53.604943Z",
     "iopub.status.idle": "2021-08-26T05:08:53.608246Z",
     "shell.execute_reply": "2021-08-26T05:08:53.608754Z",
     "shell.execute_reply.started": "2021-08-26T05:08:25.426485Z"
    },
    "papermill": {
     "duration": 0.022377,
     "end_time": "2021-08-26T05:08:53.608924",
     "exception": false,
     "start_time": "2021-08-26T05:08:53.586547",
     "status": "completed"
    },
    "tags": []
   },
   "outputs": [],
   "source": [
    "#q1.hint()\n",
    "#q1.solution()"
   ]
  },
  {
   "cell_type": "markdown",
   "id": "86756f87",
   "metadata": {
    "papermill": {
     "duration": 0.015606,
     "end_time": "2021-08-26T05:08:53.640323",
     "exception": false,
     "start_time": "2021-08-26T05:08:53.624717",
     "status": "completed"
    },
    "tags": []
   },
   "source": [
    "# 2.\n",
    "\n",
    "You are analyzing sports teams.  Members of each team are stored in a list. The Coach is the first name in the list, the captain is the second name in the list, and other players are listed after that. \n",
    "These lists are stored in another list, which starts with the best team and proceeds through the list to the worst team last.  Complete the function below to select the **captain** of the worst team."
   ]
  },
  {
   "cell_type": "code",
   "execution_count": 4,
   "id": "3053dea6",
   "metadata": {
    "execution": {
     "iopub.execute_input": "2021-08-26T05:08:53.675540Z",
     "iopub.status.busy": "2021-08-26T05:08:53.674827Z",
     "iopub.status.idle": "2021-08-26T05:08:53.682137Z",
     "shell.execute_reply": "2021-08-26T05:08:53.682727Z",
     "shell.execute_reply.started": "2021-08-26T05:08:25.433844Z"
    },
    "papermill": {
     "duration": 0.026086,
     "end_time": "2021-08-26T05:08:53.682903",
     "exception": false,
     "start_time": "2021-08-26T05:08:53.656817",
     "status": "completed"
    },
    "tags": []
   },
   "outputs": [
    {
     "data": {
      "application/javascript": [
       "parent.postMessage({\"jupyterEvent\": \"custom.exercise_interaction\", \"data\": {\"outcomeType\": 1, \"valueTowardsCompletion\": 0.2, \"interactionType\": 1, \"questionType\": 2, \"questionId\": \"2_LosingTeamCaptain\", \"learnToolsVersion\": \"0.3.4\", \"failureMessage\": \"\", \"exceptionClass\": \"\", \"trace\": \"\"}}, \"*\")"
      ],
      "text/plain": [
       "<IPython.core.display.Javascript object>"
      ]
     },
     "metadata": {},
     "output_type": "display_data"
    },
    {
     "data": {
      "text/markdown": [
       "<span style=\"color:#33cc33\">Correct</span>"
      ],
      "text/plain": [
       "Correct"
      ]
     },
     "metadata": {},
     "output_type": "display_data"
    }
   ],
   "source": [
    "def losing_team_captain(teams):\n",
    "    \"\"\"Given a list of teams, where each team is a list of names, return the 2nd player (captain)\n",
    "    from the last listed team\n",
    "    \"\"\"\n",
    "    return teams[-1][1]\n",
    "\n",
    "# Check your answer\n",
    "q2.check()"
   ]
  },
  {
   "cell_type": "code",
   "execution_count": 5,
   "id": "b2a3b517",
   "metadata": {
    "execution": {
     "iopub.execute_input": "2021-08-26T05:08:53.724928Z",
     "iopub.status.busy": "2021-08-26T05:08:53.723926Z",
     "iopub.status.idle": "2021-08-26T05:08:53.729242Z",
     "shell.execute_reply": "2021-08-26T05:08:53.728371Z",
     "shell.execute_reply.started": "2021-08-26T05:08:25.454447Z"
    },
    "papermill": {
     "duration": 0.029276,
     "end_time": "2021-08-26T05:08:53.729474",
     "exception": false,
     "start_time": "2021-08-26T05:08:53.700198",
     "status": "completed"
    },
    "tags": []
   },
   "outputs": [],
   "source": [
    "#q2.hint()\n",
    "#q2.solution()"
   ]
  },
  {
   "cell_type": "markdown",
   "id": "8ee1200a",
   "metadata": {
    "papermill": {
     "duration": 0.016423,
     "end_time": "2021-08-26T05:08:53.766357",
     "exception": false,
     "start_time": "2021-08-26T05:08:53.749934",
     "status": "completed"
    },
    "tags": []
   },
   "source": [
    "# 3.\n",
    "\n",
    "The next iteration of Mario Kart will feature an extra-infuriating new item, the *Purple Shell*. When used, it warps the last place racer into first place and the first place racer into last place. Complete the function below to implement the Purple Shell's effect."
   ]
  },
  {
   "cell_type": "code",
   "execution_count": 6,
   "id": "d28edb6f",
   "metadata": {
    "execution": {
     "iopub.execute_input": "2021-08-26T05:08:53.808283Z",
     "iopub.status.busy": "2021-08-26T05:08:53.807491Z",
     "iopub.status.idle": "2021-08-26T05:08:53.812919Z",
     "shell.execute_reply": "2021-08-26T05:08:53.812414Z",
     "shell.execute_reply.started": "2021-08-26T05:08:25.461995Z"
    },
    "papermill": {
     "duration": 0.030109,
     "end_time": "2021-08-26T05:08:53.813082",
     "exception": false,
     "start_time": "2021-08-26T05:08:53.782973",
     "status": "completed"
    },
    "tags": []
   },
   "outputs": [
    {
     "data": {
      "application/javascript": [
       "parent.postMessage({\"jupyterEvent\": \"custom.exercise_interaction\", \"data\": {\"outcomeType\": 1, \"valueTowardsCompletion\": 0.2, \"interactionType\": 1, \"questionType\": 2, \"questionId\": \"3_PurpleShell\", \"learnToolsVersion\": \"0.3.4\", \"failureMessage\": \"\", \"exceptionClass\": \"\", \"trace\": \"\"}}, \"*\")"
      ],
      "text/plain": [
       "<IPython.core.display.Javascript object>"
      ]
     },
     "metadata": {},
     "output_type": "display_data"
    },
    {
     "data": {
      "text/markdown": [
       "<span style=\"color:#33cc33\">Correct</span>"
      ],
      "text/plain": [
       "Correct"
      ]
     },
     "metadata": {},
     "output_type": "display_data"
    }
   ],
   "source": [
    "def purple_shell(racers):\n",
    "    \"\"\"Given a list of racers, set the first place racer (at the front of the list) to last\n",
    "    place and vice versa.\n",
    "    \n",
    "    >>> r = [\"Mario\", \"Bowser\", \"Luigi\"]\n",
    "    >>> purple_shell(r)\n",
    "    >>> r\n",
    "    [\"Luigi\", \"Bowser\", \"Mario\"]\n",
    "    \"\"\"\n",
    "    racers[0], racers[-1] = racers[-1], racers[0]\n",
    "\n",
    "# Check your answer\n",
    "q3.check()"
   ]
  },
  {
   "cell_type": "code",
   "execution_count": 7,
   "id": "fc827a2e",
   "metadata": {
    "execution": {
     "iopub.execute_input": "2021-08-26T05:08:53.853777Z",
     "iopub.status.busy": "2021-08-26T05:08:53.853095Z",
     "iopub.status.idle": "2021-08-26T05:08:53.855092Z",
     "shell.execute_reply": "2021-08-26T05:08:53.855583Z",
     "shell.execute_reply.started": "2021-08-26T05:08:25.482461Z"
    },
    "papermill": {
     "duration": 0.024298,
     "end_time": "2021-08-26T05:08:53.855755",
     "exception": false,
     "start_time": "2021-08-26T05:08:53.831457",
     "status": "completed"
    },
    "tags": []
   },
   "outputs": [],
   "source": [
    "#q3.hint()\n",
    "#q3.solution()"
   ]
  },
  {
   "cell_type": "markdown",
   "id": "fe036277",
   "metadata": {
    "papermill": {
     "duration": 0.017951,
     "end_time": "2021-08-26T05:08:53.892526",
     "exception": false,
     "start_time": "2021-08-26T05:08:53.874575",
     "status": "completed"
    },
    "tags": []
   },
   "source": [
    "# 4.\n",
    "\n",
    "What are the lengths of the following lists? Fill in the variable `lengths` with your predictions. (Try to make a prediction for each list *without* just calling `len()` on it.)"
   ]
  },
  {
   "cell_type": "code",
   "execution_count": 8,
   "id": "69abdef5",
   "metadata": {
    "execution": {
     "iopub.execute_input": "2021-08-26T05:08:53.931298Z",
     "iopub.status.busy": "2021-08-26T05:08:53.930609Z",
     "iopub.status.idle": "2021-08-26T05:08:53.938370Z",
     "shell.execute_reply": "2021-08-26T05:08:53.938849Z",
     "shell.execute_reply.started": "2021-08-26T05:08:25.493891Z"
    },
    "papermill": {
     "duration": 0.028592,
     "end_time": "2021-08-26T05:08:53.939043",
     "exception": false,
     "start_time": "2021-08-26T05:08:53.910451",
     "status": "completed"
    },
    "tags": []
   },
   "outputs": [
    {
     "data": {
      "application/javascript": [
       "parent.postMessage({\"jupyterEvent\": \"custom.exercise_interaction\", \"data\": {\"outcomeType\": 1, \"valueTowardsCompletion\": 0.2, \"interactionType\": 1, \"questionType\": 1, \"questionId\": \"4_UnderstandLen\", \"learnToolsVersion\": \"0.3.4\", \"failureMessage\": \"\", \"exceptionClass\": \"\", \"trace\": \"\"}}, \"*\")"
      ],
      "text/plain": [
       "<IPython.core.display.Javascript object>"
      ]
     },
     "metadata": {},
     "output_type": "display_data"
    },
    {
     "data": {
      "text/markdown": [
       "<span style=\"color:#33cc33\">Correct:</span> \n",
       "\n",
       "\n",
       "- a: There are three items in this list. Nothing tricky yet.\n",
       "- b: The list `[2, 3]` counts as a single item. It has one item before it. So we have 2 items in the list\n",
       "- c: The empty list has 0 items\n",
       "- d: The expression is the same as the list `[2, 3]`, which has length 2."
      ],
      "text/plain": [
       "Correct: \n",
       "\n",
       "\n",
       "- a: There are three items in this list. Nothing tricky yet.\n",
       "- b: The list `[2, 3]` counts as a single item. It has one item before it. So we have 2 items in the list\n",
       "- c: The empty list has 0 items\n",
       "- d: The expression is the same as the list `[2, 3]`, which has length 2."
      ]
     },
     "metadata": {},
     "output_type": "display_data"
    }
   ],
   "source": [
    "a = [1, 2, 3]\n",
    "b = [1, [2, 3]]\n",
    "c = []\n",
    "d = [1, 2, 3][1:]\n",
    "\n",
    "# Put your predictions in the list below. Lengths should contain 4 numbers, the\n",
    "# first being the length of a, the second being the length of b and so on.\n",
    "lengths = [3, 2, 0, 2]\n",
    "\n",
    "# Check your answer\n",
    "q4.check()"
   ]
  },
  {
   "cell_type": "code",
   "execution_count": 9,
   "id": "2c67079f",
   "metadata": {
    "execution": {
     "iopub.execute_input": "2021-08-26T05:08:53.979052Z",
     "iopub.status.busy": "2021-08-26T05:08:53.978417Z",
     "iopub.status.idle": "2021-08-26T05:08:53.981246Z",
     "shell.execute_reply": "2021-08-26T05:08:53.981751Z",
     "shell.execute_reply.started": "2021-08-26T05:08:25.514203Z"
    },
    "papermill": {
     "duration": 0.02442,
     "end_time": "2021-08-26T05:08:53.981910",
     "exception": false,
     "start_time": "2021-08-26T05:08:53.957490",
     "status": "completed"
    },
    "tags": []
   },
   "outputs": [],
   "source": [
    "# line below provides some explanation\n",
    "#q4.solution()"
   ]
  },
  {
   "cell_type": "markdown",
   "id": "49b2d9e4",
   "metadata": {
    "papermill": {
     "duration": 0.018992,
     "end_time": "2021-08-26T05:08:54.019267",
     "exception": false,
     "start_time": "2021-08-26T05:08:54.000275",
     "status": "completed"
    },
    "tags": []
   },
   "source": [
    "# 5. <span title=\"A bit spicy\" style=\"color: darkgreen \">🌶️</span>\n",
    "\n",
    "We're using lists to record people who attended our party and what order they arrived in. For example, the following list represents a party with 7 guests, in which Adela showed up first and Ford was the last to arrive:\n",
    "\n",
    "    party_attendees = ['Adela', 'Fleda', 'Owen', 'May', 'Mona', 'Gilbert', 'Ford']\n",
    "\n",
    "A guest is considered 'fashionably late' if they arrived after at least half of the party's guests. However, they must not be the very last guest (that's taking it too far). In the above example, Mona and Gilbert are the only guests who were fashionably late.\n",
    "\n",
    "Complete the function below which takes a list of party attendees as well as a person, and tells us whether that person is fashionably late."
   ]
  },
  {
   "cell_type": "code",
   "execution_count": 10,
   "id": "0b5b8a6d",
   "metadata": {
    "execution": {
     "iopub.execute_input": "2021-08-26T05:08:54.061040Z",
     "iopub.status.busy": "2021-08-26T05:08:54.060368Z",
     "iopub.status.idle": "2021-08-26T05:08:54.069916Z",
     "shell.execute_reply": "2021-08-26T05:08:54.069296Z",
     "shell.execute_reply.started": "2021-08-26T05:08:25.521890Z"
    },
    "papermill": {
     "duration": 0.03129,
     "end_time": "2021-08-26T05:08:54.070089",
     "exception": false,
     "start_time": "2021-08-26T05:08:54.038799",
     "status": "completed"
    },
    "tags": []
   },
   "outputs": [
    {
     "data": {
      "application/javascript": [
       "parent.postMessage({\"jupyterEvent\": \"custom.exercise_interaction\", \"data\": {\"outcomeType\": 1, \"valueTowardsCompletion\": 0.2, \"interactionType\": 1, \"questionType\": 2, \"questionId\": \"5_FashionablyLate\", \"learnToolsVersion\": \"0.3.4\", \"failureMessage\": \"\", \"exceptionClass\": \"\", \"trace\": \"\"}}, \"*\")"
      ],
      "text/plain": [
       "<IPython.core.display.Javascript object>"
      ]
     },
     "metadata": {},
     "output_type": "display_data"
    },
    {
     "data": {
      "text/markdown": [
       "<span style=\"color:#33cc33\">Correct</span>"
      ],
      "text/plain": [
       "Correct"
      ]
     },
     "metadata": {},
     "output_type": "display_data"
    }
   ],
   "source": [
    "def fashionably_late(arrivals, name):\n",
    "    \"\"\"Given an ordered list of arrivals to the party and a name, return whether the guest with that\n",
    "    name was fashionably late.\n",
    "    \"\"\"\n",
    "    if len(arrivals)%2:\n",
    "        return name in arrivals[len(arrivals)//2+1:-1]\n",
    "    else:\n",
    "        return name in arrivals[len(arrivals)//2:-1]\n",
    "\n",
    "# Check your answer\n",
    "q5.check()"
   ]
  },
  {
   "cell_type": "code",
   "execution_count": 11,
   "id": "07e9248f",
   "metadata": {
    "execution": {
     "iopub.execute_input": "2021-08-26T05:08:54.114671Z",
     "iopub.status.busy": "2021-08-26T05:08:54.113901Z",
     "iopub.status.idle": "2021-08-26T05:08:54.117068Z",
     "shell.execute_reply": "2021-08-26T05:08:54.116429Z",
     "shell.execute_reply.started": "2021-08-26T05:08:25.544626Z"
    },
    "papermill": {
     "duration": 0.027756,
     "end_time": "2021-08-26T05:08:54.117239",
     "exception": false,
     "start_time": "2021-08-26T05:08:54.089483",
     "status": "completed"
    },
    "tags": []
   },
   "outputs": [],
   "source": [
    "#q5.hint()\n",
    "#q5.solution()"
   ]
  },
  {
   "cell_type": "markdown",
   "id": "e61d3337",
   "metadata": {
    "papermill": {
     "duration": 0.01903,
     "end_time": "2021-08-26T05:08:54.156162",
     "exception": false,
     "start_time": "2021-08-26T05:08:54.137132",
     "status": "completed"
    },
    "tags": []
   },
   "source": [
    "# Keep Going\n",
    "\n",
    "That's it for lists and tuples! Now you have the baseline knowledge to **[learn about loops](https://www.kaggle.com/colinmorris/loops-and-list-comprehensions)**, which is where lists and tuples get really interesting. "
   ]
  },
  {
   "cell_type": "markdown",
   "id": "7ccf1d22",
   "metadata": {
    "papermill": {
     "duration": 0.019176,
     "end_time": "2021-08-26T05:08:54.194657",
     "exception": false,
     "start_time": "2021-08-26T05:08:54.175481",
     "status": "completed"
    },
    "tags": []
   },
   "source": [
    "---\n",
    "\n",
    "\n",
    "\n",
    "\n",
    "*Have questions or comments? Visit the [Learn Discussion forum](https://www.kaggle.com/learn-forum/161283) to chat with other Learners.*"
   ]
  }
 ],
 "metadata": {
  "kernelspec": {
   "display_name": "Python 3",
   "language": "python",
   "name": "python3"
  },
  "language_info": {
   "codemirror_mode": {
    "name": "ipython",
    "version": 3
   },
   "file_extension": ".py",
   "mimetype": "text/x-python",
   "name": "python",
   "nbconvert_exporter": "python",
   "pygments_lexer": "ipython3",
   "version": "3.7.10"
  },
  "papermill": {
   "default_parameters": {},
   "duration": 10.787643,
   "end_time": "2021-08-26T05:08:55.697182",
   "environment_variables": {},
   "exception": null,
   "input_path": "__notebook__.ipynb",
   "output_path": "__notebook__.ipynb",
   "parameters": {},
   "start_time": "2021-08-26T05:08:44.909539",
   "version": "2.3.3"
  }
 },
 "nbformat": 4,
 "nbformat_minor": 5
}
