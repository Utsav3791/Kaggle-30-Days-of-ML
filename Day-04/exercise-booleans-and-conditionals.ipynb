{
 "cells": [
  {
   "cell_type": "markdown",
   "id": "a51a29bc",
   "metadata": {
    "papermill": {
     "duration": 0.029924,
     "end_time": "2021-08-26T04:58:30.214630",
     "exception": false,
     "start_time": "2021-08-26T04:58:30.184706",
     "status": "completed"
    },
    "tags": []
   },
   "source": [
    "**This notebook is an exercise in the [Python](https://www.kaggle.com/learn/python) course.  You can reference the tutorial at [this link](https://www.kaggle.com/colinmorris/booleans-and-conditionals).**\n",
    "\n",
    "---\n"
   ]
  },
  {
   "cell_type": "markdown",
   "id": "8108109d",
   "metadata": {
    "papermill": {
     "duration": 0.028223,
     "end_time": "2021-08-26T04:58:30.273355",
     "exception": false,
     "start_time": "2021-08-26T04:58:30.245132",
     "status": "completed"
    },
    "tags": []
   },
   "source": [
    "In this exercise, you'll put to work what you have learned about booleans and conditionals.\n",
    "\n",
    "To get started, **run the setup code below** before writing your own code (and if you leave this notebook and come back later, don't forget to run the setup code again)."
   ]
  },
  {
   "cell_type": "code",
   "execution_count": 1,
   "id": "e0bf716e",
   "metadata": {
    "execution": {
     "iopub.execute_input": "2021-08-26T04:58:30.342748Z",
     "iopub.status.busy": "2021-08-26T04:58:30.342062Z",
     "iopub.status.idle": "2021-08-26T04:58:30.483841Z",
     "shell.execute_reply": "2021-08-26T04:58:30.484365Z",
     "shell.execute_reply.started": "2021-08-26T04:57:31.701234Z"
    },
    "papermill": {
     "duration": 0.182785,
     "end_time": "2021-08-26T04:58:30.484696",
     "exception": false,
     "start_time": "2021-08-26T04:58:30.301911",
     "status": "completed"
    },
    "tags": []
   },
   "outputs": [
    {
     "name": "stdout",
     "output_type": "stream",
     "text": [
      "Setup complete.\n"
     ]
    }
   ],
   "source": [
    "from learntools.core import binder; binder.bind(globals())\n",
    "from learntools.python.ex3 import *\n",
    "print('Setup complete.')"
   ]
  },
  {
   "cell_type": "markdown",
   "id": "0d149d77",
   "metadata": {
    "papermill": {
     "duration": 0.029313,
     "end_time": "2021-08-26T04:58:30.543788",
     "exception": false,
     "start_time": "2021-08-26T04:58:30.514475",
     "status": "completed"
    },
    "tags": []
   },
   "source": [
    "# 1.\n",
    "\n",
    "Many programming languages have [`sign`](https://en.wikipedia.org/wiki/Sign_function) available as a built-in function. Python doesn't, but we can define our own!\n",
    "\n",
    "In the cell below, define a function called `sign` which takes a numerical argument and returns -1 if it's negative, 1 if it's positive, and 0 if it's 0."
   ]
  },
  {
   "cell_type": "code",
   "execution_count": 2,
   "id": "a50d428e",
   "metadata": {
    "execution": {
     "iopub.execute_input": "2021-08-26T04:58:30.610484Z",
     "iopub.status.busy": "2021-08-26T04:58:30.609740Z",
     "iopub.status.idle": "2021-08-26T04:58:30.615694Z",
     "shell.execute_reply": "2021-08-26T04:58:30.615105Z",
     "shell.execute_reply.started": "2021-08-26T04:57:31.840537Z"
    },
    "papermill": {
     "duration": 0.042904,
     "end_time": "2021-08-26T04:58:30.615839",
     "exception": false,
     "start_time": "2021-08-26T04:58:30.572935",
     "status": "completed"
    },
    "tags": []
   },
   "outputs": [
    {
     "data": {
      "application/javascript": [
       "parent.postMessage({\"jupyterEvent\": \"custom.exercise_interaction\", \"data\": {\"outcomeType\": 1, \"valueTowardsCompletion\": 0.2, \"interactionType\": 1, \"questionType\": 2, \"questionId\": \"1_SignFunctionProblem\", \"learnToolsVersion\": \"0.3.4\", \"failureMessage\": \"\", \"exceptionClass\": \"\", \"trace\": \"\"}}, \"*\")"
      ],
      "text/plain": [
       "<IPython.core.display.Javascript object>"
      ]
     },
     "metadata": {},
     "output_type": "display_data"
    },
    {
     "data": {
      "text/markdown": [
       "<span style=\"color:#33cc33\">Correct</span>"
      ],
      "text/plain": [
       "Correct"
      ]
     },
     "metadata": {},
     "output_type": "display_data"
    }
   ],
   "source": [
    "# Your code goes here. Define a function called 'sign'\n",
    "def sign(num):\n",
    "    try:\n",
    "        return num/abs(num)\n",
    "    except ZeroDivisionError as z:\n",
    "        return 0\n",
    "\n",
    "# Check your answer\n",
    "q1.check()"
   ]
  },
  {
   "cell_type": "code",
   "execution_count": 3,
   "id": "cbc14296",
   "metadata": {
    "execution": {
     "iopub.execute_input": "2021-08-26T04:58:30.683130Z",
     "iopub.status.busy": "2021-08-26T04:58:30.682418Z",
     "iopub.status.idle": "2021-08-26T04:58:30.685514Z",
     "shell.execute_reply": "2021-08-26T04:58:30.684988Z",
     "shell.execute_reply.started": "2021-08-26T04:57:31.852471Z"
    },
    "papermill": {
     "duration": 0.039635,
     "end_time": "2021-08-26T04:58:30.685650",
     "exception": false,
     "start_time": "2021-08-26T04:58:30.646015",
     "status": "completed"
    },
    "tags": []
   },
   "outputs": [],
   "source": [
    "#q1.solution()"
   ]
  },
  {
   "cell_type": "markdown",
   "id": "6cbfbac0",
   "metadata": {
    "papermill": {
     "duration": 0.029991,
     "end_time": "2021-08-26T04:58:30.746034",
     "exception": false,
     "start_time": "2021-08-26T04:58:30.716043",
     "status": "completed"
    },
    "tags": []
   },
   "source": [
    "# 2.\n",
    "\n",
    "We've decided to add \"logging\" to our `to_smash` function from the previous exercise."
   ]
  },
  {
   "cell_type": "code",
   "execution_count": 4,
   "id": "6984a17a",
   "metadata": {
    "execution": {
     "iopub.execute_input": "2021-08-26T04:58:30.815084Z",
     "iopub.status.busy": "2021-08-26T04:58:30.814229Z",
     "iopub.status.idle": "2021-08-26T04:58:30.820074Z",
     "shell.execute_reply": "2021-08-26T04:58:30.819535Z",
     "shell.execute_reply.started": "2021-08-26T04:57:31.869297Z"
    },
    "papermill": {
     "duration": 0.043877,
     "end_time": "2021-08-26T04:58:30.820227",
     "exception": false,
     "start_time": "2021-08-26T04:58:30.776350",
     "status": "completed"
    },
    "tags": []
   },
   "outputs": [
    {
     "name": "stdout",
     "output_type": "stream",
     "text": [
      "Splitting 91 candies\n"
     ]
    },
    {
     "data": {
      "text/plain": [
       "1"
      ]
     },
     "execution_count": 4,
     "metadata": {},
     "output_type": "execute_result"
    }
   ],
   "source": [
    "def to_smash(total_candies):\n",
    "    \"\"\"Return the number of leftover candies that must be smashed after distributing\n",
    "    the given number of candies evenly between 3 friends.\n",
    "    \n",
    "    >>> to_smash(91)\n",
    "    1\n",
    "    \"\"\"\n",
    "    print(\"Splitting\", total_candies, \"candies\")\n",
    "    return total_candies % 3\n",
    "\n",
    "to_smash(91)"
   ]
  },
  {
   "cell_type": "markdown",
   "id": "99974d48",
   "metadata": {
    "papermill": {
     "duration": 0.030948,
     "end_time": "2021-08-26T04:58:30.883267",
     "exception": false,
     "start_time": "2021-08-26T04:58:30.852319",
     "status": "completed"
    },
    "tags": []
   },
   "source": [
    "What happens if we call it with `total_candies = 1`?"
   ]
  },
  {
   "cell_type": "code",
   "execution_count": 5,
   "id": "b1552ee0",
   "metadata": {
    "execution": {
     "iopub.execute_input": "2021-08-26T04:58:30.950771Z",
     "iopub.status.busy": "2021-08-26T04:58:30.949992Z",
     "iopub.status.idle": "2021-08-26T04:58:30.955827Z",
     "shell.execute_reply": "2021-08-26T04:58:30.955301Z",
     "shell.execute_reply.started": "2021-08-26T04:57:31.885103Z"
    },
    "papermill": {
     "duration": 0.041801,
     "end_time": "2021-08-26T04:58:30.956005",
     "exception": false,
     "start_time": "2021-08-26T04:58:30.914204",
     "status": "completed"
    },
    "tags": []
   },
   "outputs": [
    {
     "name": "stdout",
     "output_type": "stream",
     "text": [
      "Splitting 1 candies\n"
     ]
    },
    {
     "data": {
      "text/plain": [
       "1"
      ]
     },
     "execution_count": 5,
     "metadata": {},
     "output_type": "execute_result"
    }
   ],
   "source": [
    "to_smash(1)"
   ]
  },
  {
   "cell_type": "markdown",
   "id": "dcb58c61",
   "metadata": {
    "papermill": {
     "duration": 0.030838,
     "end_time": "2021-08-26T04:58:31.017839",
     "exception": false,
     "start_time": "2021-08-26T04:58:30.987001",
     "status": "completed"
    },
    "tags": []
   },
   "source": [
    "That isn't great grammar!\n",
    "\n",
    "Modify the definition in the cell below to correct the grammar of our print statement. (If there's only one candy, we should use the singular \"candy\" instead of the plural \"candies\")"
   ]
  },
  {
   "cell_type": "code",
   "execution_count": 6,
   "id": "6ca578a1",
   "metadata": {
    "execution": {
     "iopub.execute_input": "2021-08-26T04:58:31.091528Z",
     "iopub.status.busy": "2021-08-26T04:58:31.089435Z",
     "iopub.status.idle": "2021-08-26T04:58:31.098149Z",
     "shell.execute_reply": "2021-08-26T04:58:31.098879Z",
     "shell.execute_reply.started": "2021-08-26T04:57:31.896070Z"
    },
    "papermill": {
     "duration": 0.049979,
     "end_time": "2021-08-26T04:58:31.099094",
     "exception": false,
     "start_time": "2021-08-26T04:58:31.049115",
     "status": "completed"
    },
    "tags": []
   },
   "outputs": [
    {
     "name": "stdout",
     "output_type": "stream",
     "text": [
      "Splitting 91 candies\n",
      "Splitting 1 candy\n"
     ]
    },
    {
     "data": {
      "text/plain": [
       "1"
      ]
     },
     "execution_count": 6,
     "metadata": {},
     "output_type": "execute_result"
    }
   ],
   "source": [
    "def to_smash(total_candies):\n",
    "    \"\"\"Return the number of leftover candies that must be smashed after distributing\n",
    "    the given number of candies evenly between 3 friends.\n",
    "    \n",
    "    >>> to_smash(91)\n",
    "    1\n",
    "    \"\"\"\n",
    "    if total_candies == 1:\n",
    "        print(\"Splitting\", total_candies, \"candy\")\n",
    "    else:\n",
    "        print(\"Splitting\", total_candies, \"candies\")\n",
    "    return total_candies % 3\n",
    "\n",
    "to_smash(91)\n",
    "to_smash(1)"
   ]
  },
  {
   "cell_type": "markdown",
   "id": "1caefeb4",
   "metadata": {
    "papermill": {
     "duration": 0.031611,
     "end_time": "2021-08-26T04:58:31.165307",
     "exception": false,
     "start_time": "2021-08-26T04:58:31.133696",
     "status": "completed"
    },
    "tags": []
   },
   "source": [
    "To get credit for completing this problem, and to see the official answer, run the code cell below."
   ]
  },
  {
   "cell_type": "code",
   "execution_count": 7,
   "id": "5c4c305c",
   "metadata": {
    "execution": {
     "iopub.execute_input": "2021-08-26T04:58:31.236917Z",
     "iopub.status.busy": "2021-08-26T04:58:31.236057Z",
     "iopub.status.idle": "2021-08-26T04:58:31.241977Z",
     "shell.execute_reply": "2021-08-26T04:58:31.241307Z",
     "shell.execute_reply.started": "2021-08-26T04:57:31.909348Z"
    },
    "papermill": {
     "duration": 0.044694,
     "end_time": "2021-08-26T04:58:31.242120",
     "exception": false,
     "start_time": "2021-08-26T04:58:31.197426",
     "status": "completed"
    },
    "tags": []
   },
   "outputs": [
    {
     "data": {
      "application/javascript": [
       "parent.postMessage({\"jupyterEvent\": \"custom.exercise_interaction\", \"data\": {\"interactionType\": 3, \"questionType\": 4, \"questionId\": \"2_PluralizationProblem\", \"learnToolsVersion\": \"0.3.4\", \"valueTowardsCompletion\": 0.0, \"failureMessage\": \"\", \"exceptionClass\": \"\", \"trace\": \"\", \"outcomeType\": 4}}, \"*\")"
      ],
      "text/plain": [
       "<IPython.core.display.Javascript object>"
      ]
     },
     "metadata": {},
     "output_type": "display_data"
    },
    {
     "data": {
      "text/markdown": [
       "<span style=\"color:#33cc99\">Solution:</span> A straightforward (and totally fine) solution is to replace the original `print` call with:\n",
       "\n",
       "```python\n",
       "if total_candies == 1:\n",
       "    print(\"Splitting 1 candy\")\n",
       "else:\n",
       "    print(\"Splitting\", total_candies, \"candies\")\n",
       "```\n",
       "\n",
       "Here's a slightly more succinct solution using a conditional expression:\n",
       "\n",
       "```python\n",
       "print(\"Splitting\", total_candies, \"candy\" if total_candies == 1 else \"candies\")\n",
       "```"
      ],
      "text/plain": [
       "Solution: A straightforward (and totally fine) solution is to replace the original `print` call with:\n",
       "\n",
       "```python\n",
       "if total_candies == 1:\n",
       "    print(\"Splitting 1 candy\")\n",
       "else:\n",
       "    print(\"Splitting\", total_candies, \"candies\")\n",
       "```\n",
       "\n",
       "Here's a slightly more succinct solution using a conditional expression:\n",
       "\n",
       "```python\n",
       "print(\"Splitting\", total_candies, \"candy\" if total_candies == 1 else \"candies\")\n",
       "```"
      ]
     },
     "metadata": {},
     "output_type": "display_data"
    }
   ],
   "source": [
    "# Check your answer (Run this code cell to receive credit!)\n",
    "q2.solution()"
   ]
  },
  {
   "cell_type": "markdown",
   "id": "96ae0a2c",
   "metadata": {
    "papermill": {
     "duration": 0.034089,
     "end_time": "2021-08-26T04:58:31.309381",
     "exception": false,
     "start_time": "2021-08-26T04:58:31.275292",
     "status": "completed"
    },
    "tags": []
   },
   "source": [
    "# 3. <span title=\"A bit spicy\" style=\"color: darkgreen \">🌶️</span>\n",
    "\n",
    "In the tutorial, we talked about deciding whether we're prepared for the weather. I said that I'm safe from today's weather if...\n",
    "- I have an umbrella...\n",
    "- or if the rain isn't too heavy and I have a hood...\n",
    "- otherwise, I'm still fine unless it's raining *and* it's a workday\n",
    "\n",
    "The function below uses our first attempt at turning this logic into a Python expression. I claimed that there was a bug in that code. Can you find it?\n",
    "\n",
    "To prove that `prepared_for_weather` is buggy, come up with a set of inputs where either:\n",
    "- the function returns `False` (but should have returned `True`), or\n",
    "- the function returned `True` (but should have returned `False`).\n",
    "\n",
    "To get credit for completing this question, your code should return a <font color='#33cc33'>Correct</font> result."
   ]
  },
  {
   "cell_type": "code",
   "execution_count": 8,
   "id": "48983cac",
   "metadata": {
    "execution": {
     "iopub.execute_input": "2021-08-26T04:58:31.387255Z",
     "iopub.status.busy": "2021-08-26T04:58:31.386541Z",
     "iopub.status.idle": "2021-08-26T04:58:31.395803Z",
     "shell.execute_reply": "2021-08-26T04:58:31.395224Z",
     "shell.execute_reply.started": "2021-08-26T04:57:31.924040Z"
    },
    "papermill": {
     "duration": 0.051328,
     "end_time": "2021-08-26T04:58:31.395959",
     "exception": false,
     "start_time": "2021-08-26T04:58:31.344631",
     "status": "completed"
    },
    "tags": []
   },
   "outputs": [
    {
     "name": "stdout",
     "output_type": "stream",
     "text": [
      "False\n"
     ]
    },
    {
     "data": {
      "application/javascript": [
       "parent.postMessage({\"jupyterEvent\": \"custom.exercise_interaction\", \"data\": {\"outcomeType\": 1, \"valueTowardsCompletion\": 0.2, \"interactionType\": 1, \"questionType\": 1, \"questionId\": \"3_WeatherDebug\", \"learnToolsVersion\": \"0.3.4\", \"failureMessage\": \"\", \"exceptionClass\": \"\", \"trace\": \"\"}}, \"*\")"
      ],
      "text/plain": [
       "<IPython.core.display.Javascript object>"
      ]
     },
     "metadata": {},
     "output_type": "display_data"
    },
    {
     "data": {
      "text/markdown": [
       "<span style=\"color:#33cc33\">Correct:</span> \n",
       "\n",
       "One example of a failing test case is:\n",
       "\n",
       "```python\n",
       "have_umbrella = False\n",
       "rain_level = 0.0\n",
       "have_hood = False\n",
       "is_workday = False\n",
       "```\n",
       "\n",
       "Clearly we're prepared for the weather in this case. It's not raining. Not only that, it's not a workday, so we don't even need to leave the house! But our function will return False on these inputs.\n",
       "\n",
       "The key problem is that Python implictly parenthesizes the last part as:\n",
       "\n",
       "```python\n",
       "(not (rain_level > 0)) and is_workday\n",
       "```\n",
       "\n",
       "Whereas what we were trying to express would look more like:\n",
       "\n",
       "```python\n",
       "not (rain_level > 0 and is_workday)\n",
       "```\n"
      ],
      "text/plain": [
       "Correct: \n",
       "\n",
       "One example of a failing test case is:\n",
       "\n",
       "```python\n",
       "have_umbrella = False\n",
       "rain_level = 0.0\n",
       "have_hood = False\n",
       "is_workday = False\n",
       "```\n",
       "\n",
       "Clearly we're prepared for the weather in this case. It's not raining. Not only that, it's not a workday, so we don't even need to leave the house! But our function will return False on these inputs.\n",
       "\n",
       "The key problem is that Python implictly parenthesizes the last part as:\n",
       "\n",
       "```python\n",
       "(not (rain_level > 0)) and is_workday\n",
       "```\n",
       "\n",
       "Whereas what we were trying to express would look more like:\n",
       "\n",
       "```python\n",
       "not (rain_level > 0 and is_workday)\n",
       "```"
      ]
     },
     "metadata": {},
     "output_type": "display_data"
    }
   ],
   "source": [
    "def prepared_for_weather(have_umbrella, rain_level, have_hood, is_workday):\n",
    "    # Don't change this code. Our goal is just to find the bug, not fix it!\n",
    "    return have_umbrella or rain_level < 5 and have_hood or not rain_level > 0 and is_workday\n",
    "\n",
    "# Change the values of these inputs so they represent a case where prepared_for_weather\n",
    "# returns the wrong answer.\n",
    "have_umbrella = False\n",
    "rain_level = 5.5\n",
    "have_hood = True\n",
    "is_workday = False\n",
    "\n",
    "# Check what the function returns given the current values of the variables above\n",
    "actual = prepared_for_weather(have_umbrella, rain_level, have_hood, is_workday)\n",
    "print(actual)\n",
    "\n",
    "# Check your answer\n",
    "q3.check()"
   ]
  },
  {
   "cell_type": "code",
   "execution_count": 9,
   "id": "014fd0ca",
   "metadata": {
    "execution": {
     "iopub.execute_input": "2021-08-26T04:58:31.475577Z",
     "iopub.status.busy": "2021-08-26T04:58:31.474629Z",
     "iopub.status.idle": "2021-08-26T04:58:31.478365Z",
     "shell.execute_reply": "2021-08-26T04:58:31.477700Z",
     "shell.execute_reply.started": "2021-08-26T04:57:31.939594Z"
    },
    "papermill": {
     "duration": 0.044627,
     "end_time": "2021-08-26T04:58:31.478508",
     "exception": false,
     "start_time": "2021-08-26T04:58:31.433881",
     "status": "completed"
    },
    "tags": []
   },
   "outputs": [],
   "source": [
    "#q3.hint()\n",
    "#q3.solution()"
   ]
  },
  {
   "cell_type": "markdown",
   "id": "6ebaa82f",
   "metadata": {
    "papermill": {
     "duration": 0.03398,
     "end_time": "2021-08-26T04:58:31.547148",
     "exception": false,
     "start_time": "2021-08-26T04:58:31.513168",
     "status": "completed"
    },
    "tags": []
   },
   "source": [
    "# 4.\n",
    "\n",
    "The function `is_negative` below is implemented correctly - it returns True if the given number is negative and False otherwise.\n",
    "\n",
    "However, it's more verbose than it needs to be. We can actually reduce the number of lines of code in this function by *75%* while keeping the same behaviour. \n",
    "\n",
    "See if you can come up with an equivalent body that uses just **one line** of code, and put it in the function `concise_is_negative`. (HINT: you don't even need Python's ternary syntax)"
   ]
  },
  {
   "cell_type": "code",
   "execution_count": 10,
   "id": "d9030bde",
   "metadata": {
    "execution": {
     "iopub.execute_input": "2021-08-26T04:58:31.627524Z",
     "iopub.status.busy": "2021-08-26T04:58:31.626450Z",
     "iopub.status.idle": "2021-08-26T04:58:31.635068Z",
     "shell.execute_reply": "2021-08-26T04:58:31.634346Z",
     "shell.execute_reply.started": "2021-08-26T04:57:31.945779Z"
    },
    "papermill": {
     "duration": 0.05092,
     "end_time": "2021-08-26T04:58:31.635219",
     "exception": false,
     "start_time": "2021-08-26T04:58:31.584299",
     "status": "completed"
    },
    "tags": []
   },
   "outputs": [
    {
     "data": {
      "application/javascript": [
       "parent.postMessage({\"jupyterEvent\": \"custom.exercise_interaction\", \"data\": {\"outcomeType\": 1, \"valueTowardsCompletion\": 0.2, \"interactionType\": 1, \"questionType\": 2, \"questionId\": \"4_ConciseIsNegative\", \"learnToolsVersion\": \"0.3.4\", \"failureMessage\": \"\", \"exceptionClass\": \"\", \"trace\": \"\"}}, \"*\")"
      ],
      "text/plain": [
       "<IPython.core.display.Javascript object>"
      ]
     },
     "metadata": {},
     "output_type": "display_data"
    },
    {
     "data": {
      "text/markdown": [
       "<span style=\"color:#33cc33\">Correct</span>"
      ],
      "text/plain": [
       "Correct"
      ]
     },
     "metadata": {},
     "output_type": "display_data"
    }
   ],
   "source": [
    "def is_negative(number):\n",
    "    if number < 0:\n",
    "        return True\n",
    "    else:\n",
    "        return False\n",
    "\n",
    "def concise_is_negative(number):\n",
    "    return True if number < 0 else False\n",
    "\n",
    "# Check your answer\n",
    "q4.check()"
   ]
  },
  {
   "cell_type": "code",
   "execution_count": 11,
   "id": "a8d4b638",
   "metadata": {
    "execution": {
     "iopub.execute_input": "2021-08-26T04:58:31.710590Z",
     "iopub.status.busy": "2021-08-26T04:58:31.709951Z",
     "iopub.status.idle": "2021-08-26T04:58:31.712218Z",
     "shell.execute_reply": "2021-08-26T04:58:31.711542Z",
     "shell.execute_reply.started": "2021-08-26T04:57:31.961286Z"
    },
    "papermill": {
     "duration": 0.041901,
     "end_time": "2021-08-26T04:58:31.712373",
     "exception": false,
     "start_time": "2021-08-26T04:58:31.670472",
     "status": "completed"
    },
    "tags": []
   },
   "outputs": [],
   "source": [
    "#q4.hint()\n",
    "#q4.solution()"
   ]
  },
  {
   "cell_type": "markdown",
   "id": "598c6514",
   "metadata": {
    "papermill": {
     "duration": 0.035531,
     "end_time": "2021-08-26T04:58:31.783418",
     "exception": false,
     "start_time": "2021-08-26T04:58:31.747887",
     "status": "completed"
    },
    "tags": []
   },
   "source": [
    "# 5a.\n",
    "\n",
    "The boolean variables `ketchup`, `mustard` and `onion` represent whether a customer wants a particular topping on their hot dog. We want to implement a number of boolean functions that correspond to some yes-or-no questions about the customer's order. For example:"
   ]
  },
  {
   "cell_type": "code",
   "execution_count": 12,
   "id": "ba5a0630",
   "metadata": {
    "execution": {
     "iopub.execute_input": "2021-08-26T04:58:31.864729Z",
     "iopub.status.busy": "2021-08-26T04:58:31.863710Z",
     "iopub.status.idle": "2021-08-26T04:58:31.866974Z",
     "shell.execute_reply": "2021-08-26T04:58:31.866210Z",
     "shell.execute_reply.started": "2021-08-26T04:57:31.975583Z"
    },
    "papermill": {
     "duration": 0.046048,
     "end_time": "2021-08-26T04:58:31.867147",
     "exception": false,
     "start_time": "2021-08-26T04:58:31.821099",
     "status": "completed"
    },
    "tags": []
   },
   "outputs": [],
   "source": [
    "def onionless(ketchup, mustard, onion):\n",
    "    \"\"\"Return whether the customer doesn't want onions.\n",
    "    \"\"\"\n",
    "    return not onion"
   ]
  },
  {
   "cell_type": "code",
   "execution_count": 13,
   "id": "89afa51e",
   "metadata": {
    "execution": {
     "iopub.execute_input": "2021-08-26T04:58:31.943566Z",
     "iopub.status.busy": "2021-08-26T04:58:31.942885Z",
     "iopub.status.idle": "2021-08-26T04:58:31.950948Z",
     "shell.execute_reply": "2021-08-26T04:58:31.950400Z",
     "shell.execute_reply.started": "2021-08-26T04:57:31.987832Z"
    },
    "papermill": {
     "duration": 0.048369,
     "end_time": "2021-08-26T04:58:31.951087",
     "exception": false,
     "start_time": "2021-08-26T04:58:31.902718",
     "status": "completed"
    },
    "tags": []
   },
   "outputs": [
    {
     "data": {
      "application/javascript": [
       "parent.postMessage({\"jupyterEvent\": \"custom.exercise_interaction\", \"data\": {\"outcomeType\": 1, \"valueTowardsCompletion\": 0.2, \"interactionType\": 1, \"questionType\": 2, \"questionId\": \"5.1_AllToppings\", \"learnToolsVersion\": \"0.3.4\", \"failureMessage\": \"\", \"exceptionClass\": \"\", \"trace\": \"\"}}, \"*\")"
      ],
      "text/plain": [
       "<IPython.core.display.Javascript object>"
      ]
     },
     "metadata": {},
     "output_type": "display_data"
    },
    {
     "data": {
      "text/markdown": [
       "<span style=\"color:#33cc33\">Correct</span>"
      ],
      "text/plain": [
       "Correct"
      ]
     },
     "metadata": {},
     "output_type": "display_data"
    }
   ],
   "source": [
    "def wants_all_toppings(ketchup, mustard, onion):\n",
    "    \"\"\"Return whether the customer wants \"the works\" (all 3 toppings)\n",
    "    \"\"\"\n",
    "    return all([ketchup, mustard, onion])\n",
    "\n",
    "# Check your answer\n",
    "q5.a.check()"
   ]
  },
  {
   "cell_type": "code",
   "execution_count": 14,
   "id": "9f6a728b",
   "metadata": {
    "execution": {
     "iopub.execute_input": "2021-08-26T04:58:32.029435Z",
     "iopub.status.busy": "2021-08-26T04:58:32.028467Z",
     "iopub.status.idle": "2021-08-26T04:58:32.033038Z",
     "shell.execute_reply": "2021-08-26T04:58:32.032381Z",
     "shell.execute_reply.started": "2021-08-26T04:57:32.005604Z"
    },
    "papermill": {
     "duration": 0.045183,
     "end_time": "2021-08-26T04:58:32.033188",
     "exception": false,
     "start_time": "2021-08-26T04:58:31.988005",
     "status": "completed"
    },
    "tags": []
   },
   "outputs": [],
   "source": [
    "#q5.a.hint()\n",
    "#q5.a.solution()"
   ]
  },
  {
   "cell_type": "markdown",
   "id": "45fcbc3e",
   "metadata": {
    "papermill": {
     "duration": 0.037919,
     "end_time": "2021-08-26T04:58:32.110292",
     "exception": false,
     "start_time": "2021-08-26T04:58:32.072373",
     "status": "completed"
    },
    "tags": []
   },
   "source": [
    "# 5b.\n",
    "\n",
    "For the next function, fill in the body to match the English description in the docstring. "
   ]
  },
  {
   "cell_type": "code",
   "execution_count": 15,
   "id": "9a222b94",
   "metadata": {
    "execution": {
     "iopub.execute_input": "2021-08-26T04:58:32.194710Z",
     "iopub.status.busy": "2021-08-26T04:58:32.194064Z",
     "iopub.status.idle": "2021-08-26T04:58:32.200690Z",
     "shell.execute_reply": "2021-08-26T04:58:32.200034Z",
     "shell.execute_reply.started": "2021-08-26T04:57:32.013248Z"
    },
    "papermill": {
     "duration": 0.051925,
     "end_time": "2021-08-26T04:58:32.200837",
     "exception": false,
     "start_time": "2021-08-26T04:58:32.148912",
     "status": "completed"
    },
    "tags": []
   },
   "outputs": [
    {
     "data": {
      "application/javascript": [
       "parent.postMessage({\"jupyterEvent\": \"custom.exercise_interaction\", \"data\": {\"outcomeType\": 1, \"valueTowardsCompletion\": 0.2, \"interactionType\": 1, \"questionType\": 2, \"questionId\": \"5.2_PlainDog\", \"learnToolsVersion\": \"0.3.4\", \"failureMessage\": \"\", \"exceptionClass\": \"\", \"trace\": \"\"}}, \"*\")"
      ],
      "text/plain": [
       "<IPython.core.display.Javascript object>"
      ]
     },
     "metadata": {},
     "output_type": "display_data"
    },
    {
     "data": {
      "text/markdown": [
       "<span style=\"color:#33cc33\">Correct:</span> \n",
       "\n",
       "One solution looks like:\n",
       "```python\n",
       "return not ketchup and not mustard and not onion\n",
       "```\n",
       "\n",
       "We can also [\"factor out\" the nots](https://en.wikipedia.org/wiki/De_Morgan%27s_laws) to get:\n",
       "\n",
       "```python\n",
       "return not (ketchup or mustard or onion)\n",
       "```"
      ],
      "text/plain": [
       "Correct: \n",
       "\n",
       "One solution looks like:\n",
       "```python\n",
       "return not ketchup and not mustard and not onion\n",
       "```\n",
       "\n",
       "We can also [\"factor out\" the nots](https://en.wikipedia.org/wiki/De_Morgan%27s_laws) to get:\n",
       "\n",
       "```python\n",
       "return not (ketchup or mustard or onion)\n",
       "```"
      ]
     },
     "metadata": {},
     "output_type": "display_data"
    }
   ],
   "source": [
    "def wants_plain_hotdog(ketchup, mustard, onion):\n",
    "    \"\"\"Return whether the customer wants a plain hot dog with no toppings.\n",
    "    \"\"\"\n",
    "    return not any([ketchup, mustard, onion])\n",
    "\n",
    "# Check your answer\n",
    "q5.b.check()"
   ]
  },
  {
   "cell_type": "code",
   "execution_count": 16,
   "id": "e804f2da",
   "metadata": {
    "execution": {
     "iopub.execute_input": "2021-08-26T04:58:32.282548Z",
     "iopub.status.busy": "2021-08-26T04:58:32.281899Z",
     "iopub.status.idle": "2021-08-26T04:58:32.285062Z",
     "shell.execute_reply": "2021-08-26T04:58:32.284370Z",
     "shell.execute_reply.started": "2021-08-26T04:57:32.028670Z"
    },
    "papermill": {
     "duration": 0.045538,
     "end_time": "2021-08-26T04:58:32.285256",
     "exception": false,
     "start_time": "2021-08-26T04:58:32.239718",
     "status": "completed"
    },
    "tags": []
   },
   "outputs": [],
   "source": [
    "#q5.b.hint()\n",
    "#q5.b.solution()"
   ]
  },
  {
   "cell_type": "markdown",
   "id": "a8596b33",
   "metadata": {
    "papermill": {
     "duration": 0.037423,
     "end_time": "2021-08-26T04:58:32.361813",
     "exception": false,
     "start_time": "2021-08-26T04:58:32.324390",
     "status": "completed"
    },
    "tags": []
   },
   "source": [
    "# 5c.\n",
    "\n",
    "You know what to do: for the next function, fill in the body to match the English description in the docstring."
   ]
  },
  {
   "cell_type": "code",
   "execution_count": 17,
   "id": "c5f06e92",
   "metadata": {
    "execution": {
     "iopub.execute_input": "2021-08-26T04:58:32.442459Z",
     "iopub.status.busy": "2021-08-26T04:58:32.441761Z",
     "iopub.status.idle": "2021-08-26T04:58:32.451122Z",
     "shell.execute_reply": "2021-08-26T04:58:32.450416Z",
     "shell.execute_reply.started": "2021-08-26T04:57:32.033870Z"
    },
    "papermill": {
     "duration": 0.051584,
     "end_time": "2021-08-26T04:58:32.451286",
     "exception": false,
     "start_time": "2021-08-26T04:58:32.399702",
     "status": "completed"
    },
    "tags": []
   },
   "outputs": [
    {
     "data": {
      "application/javascript": [
       "parent.postMessage({\"jupyterEvent\": \"custom.exercise_interaction\", \"data\": {\"outcomeType\": 1, \"valueTowardsCompletion\": 0.2, \"interactionType\": 1, \"questionType\": 2, \"questionId\": \"5.3_OneSauce\", \"learnToolsVersion\": \"0.3.4\", \"failureMessage\": \"\", \"exceptionClass\": \"\", \"trace\": \"\"}}, \"*\")"
      ],
      "text/plain": [
       "<IPython.core.display.Javascript object>"
      ]
     },
     "metadata": {},
     "output_type": "display_data"
    },
    {
     "data": {
      "text/markdown": [
       "<span style=\"color:#33cc33\">Correct</span>"
      ],
      "text/plain": [
       "Correct"
      ]
     },
     "metadata": {},
     "output_type": "display_data"
    }
   ],
   "source": [
    "def exactly_one_sauce(ketchup, mustard, onion):\n",
    "    \"\"\"Return whether the customer wants either ketchup or mustard, but not both.\n",
    "    (You may be familiar with this operation under the name \"exclusive or\")\n",
    "    \"\"\"\n",
    "    return bool(ketchup ^ mustard) and onion\n",
    "\n",
    "# Check your answer\n",
    "q5.c.check()"
   ]
  },
  {
   "cell_type": "code",
   "execution_count": 18,
   "id": "abbffb96",
   "metadata": {
    "execution": {
     "iopub.execute_input": "2021-08-26T04:58:32.533773Z",
     "iopub.status.busy": "2021-08-26T04:58:32.532778Z",
     "iopub.status.idle": "2021-08-26T04:58:32.536426Z",
     "shell.execute_reply": "2021-08-26T04:58:32.536928Z",
     "shell.execute_reply.started": "2021-08-26T04:57:32.049699Z"
    },
    "papermill": {
     "duration": 0.046913,
     "end_time": "2021-08-26T04:58:32.537103",
     "exception": false,
     "start_time": "2021-08-26T04:58:32.490190",
     "status": "completed"
    },
    "tags": []
   },
   "outputs": [],
   "source": [
    "#q5.c.hint()\n",
    "#q5.c.solution()"
   ]
  },
  {
   "cell_type": "markdown",
   "id": "c8c96e16",
   "metadata": {
    "papermill": {
     "duration": 0.03924,
     "end_time": "2021-08-26T04:58:32.615377",
     "exception": false,
     "start_time": "2021-08-26T04:58:32.576137",
     "status": "completed"
    },
    "tags": []
   },
   "source": [
    "# 6. <span title=\"A bit spicy\" style=\"color: darkgreen \">🌶️</span>\n",
    "\n",
    "We’ve seen that calling `bool()` on an integer returns `False` if it’s equal to 0 and `True` otherwise. What happens if we call `int()` on a bool? Try it out in the notebook cell below.\n",
    "\n",
    "Can you take advantage of this to write a succinct function that corresponds to the English sentence \"does the customer want exactly one topping?\"?"
   ]
  },
  {
   "cell_type": "code",
   "execution_count": 19,
   "id": "51c78305",
   "metadata": {
    "execution": {
     "iopub.execute_input": "2021-08-26T04:58:32.699805Z",
     "iopub.status.busy": "2021-08-26T04:58:32.698543Z",
     "iopub.status.idle": "2021-08-26T04:58:32.708590Z",
     "shell.execute_reply": "2021-08-26T04:58:32.707886Z",
     "shell.execute_reply.started": "2021-08-26T04:57:32.058412Z"
    },
    "papermill": {
     "duration": 0.052763,
     "end_time": "2021-08-26T04:58:32.708737",
     "exception": false,
     "start_time": "2021-08-26T04:58:32.655974",
     "status": "completed"
    },
    "tags": []
   },
   "outputs": [
    {
     "data": {
      "application/javascript": [
       "parent.postMessage({\"jupyterEvent\": \"custom.exercise_interaction\", \"data\": {\"outcomeType\": 1, \"valueTowardsCompletion\": 0.2, \"interactionType\": 1, \"questionType\": 2, \"questionId\": \"6_OneTopping\", \"learnToolsVersion\": \"0.3.4\", \"failureMessage\": \"\", \"exceptionClass\": \"\", \"trace\": \"\"}}, \"*\")"
      ],
      "text/plain": [
       "<IPython.core.display.Javascript object>"
      ]
     },
     "metadata": {},
     "output_type": "display_data"
    },
    {
     "data": {
      "text/markdown": [
       "<span style=\"color:#33cc33\">Correct:</span> \n",
       "\n",
       "This condition would be pretty complicated to express using just `and`, `or` and `not`, but using boolean-to-integer conversion gives us this short solution:\n",
       "```python\n",
       "return (int(ketchup) + int(mustard) + int(onion)) == 1\n",
       "```\n",
       "\n",
       "Fun fact: we don't technically need to call `int` on the arguments. Just by doing addition with booleans, Python implicitly does the integer conversion. So we could also write...\n",
       "\n",
       "```python\n",
       "return (ketchup + mustard + onion) == 1\n",
       "```"
      ],
      "text/plain": [
       "Correct: \n",
       "\n",
       "This condition would be pretty complicated to express using just `and`, `or` and `not`, but using boolean-to-integer conversion gives us this short solution:\n",
       "```python\n",
       "return (int(ketchup) + int(mustard) + int(onion)) == 1\n",
       "```\n",
       "\n",
       "Fun fact: we don't technically need to call `int` on the arguments. Just by doing addition with booleans, Python implicitly does the integer conversion. So we could also write...\n",
       "\n",
       "```python\n",
       "return (ketchup + mustard + onion) == 1\n",
       "```"
      ]
     },
     "metadata": {},
     "output_type": "display_data"
    }
   ],
   "source": [
    "def exactly_one_topping(ketchup, mustard, onion):\n",
    "    \"\"\"Return whether the customer wants exactly one of the three available toppings\n",
    "    on their hot dog.\n",
    "    \"\"\"\n",
    "    return sum([ketchup, mustard, onion]) == 1\n",
    "\n",
    "# Check your answer\n",
    "q6.check()"
   ]
  },
  {
   "cell_type": "code",
   "execution_count": 20,
   "id": "deed24fa",
   "metadata": {
    "execution": {
     "iopub.execute_input": "2021-08-26T04:58:32.794726Z",
     "iopub.status.busy": "2021-08-26T04:58:32.794060Z",
     "iopub.status.idle": "2021-08-26T04:58:32.798452Z",
     "shell.execute_reply": "2021-08-26T04:58:32.797727Z",
     "shell.execute_reply.started": "2021-08-26T04:57:32.075206Z"
    },
    "papermill": {
     "duration": 0.048305,
     "end_time": "2021-08-26T04:58:32.798601",
     "exception": false,
     "start_time": "2021-08-26T04:58:32.750296",
     "status": "completed"
    },
    "tags": []
   },
   "outputs": [],
   "source": [
    "#q6.hint()\n",
    "#q6.solution()"
   ]
  },
  {
   "cell_type": "markdown",
   "id": "f32bfb23",
   "metadata": {
    "papermill": {
     "duration": 0.038745,
     "end_time": "2021-08-26T04:58:32.878040",
     "exception": false,
     "start_time": "2021-08-26T04:58:32.839295",
     "status": "completed"
    },
    "tags": []
   },
   "source": [
    "# 7. <span title=\"A bit spicy\" style=\"color: darkgreen \">🌶️</span> (Optional)\n",
    "\n",
    "In this problem we'll be working with a simplified version of [blackjack](https://en.wikipedia.org/wiki/Blackjack) (aka twenty-one). In this version there is one player (who you'll control) and a dealer. Play proceeds as follows:\n",
    "\n",
    "- The player is dealt two face-up cards. The dealer is dealt one face-up card.\n",
    "- The player may ask to be dealt another card ('hit') as many times as they wish. If the sum of their cards exceeds 21, they lose the round immediately.\n",
    "- The dealer then deals additional cards to himself until either:\n",
    "    - the sum of the dealer's cards exceeds 21, in which case the player wins the round\n",
    "    - the sum of the dealer's cards is greater than or equal to 17. If the player's total is greater than the dealer's, the player wins. Otherwise, the dealer wins (even in case of a tie).\n",
    "    \n",
    "When calculating the sum of cards, Jack, Queen, and King count for 10. Aces can count as 1 or 11 (when referring to a player's \"total\" above, we mean the largest total that can be made without exceeding 21. So e.g. A+8 = 19, A+8+8 = 17)\n",
    "\n",
    "For this problem, you'll write a function representing the player's decision-making strategy in this game. We've provided a very unintelligent implementation below:"
   ]
  },
  {
   "cell_type": "code",
   "execution_count": 21,
   "id": "ec04d008",
   "metadata": {
    "execution": {
     "iopub.execute_input": "2021-08-26T04:58:32.962667Z",
     "iopub.status.busy": "2021-08-26T04:58:32.961938Z",
     "iopub.status.idle": "2021-08-26T04:58:32.965173Z",
     "shell.execute_reply": "2021-08-26T04:58:32.964602Z",
     "shell.execute_reply.started": "2021-08-26T04:57:32.085118Z"
    },
    "papermill": {
     "duration": 0.048032,
     "end_time": "2021-08-26T04:58:32.965322",
     "exception": false,
     "start_time": "2021-08-26T04:58:32.917290",
     "status": "completed"
    },
    "tags": []
   },
   "outputs": [],
   "source": [
    "def should_hit(dealer_total, player_total, player_low_aces, player_high_aces):\n",
    "    \"\"\"Return True if the player should hit (request another card) given the current game\n",
    "    state, or False if the player should stay.\n",
    "    When calculating a hand's total value, we count aces as \"high\" (with value 11) if doing so\n",
    "    doesn't bring the total above 21, otherwise we count them as low (with value 1). \n",
    "    For example, if the player's hand is {A, A, A, 7}, we will count it as 11 + 1 + 1 + 7,\n",
    "    and therefore set player_total=20, player_low_aces=2, player_high_aces=1.\n",
    "    \"\"\"\n",
    "    if player_total > dealer_total:\n",
    "        return False"
   ]
  },
  {
   "cell_type": "markdown",
   "id": "7324c258",
   "metadata": {
    "papermill": {
     "duration": 0.040662,
     "end_time": "2021-08-26T04:58:33.045595",
     "exception": false,
     "start_time": "2021-08-26T04:58:33.004933",
     "status": "completed"
    },
    "tags": []
   },
   "source": [
    "This very conservative agent *always* sticks with the hand of two cards that they're dealt.\n",
    "\n",
    "We'll be simulating games between your player agent and our own dealer agent by calling your function.\n",
    "\n",
    "Try running the function below to see an example of a simulated game:"
   ]
  },
  {
   "cell_type": "code",
   "execution_count": 22,
   "id": "0b74c8e2",
   "metadata": {
    "execution": {
     "iopub.execute_input": "2021-08-26T04:58:33.131897Z",
     "iopub.status.busy": "2021-08-26T04:58:33.131081Z",
     "iopub.status.idle": "2021-08-26T04:58:33.136740Z",
     "shell.execute_reply": "2021-08-26T04:58:33.135231Z",
     "shell.execute_reply.started": "2021-08-26T04:57:32.098036Z"
    },
    "papermill": {
     "duration": 0.050674,
     "end_time": "2021-08-26T04:58:33.137119",
     "exception": false,
     "start_time": "2021-08-26T04:58:33.086445",
     "status": "completed"
    },
    "tags": []
   },
   "outputs": [
    {
     "name": "stdout",
     "output_type": "stream",
     "text": [
      "Player starts with 3 and 9 (total = 12)\n",
      "Dealer starts with 7\n",
      "\n",
      "__Player's turn__\n",
      "Player stays\n",
      "\n",
      "__Dealer's turn__\n",
      "Dealer hits and receives 5. (total = 12)\n",
      "Dealer hits and receives 7. (total = 19)\n",
      "Dealer stands.\n",
      "Dealer wins. 19 >= 12\n"
     ]
    }
   ],
   "source": [
    "q7.simulate_one_game()"
   ]
  },
  {
   "cell_type": "markdown",
   "id": "161ad681",
   "metadata": {
    "papermill": {
     "duration": 0.04186,
     "end_time": "2021-08-26T04:58:33.221174",
     "exception": false,
     "start_time": "2021-08-26T04:58:33.179314",
     "status": "completed"
    },
    "tags": []
   },
   "source": [
    "The real test of your agent's mettle is their average win rate over many games. Try calling the function below to simulate 50000 games of blackjack (it may take a couple seconds):"
   ]
  },
  {
   "cell_type": "code",
   "execution_count": 23,
   "id": "01b1b68d",
   "metadata": {
    "execution": {
     "iopub.execute_input": "2021-08-26T04:58:33.344828Z",
     "iopub.status.busy": "2021-08-26T04:58:33.321596Z",
     "iopub.status.idle": "2021-08-26T04:58:35.384182Z",
     "shell.execute_reply": "2021-08-26T04:58:35.384672Z",
     "shell.execute_reply.started": "2021-08-26T04:57:32.120328Z"
    },
    "papermill": {
     "duration": 2.12323,
     "end_time": "2021-08-26T04:58:35.384884",
     "exception": false,
     "start_time": "2021-08-26T04:58:33.261654",
     "status": "completed"
    },
    "tags": []
   },
   "outputs": [
    {
     "name": "stdout",
     "output_type": "stream",
     "text": [
      "Player won 18941 out of 50000 games (win rate = 37.9%)\n"
     ]
    }
   ],
   "source": [
    "q7.simulate(n_games=50000)"
   ]
  },
  {
   "cell_type": "markdown",
   "id": "846b3c34",
   "metadata": {
    "papermill": {
     "duration": 0.040723,
     "end_time": "2021-08-26T04:58:35.465917",
     "exception": false,
     "start_time": "2021-08-26T04:58:35.425194",
     "status": "completed"
    },
    "tags": []
   },
   "source": [
    "Our dumb agent that completely ignores the game state still manages to win shockingly often!\n",
    "\n",
    "Try adding some more smarts to the `should_hit` function and see how it affects the results."
   ]
  },
  {
   "cell_type": "code",
   "execution_count": 24,
   "id": "d67871db",
   "metadata": {
    "execution": {
     "iopub.execute_input": "2021-08-26T04:58:35.564485Z",
     "iopub.status.busy": "2021-08-26T04:58:35.559036Z",
     "iopub.status.idle": "2021-08-26T04:58:37.562053Z",
     "shell.execute_reply": "2021-08-26T04:58:37.561258Z",
     "shell.execute_reply.started": "2021-08-26T04:57:34.102531Z"
    },
    "papermill": {
     "duration": 2.056614,
     "end_time": "2021-08-26T04:58:37.562226",
     "exception": false,
     "start_time": "2021-08-26T04:58:35.505612",
     "status": "completed"
    },
    "tags": []
   },
   "outputs": [
    {
     "name": "stdout",
     "output_type": "stream",
     "text": [
      "Player won 18971 out of 50000 games (win rate = 37.9%)\n"
     ]
    }
   ],
   "source": [
    "def should_hit(dealer_total, player_total, player_low_aces, player_high_aces):\n",
    "    \"\"\"Return True if the player should hit (request another card) given the current game\n",
    "    state, or False if the player should stay.\n",
    "    When calculating a hand's total value, we count aces as \"high\" (with value 11) if doing so\n",
    "    doesn't bring the total above 21, otherwise we count them as low (with value 1). \n",
    "    For example, if the player's hand is {A, A, A, 7}, we will count it as 11 + 1 + 1 + 7,\n",
    "    and therefore set player_total=20, player_low_aces=2, player_high_aces=1.\n",
    "    \"\"\"\n",
    "    return False\n",
    "\n",
    "q7.simulate(n_games=50000)"
   ]
  },
  {
   "cell_type": "markdown",
   "id": "dce1f0ae",
   "metadata": {
    "papermill": {
     "duration": 0.041255,
     "end_time": "2021-08-26T04:58:37.644662",
     "exception": false,
     "start_time": "2021-08-26T04:58:37.603407",
     "status": "completed"
    },
    "tags": []
   },
   "source": [
    "# Keep Going\n",
    "\n",
    "Learn about **[lists and tuples](https://www.kaggle.com/colinmorris/lists)** to handle multiple items of data in a systematic way."
   ]
  },
  {
   "cell_type": "markdown",
   "id": "89fded89",
   "metadata": {
    "papermill": {
     "duration": 0.043048,
     "end_time": "2021-08-26T04:58:37.728008",
     "exception": false,
     "start_time": "2021-08-26T04:58:37.684960",
     "status": "completed"
    },
    "tags": []
   },
   "source": [
    "---\n",
    "\n",
    "\n",
    "\n",
    "\n",
    "*Have questions or comments? Visit the [Learn Discussion forum](https://www.kaggle.com/learn-forum/161283) to chat with other Learners.*"
   ]
  }
 ],
 "metadata": {
  "kernelspec": {
   "display_name": "Python 3",
   "language": "python",
   "name": "python3"
  },
  "language_info": {
   "codemirror_mode": {
    "name": "ipython",
    "version": 3
   },
   "file_extension": ".py",
   "mimetype": "text/x-python",
   "name": "python",
   "nbconvert_exporter": "python",
   "pygments_lexer": "ipython3",
   "version": "3.7.10"
  },
  "papermill": {
   "default_parameters": {},
   "duration": 19.056482,
   "end_time": "2021-08-26T04:58:39.138593",
   "environment_variables": {},
   "exception": null,
   "input_path": "__notebook__.ipynb",
   "output_path": "__notebook__.ipynb",
   "parameters": {},
   "start_time": "2021-08-26T04:58:20.082111",
   "version": "2.3.3"
  }
 },
 "nbformat": 4,
 "nbformat_minor": 5
}
